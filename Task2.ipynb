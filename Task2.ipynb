{
 "cells": [
  {
   "cell_type": "code",
   "execution_count": 2,
   "metadata": {},
   "outputs": [],
   "source": [
    "import numpy as np\n",
    "import pandas as pd\n",
    "from sklearn.metrics import f1_score"
   ]
  },
  {
   "cell_type": "markdown",
   "metadata": {},
   "source": [
    "# Входные данные #"
   ]
  },
  {
   "cell_type": "code",
   "execution_count": 3,
   "metadata": {},
   "outputs": [
    {
     "data": {
      "text/html": [
       "<div>\n",
       "<style scoped>\n",
       "    .dataframe tbody tr th:only-of-type {\n",
       "        vertical-align: middle;\n",
       "    }\n",
       "\n",
       "    .dataframe tbody tr th {\n",
       "        vertical-align: top;\n",
       "    }\n",
       "\n",
       "    .dataframe thead th {\n",
       "        text-align: right;\n",
       "    }\n",
       "</style>\n",
       "<table border=\"1\" class=\"dataframe\">\n",
       "  <thead>\n",
       "    <tr style=\"text-align: right;\">\n",
       "      <th></th>\n",
       "      <th>id</th>\n",
       "      <th>url</th>\n",
       "      <th>title</th>\n",
       "      <th>target</th>\n",
       "    </tr>\n",
       "  </thead>\n",
       "  <tbody>\n",
       "    <tr>\n",
       "      <th>0</th>\n",
       "      <td>0</td>\n",
       "      <td>m.kp.md</td>\n",
       "      <td>Экс-министр экономики Молдовы - главе МИДЭИ, ц...</td>\n",
       "      <td>False</td>\n",
       "    </tr>\n",
       "    <tr>\n",
       "      <th>1</th>\n",
       "      <td>1</td>\n",
       "      <td>www.kp.by</td>\n",
       "      <td>Эта песня стала известна многим телезрителям б...</td>\n",
       "      <td>False</td>\n",
       "    </tr>\n",
       "    <tr>\n",
       "      <th>2</th>\n",
       "      <td>2</td>\n",
       "      <td>fanserials.tv</td>\n",
       "      <td>Банши 4 сезон 2 серия Бремя красоты смотреть о...</td>\n",
       "      <td>False</td>\n",
       "    </tr>\n",
       "    <tr>\n",
       "      <th>3</th>\n",
       "      <td>3</td>\n",
       "      <td>colorbox.spb.ru</td>\n",
       "      <td>Не Беси Меня Картинки</td>\n",
       "      <td>False</td>\n",
       "    </tr>\n",
       "    <tr>\n",
       "      <th>4</th>\n",
       "      <td>4</td>\n",
       "      <td>tula-sport.ru</td>\n",
       "      <td>В Новомосковске сыграют следж-хоккеисты алекси...</td>\n",
       "      <td>False</td>\n",
       "    </tr>\n",
       "  </tbody>\n",
       "</table>\n",
       "</div>"
      ],
      "text/plain": [
       "   id              url                                              title  \\\n",
       "0   0          m.kp.md  Экс-министр экономики Молдовы - главе МИДЭИ, ц...   \n",
       "1   1        www.kp.by  Эта песня стала известна многим телезрителям б...   \n",
       "2   2    fanserials.tv  Банши 4 сезон 2 серия Бремя красоты смотреть о...   \n",
       "3   3  colorbox.spb.ru                              Не Беси Меня Картинки   \n",
       "4   4    tula-sport.ru  В Новомосковске сыграют следж-хоккеисты алекси...   \n",
       "\n",
       "   target  \n",
       "0   False  \n",
       "1   False  \n",
       "2   False  \n",
       "3   False  \n",
       "4   False  "
      ]
     },
     "execution_count": 3,
     "metadata": {},
     "output_type": "execute_result"
    }
   ],
   "source": [
    "train_df = pd.read_csv(\"./data/train.csv\")\n",
    "train_df.head()"
   ]
  },
  {
   "cell_type": "markdown",
   "metadata": {},
   "source": [
    "Соотношение обычных и порнографических сайтов в обучающей выборке:"
   ]
  },
  {
   "cell_type": "code",
   "execution_count": 4,
   "metadata": {},
   "outputs": [
    {
     "data": {
      "text/plain": [
       "False    118594\n",
       "True      16715\n",
       "Name: target, dtype: int64"
      ]
     },
     "execution_count": 4,
     "metadata": {},
     "output_type": "execute_result"
    }
   ],
   "source": [
    "train_df['target'].value_counts()"
   ]
  },
  {
   "cell_type": "code",
   "execution_count": 5,
   "metadata": {},
   "outputs": [
    {
     "data": {
      "text/html": [
       "<div>\n",
       "<style scoped>\n",
       "    .dataframe tbody tr th:only-of-type {\n",
       "        vertical-align: middle;\n",
       "    }\n",
       "\n",
       "    .dataframe tbody tr th {\n",
       "        vertical-align: top;\n",
       "    }\n",
       "\n",
       "    .dataframe thead th {\n",
       "        text-align: right;\n",
       "    }\n",
       "</style>\n",
       "<table border=\"1\" class=\"dataframe\">\n",
       "  <thead>\n",
       "    <tr style=\"text-align: right;\">\n",
       "      <th></th>\n",
       "      <th>id</th>\n",
       "      <th>url</th>\n",
       "      <th>title</th>\n",
       "    </tr>\n",
       "  </thead>\n",
       "  <tbody>\n",
       "    <tr>\n",
       "      <th>0</th>\n",
       "      <td>135309</td>\n",
       "      <td>www.kommersant.ru</td>\n",
       "      <td>Шестой кассационный суд в Самаре начнет работу...</td>\n",
       "    </tr>\n",
       "    <tr>\n",
       "      <th>1</th>\n",
       "      <td>135310</td>\n",
       "      <td>urexpert.online</td>\n",
       "      <td>Что такое индексация алиментов, кем и в каких ...</td>\n",
       "    </tr>\n",
       "    <tr>\n",
       "      <th>2</th>\n",
       "      <td>135311</td>\n",
       "      <td>imperimeha.ru</td>\n",
       "      <td>Женщинам | Империя Меха - Part 12</td>\n",
       "    </tr>\n",
       "    <tr>\n",
       "      <th>3</th>\n",
       "      <td>135312</td>\n",
       "      <td>national-porn.com</td>\n",
       "      <td>Небритые, волосатые киски: Порно всех стран и ...</td>\n",
       "    </tr>\n",
       "    <tr>\n",
       "      <th>4</th>\n",
       "      <td>135313</td>\n",
       "      <td>2gis.ru</td>\n",
       "      <td>67</td>\n",
       "    </tr>\n",
       "  </tbody>\n",
       "</table>\n",
       "</div>"
      ],
      "text/plain": [
       "       id                url  \\\n",
       "0  135309  www.kommersant.ru   \n",
       "1  135310    urexpert.online   \n",
       "2  135311      imperimeha.ru   \n",
       "3  135312  national-porn.com   \n",
       "4  135313            2gis.ru   \n",
       "\n",
       "                                               title  \n",
       "0  Шестой кассационный суд в Самаре начнет работу...  \n",
       "1  Что такое индексация алиментов, кем и в каких ...  \n",
       "2                  Женщинам | Империя Меха - Part 12  \n",
       "3  Небритые, волосатые киски: Порно всех стран и ...  \n",
       "4                                                 67  "
      ]
     },
     "execution_count": 5,
     "metadata": {},
     "output_type": "execute_result"
    }
   ],
   "source": [
    "test_df = pd.read_csv(\"./data/test.csv\")\n",
    "test_df.head()"
   ]
  },
  {
   "cell_type": "markdown",
   "metadata": {},
   "source": [
    "# Самые простые соображения #\n",
    "## Матрица признаков ##\n",
    "В качестве текстов рассмотрим строки, получаемые объединением параметров **url** и **title**."
   ]
  },
  {
   "cell_type": "code",
   "execution_count": 6,
   "metadata": {},
   "outputs": [
    {
     "name": "stdout",
     "output_type": "stream",
     "text": [
      "['m.kp.md Экс-министр экономики Молдовы - главе МИДЭИ, цель которого сделать из республики не просителя, а донора: Надо избегать долгого нахождения н�'\n",
      " 'www.kp.by Эта песня стала известна многим телезрителям благодаря сериалу Диверсант-2'\n",
      " 'fanserials.tv Банши 4 сезон 2 серия Бремя красоты смотреть онлайн!'\n",
      " 'colorbox.spb.ru Не Беси Меня Картинки'\n",
      " 'tula-sport.ru В Новомосковске сыграют следж-хоккеисты алексинской «Звезды» и сборной Китая | Т...']\n"
     ]
    }
   ],
   "source": [
    "X = train_df[\"url\"].values + \" \" + train_df[\"title\"].values\n",
    "y = train_df[\"target\"].astype(int).values\n",
    "print(X[:5])"
   ]
  },
  {
   "cell_type": "markdown",
   "metadata": {},
   "source": [
    "<br/>К полученному набору текстов применим модуль **CountVectorizer**"
   ]
  },
  {
   "cell_type": "code",
   "execution_count": 6,
   "metadata": {},
   "outputs": [],
   "source": [
    "from sklearn.feature_extraction.text import CountVectorizer\n",
    "vectorizer = CountVectorizer()"
   ]
  },
  {
   "cell_type": "markdown",
   "metadata": {},
   "source": [
    "Давайте посмотрим на обучающую выборку:"
   ]
  },
  {
   "cell_type": "code",
   "execution_count": 7,
   "metadata": {},
   "outputs": [
    {
     "name": "stdout",
     "output_type": "stream",
     "text": [
      "Весь словарь содержит 215740 слов\n",
      "Cловарь для сайтов с порнографией содержит 28608 слов\n",
      "\n",
      "Наиболее часто встречающиеся слова на сайтах с порнографией:\n",
      "\n",
      "com : 7052\n",
      "порно : 5207\n",
      "porn : 4259\n",
      "видео : 3055\n",
      "net : 2902\n",
      "sex : 2330\n",
      "videos : 1971\n",
      "ru : 1948\n",
      "на : 1910\n",
      "www : 1811\n",
      "video : 1659\n",
      "онлайн : 1624\n",
      "hd : 1585\n",
      "xxx : 1499\n",
      "biqle : 1470\n",
      "porno : 1431\n",
      "daftsex : 1355\n",
      "смотреть : 1312\n",
      "free : 1257\n",
      "секс : 1163\n"
     ]
    }
   ],
   "source": [
    "vectorizer.fit(X)\n",
    "vocabulary_len = len(vectorizer.get_feature_names())\n",
    "print('Весь словарь содержит', vocabulary_len, 'слов')\n",
    "\n",
    "porn_id = []\n",
    "for id_ in train_df['id'].astype(int).values:\n",
    "    if y[id_] == 1:\n",
    "        porn_id.append(id_)\n",
    "\n",
    "X_porn = X[porn_id]\n",
    "X_porn_vectorized = vectorizer.fit_transform(X_porn)\n",
    "\n",
    "vocabulary_len = len(vectorizer.get_feature_names())\n",
    "print('Cловарь для сайтов с порнографией содержит', vocabulary_len, 'слов\\n')\n",
    "\n",
    "word_count = np.zeros(vocabulary_len)\n",
    "for id_ in range(len(porn_id)):\n",
    "    word_count += X_porn_vectorized.getrow(id_).toarray()[0]\n",
    "    \n",
    "dictionary = {}\n",
    "for id_ in range(vocabulary_len):\n",
    "    if word_count[id_] > 100:\n",
    "        dictionary.update([(vectorizer.get_feature_names()[id_], int(word_count[id_]))])\n",
    "\n",
    "sorted_dictionary = sorted(dictionary.items(), key = lambda i: i[1], reverse = True)\n",
    "\n",
    "print(\"Наиболее часто встречающиеся слова на сайтах с порнографией:\\n\")\n",
    "for i in sorted_dictionary[:20]:\n",
    "    print(i[0], ':', i[1])"
   ]
  },
  {
   "cell_type": "markdown",
   "metadata": {},
   "source": [
    "Для оценки качества модели используем перекресную проверку."
   ]
  },
  {
   "cell_type": "code",
   "execution_count": 7,
   "metadata": {},
   "outputs": [],
   "source": [
    "from sklearn.model_selection import StratifiedKFold\n",
    "skf = StratifiedKFold(n_splits=5)"
   ]
  },
  {
   "cell_type": "code",
   "execution_count": 12,
   "metadata": {},
   "outputs": [],
   "source": [
    "from sklearn.naive_bayes import MultinomialNB\n",
    "model = MultinomialNB()"
   ]
  },
  {
   "cell_type": "markdown",
   "metadata": {},
   "source": [
    "Результат для **MultinomialNB**:\n",
    "\n",
    "Train set (mean): 0.9255191562541937<br/>\n",
    "Test set (mean):  0.9310207266931716"
   ]
  },
  {
   "cell_type": "code",
   "execution_count": 9,
   "metadata": {},
   "outputs": [],
   "source": [
    "from sklearn.linear_model import LogisticRegression\n",
    "model = LogisticRegression(C=1, max_iter = 1000, solver='lbfgs')"
   ]
  },
  {
   "cell_type": "markdown",
   "metadata": {},
   "source": [
    "Результат для **LogisticRegression**:\n",
    "\n",
    "Train set (mean): 0.9904633707568836<br/>\n",
    "Test set (mean):  0.9655801283019537"
   ]
  },
  {
   "cell_type": "code",
   "execution_count": 18,
   "metadata": {},
   "outputs": [],
   "source": [
    "from sklearn.tree import DecisionTreeClassifier\n",
    "model = DecisionTreeClassifier(max_depth=5)"
   ]
  },
  {
   "cell_type": "markdown",
   "metadata": {},
   "source": [
    "Результат для **DecisionTreeClassifier**:\n",
    "\n",
    "Train set (mean): 0.735538626434425<br/>\n",
    "Test set (mean):  0.7335053799679688"
   ]
  },
  {
   "cell_type": "code",
   "execution_count": 10,
   "metadata": {},
   "outputs": [
    {
     "name": "stdout",
     "output_type": "stream",
     "text": [
      "Train set:\n",
      "0.9910650329877474\n",
      "Test set:\n",
      "0.9626543209876544\n",
      "\n",
      "\n",
      "Train set:\n",
      "0.9906838154867422\n",
      "Test set:\n",
      "0.9640820101741945\n",
      "\n",
      "\n",
      "Train set:\n",
      "0.9903388935013963\n",
      "Test set:\n",
      "0.9631457208943717\n",
      "\n",
      "\n",
      "Train set:\n",
      "0.9904955872369313\n",
      "Test set:\n",
      "0.9696136814780882\n",
      "\n",
      "\n",
      "Train set:\n",
      "0.989733524571601\n",
      "Test set:\n",
      "0.9684049079754601\n",
      "\n",
      "\n",
      "Train set (mean):\n",
      " 0.9904633707568836\n",
      "Test set (mean):\n",
      " 0.9655801283019537 \n",
      "\n"
     ]
    }
   ],
   "source": [
    "f1_mean_train = 0\n",
    "f1_mean_test  = 0\n",
    "for train, test in skf.split(X, y):\n",
    "    X_train_vectorized = vectorizer.fit_transform(X[train])\n",
    "    X_test_vectorized = vectorizer.transform(X[test])\n",
    "    \n",
    "    model.fit(X_train_vectorized, y[train])\n",
    "    print('Train set:')\n",
    "    y_pred = model.predict(X_train_vectorized)\n",
    "    f1 = f1_score(y[train], y_pred)\n",
    "    print(f1)\n",
    "    f1_mean_train += f1\n",
    "    \n",
    "    print('Test set:')\n",
    "    y_pred = model.predict(X_test_vectorized)\n",
    "    f1 = f1_score(y[test], y_pred)\n",
    "    print(f1)\n",
    "    f1_mean_test += f1\n",
    "    print('\\n')\n",
    "    \n",
    "print('Train set (mean):\\n', f1_mean_train/5)\n",
    "print('Test set (mean):\\n', f1_mean_test/5,'\\n')"
   ]
  },
  {
   "cell_type": "markdown",
   "metadata": {},
   "source": [
    "## Итоговая модель ##"
   ]
  },
  {
   "cell_type": "code",
   "execution_count": 11,
   "metadata": {},
   "outputs": [
    {
     "name": "stdout",
     "output_type": "stream",
     "text": [
      "Train set:\n",
      " 0.9908898944193062\n"
     ]
    }
   ],
   "source": [
    "X_train = train_df[\"url\"].values + \" \" + train_df[\"title\"].values \n",
    "X_test  = test_df[\"url\"].values  + \" \" + test_df[\"title\"].values \n",
    "\n",
    "y_train = train_df[\"target\"].astype(int).values\n",
    "\n",
    "X_train_vectorized = vectorizer.fit_transform(X_train)\n",
    "X_test_vectorized = vectorizer.transform(X_test)\n",
    "\n",
    "model = LogisticRegression(C=1, max_iter = 1000, solver='lbfgs')\n",
    "model.fit(X_train_vectorized, y_train)\n",
    "y_pred_train = model.predict(X_train_vectorized)\n",
    "print('Train set:\\n', f1_score(y_train, y_pred_train))\n",
    "\n",
    "y_pred_test = model.predict(X_test_vectorized)\n",
    "file = open('task2_output.txt', 'w')\n",
    "\n",
    "import csv\n",
    "i = 0\n",
    "with open('task2_result.csv', 'w') as file:\n",
    "    writer = csv.writer(file)\n",
    "    writer.writerow(['id', 'target'])\n",
    "    for id_ in test_df[\"id\"].values:\n",
    "        writer.writerow([id_, y_pred_test[i].astype(bool)])\n",
    "        i = i + 1"
   ]
  },
  {
   "cell_type": "markdown",
   "metadata": {},
   "source": [
    "Где прогноз оказался неверным:"
   ]
  },
  {
   "cell_type": "code",
   "execution_count": 12,
   "metadata": {},
   "outputs": [
    {
     "name": "stdout",
     "output_type": "stream",
     "text": [
      "Expected 'True', predicted 'False': 291 errors\n",
      "\n",
      "mail.ru Екатерина Коба голая - 191 тыс. результатов. Поиск Mail.Ru\n",
      "filmpornobesplatno.com 年轻美女的阴部和肛门被振动器和嗡嗡声搞砸了\n",
      "inseros.com Раздвинутые ножки Рамоны\n",
      "fotosdemulheresnuas.org 成熟的宝贝的阴道享受别致的handjob到凸轮 | 胖性爱视频\n",
      "pornososalka.com Результаты поиска по страпонит\n",
      "dvdpornrip.com Caribbeancom download all high quality » page 2\n",
      "vinceste.com Конча сына в ротике мамашки\n",
      "i-borneo.fr gif animй sexe gratuit\n",
      "mail.ru бесплатная жесткая порнуха онлайн - Поиск Mail.Ru\n",
      "mail.ru красивой женщине кончили в рот - Поиск Mail.Ru\n",
      "\n",
      "Expected 'False', predicted 'True': 11 errors\n",
      "\n",
      "intimi.lv Intim.lv - Sludinājumu serviss\n",
      "xn--e1afbimzh3a.cc Инцест с разговорами на Инцестик.cc - страница 4 из 82\n",
      "18comix.com CrazyDad3D - Love Me Tender Part 9 » 18Comix - Free Adult Comics\n",
      "minet.club туркменская секс изнасилование - минет клуб\n",
      "privat-zapisi.co Профиль пользователя - privat-zapisi.com\n",
      "mail.ru Секс Музыка для интимной Эротические моменты :: video.mail.ru\n",
      "video-kursi.net Мастерская рисованного видео - video-kursi.net\n",
      "translate.googleusercontent.com Bella Rossi - Gonzo Porn\n",
      "prostitutkimoskva.org Секс анальный [страница 49]\n",
      "www.artfile.ru Обои Девушка девушка, девушки, -unsort , блондинки, светловолосые, модель, lariz...\n"
     ]
    }
   ],
   "source": [
    "err_FP_count = 0\n",
    "err_FN_count = 0\n",
    "for id_ in train_df[\"id\"].astype(int).values:\n",
    "    if(y_pred_train[id_] < y_train[id_]):\n",
    "        err_FN_count += 1\n",
    "    if(y_pred_train[id_] > y_train[id_]):\n",
    "        err_FP_count += 1\n",
    "\n",
    "print(\"Expected 'True', predicted 'False':\", err_FN_count, 'errors\\n') \n",
    "count = 0\n",
    "for id_ in train_df[\"id\"].astype(int).values:  \n",
    "    if(y_pred_train[id_] < y_train[id_] and count < 10):\n",
    "        print(X_train[id_])\n",
    "        count += 1\n",
    "\n",
    "print(\"\\nExpected 'False', predicted 'True':\", err_FP_count, 'errors\\n') \n",
    "count = 0\n",
    "for id_ in train_df[\"id\"].astype(int).values:  \n",
    "    if(y_pred_train[id_] > y_train[id_] and count < 10):\n",
    "        print(X_train[id_])\n",
    "        count += 1\n"
   ]
  }
 ],
 "metadata": {
  "kernelspec": {
   "display_name": "Python 3",
   "language": "python",
   "name": "python3"
  },
  "language_info": {
   "codemirror_mode": {
    "name": "ipython",
    "version": 3
   },
   "file_extension": ".py",
   "mimetype": "text/x-python",
   "name": "python",
   "nbconvert_exporter": "python",
   "pygments_lexer": "ipython3",
   "version": "3.7.6"
  }
 },
 "nbformat": 4,
 "nbformat_minor": 4
}
