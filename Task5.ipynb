{
 "cells": [
  {
   "cell_type": "code",
   "execution_count": 1,
   "metadata": {},
   "outputs": [],
   "source": [
    "import pandas as pd\n",
    "import numpy as np\n",
    "import math\n",
    "\n",
    "from tqdm import tqdm_notebook\n",
    "import warnings\n",
    "warnings.filterwarnings(\"ignore\")\n",
    "\n",
    "from sklearn.linear_model import LogisticRegression, Lasso, Ridge\n",
    "from sklearn.tree         import DecisionTreeClassifier, DecisionTreeRegressor\n",
    "from sklearn.ensemble     import RandomForestClassifier, GradientBoostingClassifier, RandomForestRegressor, GradientBoostingRegressor\n",
    "\n",
    "from sklearn.model_selection import StratifiedKFold, RepeatedKFold, GridSearchCV\n",
    "from sklearn.preprocessing import StandardScaler\n",
    "\n",
    "from sklearn.metrics import mean_absolute_error as mae\n",
    "from sklearn.metrics import accuracy_score      as acc\n",
    "from sklearn.metrics import f1_score            as f1\n",
    "from sklearn.metrics import make_scorer"
   ]
  },
  {
   "cell_type": "code",
   "execution_count": 2,
   "metadata": {},
   "outputs": [
    {
     "data": {
      "text/html": [
       "<div>\n",
       "<style scoped>\n",
       "    .dataframe tbody tr th:only-of-type {\n",
       "        vertical-align: middle;\n",
       "    }\n",
       "\n",
       "    .dataframe tbody tr th {\n",
       "        vertical-align: top;\n",
       "    }\n",
       "\n",
       "    .dataframe thead th {\n",
       "        text-align: right;\n",
       "    }\n",
       "</style>\n",
       "<table border=\"1\" class=\"dataframe\">\n",
       "  <thead>\n",
       "    <tr style=\"text-align: right;\">\n",
       "      <th></th>\n",
       "      <th>id</th>\n",
       "      <th>date</th>\n",
       "      <th>street_id</th>\n",
       "      <th>build_tech</th>\n",
       "      <th>floor</th>\n",
       "      <th>area</th>\n",
       "      <th>rooms</th>\n",
       "      <th>balcon</th>\n",
       "      <th>metro_dist</th>\n",
       "      <th>g_lift</th>\n",
       "      <th>...</th>\n",
       "      <th>kw5</th>\n",
       "      <th>kw6</th>\n",
       "      <th>kw7</th>\n",
       "      <th>kw8</th>\n",
       "      <th>kw9</th>\n",
       "      <th>kw10</th>\n",
       "      <th>kw11</th>\n",
       "      <th>kw12</th>\n",
       "      <th>kw13</th>\n",
       "      <th>price</th>\n",
       "    </tr>\n",
       "  </thead>\n",
       "  <tbody>\n",
       "    <tr>\n",
       "      <th>0</th>\n",
       "      <td>0</td>\n",
       "      <td>2011-1</td>\n",
       "      <td>616</td>\n",
       "      <td>0.0</td>\n",
       "      <td>4</td>\n",
       "      <td>43</td>\n",
       "      <td>2</td>\n",
       "      <td>0</td>\n",
       "      <td>30.0</td>\n",
       "      <td>1.0</td>\n",
       "      <td>...</td>\n",
       "      <td>0</td>\n",
       "      <td>0</td>\n",
       "      <td>0</td>\n",
       "      <td>0</td>\n",
       "      <td>0</td>\n",
       "      <td>0</td>\n",
       "      <td>0</td>\n",
       "      <td>0</td>\n",
       "      <td>0</td>\n",
       "      <td>1738000</td>\n",
       "    </tr>\n",
       "    <tr>\n",
       "      <th>1</th>\n",
       "      <td>1</td>\n",
       "      <td>2011-1</td>\n",
       "      <td>112</td>\n",
       "      <td>0.0</td>\n",
       "      <td>3</td>\n",
       "      <td>33</td>\n",
       "      <td>1</td>\n",
       "      <td>0</td>\n",
       "      <td>15.0</td>\n",
       "      <td>1.0</td>\n",
       "      <td>...</td>\n",
       "      <td>0</td>\n",
       "      <td>0</td>\n",
       "      <td>0</td>\n",
       "      <td>0</td>\n",
       "      <td>0</td>\n",
       "      <td>0</td>\n",
       "      <td>0</td>\n",
       "      <td>0</td>\n",
       "      <td>0</td>\n",
       "      <td>1169000</td>\n",
       "    </tr>\n",
       "    <tr>\n",
       "      <th>2</th>\n",
       "      <td>2</td>\n",
       "      <td>2011-1</td>\n",
       "      <td>230</td>\n",
       "      <td>NaN</td>\n",
       "      <td>9</td>\n",
       "      <td>34</td>\n",
       "      <td>1</td>\n",
       "      <td>0</td>\n",
       "      <td>25.0</td>\n",
       "      <td>NaN</td>\n",
       "      <td>...</td>\n",
       "      <td>0</td>\n",
       "      <td>0</td>\n",
       "      <td>0</td>\n",
       "      <td>0</td>\n",
       "      <td>0</td>\n",
       "      <td>0</td>\n",
       "      <td>0</td>\n",
       "      <td>0</td>\n",
       "      <td>0</td>\n",
       "      <td>2821000</td>\n",
       "    </tr>\n",
       "    <tr>\n",
       "      <th>3</th>\n",
       "      <td>3</td>\n",
       "      <td>2011-1</td>\n",
       "      <td>302</td>\n",
       "      <td>1.0</td>\n",
       "      <td>4</td>\n",
       "      <td>60</td>\n",
       "      <td>3</td>\n",
       "      <td>0</td>\n",
       "      <td>15.0</td>\n",
       "      <td>0.0</td>\n",
       "      <td>...</td>\n",
       "      <td>0</td>\n",
       "      <td>0</td>\n",
       "      <td>0</td>\n",
       "      <td>0</td>\n",
       "      <td>0</td>\n",
       "      <td>0</td>\n",
       "      <td>0</td>\n",
       "      <td>0</td>\n",
       "      <td>0</td>\n",
       "      <td>5714000</td>\n",
       "    </tr>\n",
       "    <tr>\n",
       "      <th>4</th>\n",
       "      <td>4</td>\n",
       "      <td>2011-1</td>\n",
       "      <td>578</td>\n",
       "      <td>0.0</td>\n",
       "      <td>3</td>\n",
       "      <td>49</td>\n",
       "      <td>2</td>\n",
       "      <td>0</td>\n",
       "      <td>30.0</td>\n",
       "      <td>NaN</td>\n",
       "      <td>...</td>\n",
       "      <td>0</td>\n",
       "      <td>0</td>\n",
       "      <td>0</td>\n",
       "      <td>0</td>\n",
       "      <td>0</td>\n",
       "      <td>0</td>\n",
       "      <td>0</td>\n",
       "      <td>0</td>\n",
       "      <td>0</td>\n",
       "      <td>1660000</td>\n",
       "    </tr>\n",
       "    <tr>\n",
       "      <th>...</th>\n",
       "      <td>...</td>\n",
       "      <td>...</td>\n",
       "      <td>...</td>\n",
       "      <td>...</td>\n",
       "      <td>...</td>\n",
       "      <td>...</td>\n",
       "      <td>...</td>\n",
       "      <td>...</td>\n",
       "      <td>...</td>\n",
       "      <td>...</td>\n",
       "      <td>...</td>\n",
       "      <td>...</td>\n",
       "      <td>...</td>\n",
       "      <td>...</td>\n",
       "      <td>...</td>\n",
       "      <td>...</td>\n",
       "      <td>...</td>\n",
       "      <td>...</td>\n",
       "      <td>...</td>\n",
       "      <td>...</td>\n",
       "      <td>...</td>\n",
       "    </tr>\n",
       "    <tr>\n",
       "      <th>99995</th>\n",
       "      <td>99995</td>\n",
       "      <td>2012-3</td>\n",
       "      <td>612</td>\n",
       "      <td>0.0</td>\n",
       "      <td>3</td>\n",
       "      <td>36</td>\n",
       "      <td>1</td>\n",
       "      <td>0</td>\n",
       "      <td>30.0</td>\n",
       "      <td>NaN</td>\n",
       "      <td>...</td>\n",
       "      <td>0</td>\n",
       "      <td>0</td>\n",
       "      <td>0</td>\n",
       "      <td>0</td>\n",
       "      <td>0</td>\n",
       "      <td>0</td>\n",
       "      <td>0</td>\n",
       "      <td>0</td>\n",
       "      <td>0</td>\n",
       "      <td>3898000</td>\n",
       "    </tr>\n",
       "    <tr>\n",
       "      <th>99996</th>\n",
       "      <td>99996</td>\n",
       "      <td>2012-3</td>\n",
       "      <td>573</td>\n",
       "      <td>0.0</td>\n",
       "      <td>4</td>\n",
       "      <td>51</td>\n",
       "      <td>2</td>\n",
       "      <td>0</td>\n",
       "      <td>30.0</td>\n",
       "      <td>NaN</td>\n",
       "      <td>...</td>\n",
       "      <td>0</td>\n",
       "      <td>0</td>\n",
       "      <td>0</td>\n",
       "      <td>0</td>\n",
       "      <td>0</td>\n",
       "      <td>0</td>\n",
       "      <td>0</td>\n",
       "      <td>0</td>\n",
       "      <td>0</td>\n",
       "      <td>8698000</td>\n",
       "    </tr>\n",
       "    <tr>\n",
       "      <th>99997</th>\n",
       "      <td>99997</td>\n",
       "      <td>2012-3</td>\n",
       "      <td>550</td>\n",
       "      <td>NaN</td>\n",
       "      <td>9</td>\n",
       "      <td>48</td>\n",
       "      <td>2</td>\n",
       "      <td>0</td>\n",
       "      <td>30.0</td>\n",
       "      <td>0.0</td>\n",
       "      <td>...</td>\n",
       "      <td>0</td>\n",
       "      <td>0</td>\n",
       "      <td>0</td>\n",
       "      <td>0</td>\n",
       "      <td>0</td>\n",
       "      <td>0</td>\n",
       "      <td>0</td>\n",
       "      <td>0</td>\n",
       "      <td>0</td>\n",
       "      <td>6498000</td>\n",
       "    </tr>\n",
       "    <tr>\n",
       "      <th>99998</th>\n",
       "      <td>99998</td>\n",
       "      <td>2012-3</td>\n",
       "      <td>595</td>\n",
       "      <td>1.0</td>\n",
       "      <td>10</td>\n",
       "      <td>51</td>\n",
       "      <td>2</td>\n",
       "      <td>1</td>\n",
       "      <td>15.0</td>\n",
       "      <td>1.0</td>\n",
       "      <td>...</td>\n",
       "      <td>0</td>\n",
       "      <td>0</td>\n",
       "      <td>0</td>\n",
       "      <td>0</td>\n",
       "      <td>0</td>\n",
       "      <td>0</td>\n",
       "      <td>0</td>\n",
       "      <td>0</td>\n",
       "      <td>0</td>\n",
       "      <td>9436000</td>\n",
       "    </tr>\n",
       "    <tr>\n",
       "      <th>99999</th>\n",
       "      <td>99999</td>\n",
       "      <td>2012-3</td>\n",
       "      <td>388</td>\n",
       "      <td>1.0</td>\n",
       "      <td>2</td>\n",
       "      <td>34</td>\n",
       "      <td>1</td>\n",
       "      <td>1</td>\n",
       "      <td>15.0</td>\n",
       "      <td>0.0</td>\n",
       "      <td>...</td>\n",
       "      <td>0</td>\n",
       "      <td>0</td>\n",
       "      <td>0</td>\n",
       "      <td>0</td>\n",
       "      <td>0</td>\n",
       "      <td>0</td>\n",
       "      <td>0</td>\n",
       "      <td>0</td>\n",
       "      <td>0</td>\n",
       "      <td>3230000</td>\n",
       "    </tr>\n",
       "  </tbody>\n",
       "</table>\n",
       "<p>100000 rows × 25 columns</p>\n",
       "</div>"
      ],
      "text/plain": [
       "          id    date  street_id  build_tech  floor  area  rooms  balcon  \\\n",
       "0          0  2011-1        616         0.0      4    43      2       0   \n",
       "1          1  2011-1        112         0.0      3    33      1       0   \n",
       "2          2  2011-1        230         NaN      9    34      1       0   \n",
       "3          3  2011-1        302         1.0      4    60      3       0   \n",
       "4          4  2011-1        578         0.0      3    49      2       0   \n",
       "...      ...     ...        ...         ...    ...   ...    ...     ...   \n",
       "99995  99995  2012-3        612         0.0      3    36      1       0   \n",
       "99996  99996  2012-3        573         0.0      4    51      2       0   \n",
       "99997  99997  2012-3        550         NaN      9    48      2       0   \n",
       "99998  99998  2012-3        595         1.0     10    51      2       1   \n",
       "99999  99999  2012-3        388         1.0      2    34      1       1   \n",
       "\n",
       "       metro_dist  g_lift  ...  kw5  kw6  kw7  kw8  kw9  kw10  kw11  kw12  \\\n",
       "0            30.0     1.0  ...    0    0    0    0    0     0     0     0   \n",
       "1            15.0     1.0  ...    0    0    0    0    0     0     0     0   \n",
       "2            25.0     NaN  ...    0    0    0    0    0     0     0     0   \n",
       "3            15.0     0.0  ...    0    0    0    0    0     0     0     0   \n",
       "4            30.0     NaN  ...    0    0    0    0    0     0     0     0   \n",
       "...           ...     ...  ...  ...  ...  ...  ...  ...   ...   ...   ...   \n",
       "99995        30.0     NaN  ...    0    0    0    0    0     0     0     0   \n",
       "99996        30.0     NaN  ...    0    0    0    0    0     0     0     0   \n",
       "99997        30.0     0.0  ...    0    0    0    0    0     0     0     0   \n",
       "99998        15.0     1.0  ...    0    0    0    0    0     0     0     0   \n",
       "99999        15.0     0.0  ...    0    0    0    0    0     0     0     0   \n",
       "\n",
       "       kw13    price  \n",
       "0         0  1738000  \n",
       "1         0  1169000  \n",
       "2         0  2821000  \n",
       "3         0  5714000  \n",
       "4         0  1660000  \n",
       "...     ...      ...  \n",
       "99995     0  3898000  \n",
       "99996     0  8698000  \n",
       "99997     0  6498000  \n",
       "99998     0  9436000  \n",
       "99999     0  3230000  \n",
       "\n",
       "[100000 rows x 25 columns]"
      ]
     },
     "execution_count": 2,
     "metadata": {},
     "output_type": "execute_result"
    }
   ],
   "source": [
    "df = pd.read_csv(\"./data/task5/Train.csv\")\n",
    "df"
   ]
  },
  {
   "cell_type": "code",
   "execution_count": 3,
   "metadata": {},
   "outputs": [
    {
     "data": {
      "text/plain": [
       "array([[<matplotlib.axes._subplots.AxesSubplot object at 0x000001E7A3AB78C8>]],\n",
       "      dtype=object)"
      ]
     },
     "execution_count": 3,
     "metadata": {},
     "output_type": "execute_result"
    },
    {
     "data": {
      "image/png": "[encoded data removed]",
      "text/plain": [
       "<Figure size 432x288 with 1 Axes>"
      ]
     },
     "metadata": {
      "needs_background": "light"
     },
     "output_type": "display_data"
    }
   ],
   "source": [
    "df.hist(column = 'price', bins = 150)"
   ]
  },
  {
   "cell_type": "markdown",
   "metadata": {},
   "source": [
    "## Преобразование признаков ##\n",
    "### Заполнение пропусков ###\n",
    "Пропуски есть в признаках `build_tech`, `metro_dist`, `g_lift`.\n",
    "- Пропуски в `metro_dist` заполним средним значением по соответсвующей улице\n",
    "- Пропуски в `build_tech` заполним наиболее часто значениями 0.0, 1.0 и 2.0 случайно\n",
    "- Пропуски в `build_tech` заполним случайно"
   ]
  },
  {
   "cell_type": "code",
   "execution_count": 4,
   "metadata": {},
   "outputs": [
    {
     "data": {
      "application/vnd.jupyter.widget-view+json": {
       "model_id": "affeabf3470043ec97bf7f846f6415cd",
       "version_major": 2,
       "version_minor": 0
      },
      "text/plain": [
       "HBox(children=(FloatProgress(value=0.0, max=672.0), HTML(value='')))"
      ]
     },
     "metadata": {},
     "output_type": "display_data"
    },
    {
     "name": "stdout",
     "output_type": "stream",
     "text": [
      "\n"
     ]
    }
   ],
   "source": [
    "for street_id in tqdm_notebook(set(df['street_id'])):\n",
    "    missed_value = np.mean(df[df['street_id'] == street_id][\"metro_dist\"])\n",
    "    for id_ in df[df['street_id'] == street_id]['id']:\n",
    "        if np.isnan(df['metro_dist'][id_]):\n",
    "            df['metro_dist'][id_] = missed_value"
   ]
  },
  {
   "cell_type": "code",
   "execution_count": 5,
   "metadata": {},
   "outputs": [
    {
     "data": {
      "application/vnd.jupyter.widget-view+json": {
       "model_id": "455e18bdba3c4c80811aa2688fd17da4",
       "version_major": 2,
       "version_minor": 0
      },
      "text/plain": [
       "HBox(children=(FloatProgress(value=0.0, max=100000.0), HTML(value='')))"
      ]
     },
     "metadata": {},
     "output_type": "display_data"
    },
    {
     "name": "stdout",
     "output_type": "stream",
     "text": [
      "\n"
     ]
    }
   ],
   "source": [
    "value_counts = df[\"build_tech\"].value_counts()\n",
    "total_count = value_counts[0] + value_counts[1] + value_counts[2]\n",
    "p_0  = value_counts[0] / total_count\n",
    "p_1  = value_counts[1] / total_count\n",
    "p_2  = value_counts[2] / total_count\n",
    "perm = [p_0, p_1, p_2]\n",
    "\n",
    "for id_ in tqdm_notebook(df['id']):\n",
    "    if np.isnan(df['build_tech'][id_]):\n",
    "        df['build_tech'][id_] = np.random.choice([0.0, 1.0, 2.0], p = perm)"
   ]
  },
  {
   "cell_type": "code",
   "execution_count": 6,
   "metadata": {},
   "outputs": [
    {
     "data": {
      "application/vnd.jupyter.widget-view+json": {
       "model_id": "a93f30185dbd4fcf9a69255c15d0f1bd",
       "version_major": 2,
       "version_minor": 0
      },
      "text/plain": [
       "HBox(children=(FloatProgress(value=0.0, max=100000.0), HTML(value='')))"
      ]
     },
     "metadata": {},
     "output_type": "display_data"
    },
    {
     "name": "stdout",
     "output_type": "stream",
     "text": [
      "\n"
     ]
    }
   ],
   "source": [
    "for id_ in tqdm_notebook(df['id']):\n",
    "    if np.isnan(df['g_lift'][id_]):\n",
    "        df['g_lift'][id_] = np.random.choice([0.0, 1.0])"
   ]
  },
  {
   "cell_type": "markdown",
   "metadata": {},
   "source": [
    "### Преобразование признаков ###\n",
    "- `date` разделим на 2 признака `year` и `month`\n",
    "- `price` прологарифмируем, отбросим наибольшие значения"
   ]
  },
  {
   "cell_type": "code",
   "execution_count": 7,
   "metadata": {},
   "outputs": [
    {
     "data": {
      "application/vnd.jupyter.widget-view+json": {
       "model_id": "9016cd198ab7405fa0894504c392527c",
       "version_major": 2,
       "version_minor": 0
      },
      "text/plain": [
       "HBox(children=(FloatProgress(value=0.0, max=100000.0), HTML(value='')))"
      ]
     },
     "metadata": {},
     "output_type": "display_data"
    },
    {
     "name": "stdout",
     "output_type": "stream",
     "text": [
      "\n"
     ]
    }
   ],
   "source": [
    "year  = []\n",
    "month = []\n",
    "time  = []\n",
    "for id_ in tqdm_notebook(df['id']):\n",
    "    data = df['date'][id_].split('-')\n",
    "    curr_month = int(data[1])\n",
    "    curr_year =  int(data[0])\n",
    "    year.append( curr_year )\n",
    "    month.append(curr_month)\n",
    "    curr_time = curr_month\n",
    "    if curr_year > 2011:\n",
    "        curr_time += 12\n",
    "    time.append(curr_time)\n",
    "df['year']  = year\n",
    "df['month'] = month\n",
    "df['time'] = time\n",
    "df.drop(['date'], axis='columns', inplace=True)"
   ]
  },
  {
   "cell_type": "code",
   "execution_count": 8,
   "metadata": {},
   "outputs": [],
   "source": [
    "df['price_log'] = np.log(df['price'])"
   ]
  },
  {
   "cell_type": "code",
   "execution_count": 9,
   "metadata": {},
   "outputs": [
    {
     "data": {
      "text/plain": [
       "array([[<matplotlib.axes._subplots.AxesSubplot object at 0x000001E7A43D30C8>]],\n",
       "      dtype=object)"
      ]
     },
     "execution_count": 9,
     "metadata": {},
     "output_type": "execute_result"
    },
    {
     "data": {
      "image/png": "[encoded data removed]",
      "text/plain": [
       "<Figure size 432x288 with 1 Axes>"
      ]
     },
     "metadata": {
      "needs_background": "light"
     },
     "output_type": "display_data"
    }
   ],
   "source": [
    "df = df[df['price_log'] < 18]\n",
    "df.hist(column = 'price_log', bins = 150)"
   ]
  },
  {
   "cell_type": "markdown",
   "metadata": {},
   "source": [
    "Как видим, на гистограмме получился \"выброс\", соответсвующий значению **13.815511**. Добавим столбец-индикатор, является ли значение цены выбросом в таблицу"
   ]
  },
  {
   "cell_type": "code",
   "execution_count": 10,
   "metadata": {},
   "outputs": [
    {
     "data": {
      "application/vnd.jupyter.widget-view+json": {
       "model_id": "bbfd9e84aa104a6b8a9d0c7f907022d3",
       "version_major": 2,
       "version_minor": 0
      },
      "text/plain": [
       "HBox(children=(FloatProgress(value=0.0, max=99994.0), HTML(value='')))"
      ]
     },
     "metadata": {},
     "output_type": "display_data"
    },
    {
     "name": "stdout",
     "output_type": "stream",
     "text": [
      "\n"
     ]
    }
   ],
   "source": [
    "indicator = []\n",
    "for id_ in tqdm_notebook(df['id']):\n",
    "    indicator.append(int(df['price_log'][id_] < 13.815 or df['price_log'][id_] > 13.816))\n",
    "df['class'] = indicator    "
   ]
  },
  {
   "cell_type": "code",
   "execution_count": 11,
   "metadata": {},
   "outputs": [
    {
     "data": {
      "text/plain": [
       "1    96026\n",
       "0     3968\n",
       "Name: class, dtype: int64"
      ]
     },
     "execution_count": 11,
     "metadata": {},
     "output_type": "execute_result"
    }
   ],
   "source": [
    "df['class'].value_counts()"
   ]
  },
  {
   "cell_type": "code",
   "execution_count": 12,
   "metadata": {},
   "outputs": [
    {
     "data": {
      "text/html": [
       "<div>\n",
       "<style scoped>\n",
       "    .dataframe tbody tr th:only-of-type {\n",
       "        vertical-align: middle;\n",
       "    }\n",
       "\n",
       "    .dataframe tbody tr th {\n",
       "        vertical-align: top;\n",
       "    }\n",
       "\n",
       "    .dataframe thead th {\n",
       "        text-align: right;\n",
       "    }\n",
       "</style>\n",
       "<table border=\"1\" class=\"dataframe\">\n",
       "  <thead>\n",
       "    <tr style=\"text-align: right;\">\n",
       "      <th></th>\n",
       "      <th>id</th>\n",
       "      <th>street_id</th>\n",
       "      <th>build_tech</th>\n",
       "      <th>floor</th>\n",
       "      <th>area</th>\n",
       "      <th>rooms</th>\n",
       "      <th>balcon</th>\n",
       "      <th>metro_dist</th>\n",
       "      <th>g_lift</th>\n",
       "      <th>n_photos</th>\n",
       "      <th>...</th>\n",
       "      <th>kw10</th>\n",
       "      <th>kw11</th>\n",
       "      <th>kw12</th>\n",
       "      <th>kw13</th>\n",
       "      <th>price</th>\n",
       "      <th>year</th>\n",
       "      <th>month</th>\n",
       "      <th>time</th>\n",
       "      <th>price_log</th>\n",
       "      <th>class</th>\n",
       "    </tr>\n",
       "  </thead>\n",
       "  <tbody>\n",
       "    <tr>\n",
       "      <th>0</th>\n",
       "      <td>0</td>\n",
       "      <td>616</td>\n",
       "      <td>0.0</td>\n",
       "      <td>4</td>\n",
       "      <td>43</td>\n",
       "      <td>2</td>\n",
       "      <td>0</td>\n",
       "      <td>30.0</td>\n",
       "      <td>1.0</td>\n",
       "      <td>1</td>\n",
       "      <td>...</td>\n",
       "      <td>0</td>\n",
       "      <td>0</td>\n",
       "      <td>0</td>\n",
       "      <td>0</td>\n",
       "      <td>1738000</td>\n",
       "      <td>2011</td>\n",
       "      <td>1</td>\n",
       "      <td>1</td>\n",
       "      <td>14.368246</td>\n",
       "      <td>1</td>\n",
       "    </tr>\n",
       "    <tr>\n",
       "      <th>1</th>\n",
       "      <td>1</td>\n",
       "      <td>112</td>\n",
       "      <td>0.0</td>\n",
       "      <td>3</td>\n",
       "      <td>33</td>\n",
       "      <td>1</td>\n",
       "      <td>0</td>\n",
       "      <td>15.0</td>\n",
       "      <td>1.0</td>\n",
       "      <td>2</td>\n",
       "      <td>...</td>\n",
       "      <td>0</td>\n",
       "      <td>0</td>\n",
       "      <td>0</td>\n",
       "      <td>0</td>\n",
       "      <td>1169000</td>\n",
       "      <td>2011</td>\n",
       "      <td>1</td>\n",
       "      <td>1</td>\n",
       "      <td>13.971659</td>\n",
       "      <td>1</td>\n",
       "    </tr>\n",
       "    <tr>\n",
       "      <th>2</th>\n",
       "      <td>2</td>\n",
       "      <td>230</td>\n",
       "      <td>1.0</td>\n",
       "      <td>9</td>\n",
       "      <td>34</td>\n",
       "      <td>1</td>\n",
       "      <td>0</td>\n",
       "      <td>25.0</td>\n",
       "      <td>1.0</td>\n",
       "      <td>4</td>\n",
       "      <td>...</td>\n",
       "      <td>0</td>\n",
       "      <td>0</td>\n",
       "      <td>0</td>\n",
       "      <td>0</td>\n",
       "      <td>2821000</td>\n",
       "      <td>2011</td>\n",
       "      <td>1</td>\n",
       "      <td>1</td>\n",
       "      <td>14.852602</td>\n",
       "      <td>1</td>\n",
       "    </tr>\n",
       "    <tr>\n",
       "      <th>3</th>\n",
       "      <td>3</td>\n",
       "      <td>302</td>\n",
       "      <td>1.0</td>\n",
       "      <td>4</td>\n",
       "      <td>60</td>\n",
       "      <td>3</td>\n",
       "      <td>0</td>\n",
       "      <td>15.0</td>\n",
       "      <td>0.0</td>\n",
       "      <td>2</td>\n",
       "      <td>...</td>\n",
       "      <td>0</td>\n",
       "      <td>0</td>\n",
       "      <td>0</td>\n",
       "      <td>0</td>\n",
       "      <td>5714000</td>\n",
       "      <td>2011</td>\n",
       "      <td>1</td>\n",
       "      <td>1</td>\n",
       "      <td>15.558430</td>\n",
       "      <td>1</td>\n",
       "    </tr>\n",
       "    <tr>\n",
       "      <th>4</th>\n",
       "      <td>4</td>\n",
       "      <td>578</td>\n",
       "      <td>0.0</td>\n",
       "      <td>3</td>\n",
       "      <td>49</td>\n",
       "      <td>2</td>\n",
       "      <td>0</td>\n",
       "      <td>30.0</td>\n",
       "      <td>0.0</td>\n",
       "      <td>2</td>\n",
       "      <td>...</td>\n",
       "      <td>0</td>\n",
       "      <td>0</td>\n",
       "      <td>0</td>\n",
       "      <td>0</td>\n",
       "      <td>1660000</td>\n",
       "      <td>2011</td>\n",
       "      <td>1</td>\n",
       "      <td>1</td>\n",
       "      <td>14.322328</td>\n",
       "      <td>1</td>\n",
       "    </tr>\n",
       "    <tr>\n",
       "      <th>...</th>\n",
       "      <td>...</td>\n",
       "      <td>...</td>\n",
       "      <td>...</td>\n",
       "      <td>...</td>\n",
       "      <td>...</td>\n",
       "      <td>...</td>\n",
       "      <td>...</td>\n",
       "      <td>...</td>\n",
       "      <td>...</td>\n",
       "      <td>...</td>\n",
       "      <td>...</td>\n",
       "      <td>...</td>\n",
       "      <td>...</td>\n",
       "      <td>...</td>\n",
       "      <td>...</td>\n",
       "      <td>...</td>\n",
       "      <td>...</td>\n",
       "      <td>...</td>\n",
       "      <td>...</td>\n",
       "      <td>...</td>\n",
       "      <td>...</td>\n",
       "    </tr>\n",
       "    <tr>\n",
       "      <th>99995</th>\n",
       "      <td>99995</td>\n",
       "      <td>612</td>\n",
       "      <td>0.0</td>\n",
       "      <td>3</td>\n",
       "      <td>36</td>\n",
       "      <td>1</td>\n",
       "      <td>0</td>\n",
       "      <td>30.0</td>\n",
       "      <td>1.0</td>\n",
       "      <td>3</td>\n",
       "      <td>...</td>\n",
       "      <td>0</td>\n",
       "      <td>0</td>\n",
       "      <td>0</td>\n",
       "      <td>0</td>\n",
       "      <td>3898000</td>\n",
       "      <td>2012</td>\n",
       "      <td>3</td>\n",
       "      <td>15</td>\n",
       "      <td>15.175974</td>\n",
       "      <td>1</td>\n",
       "    </tr>\n",
       "    <tr>\n",
       "      <th>99996</th>\n",
       "      <td>99996</td>\n",
       "      <td>573</td>\n",
       "      <td>0.0</td>\n",
       "      <td>4</td>\n",
       "      <td>51</td>\n",
       "      <td>2</td>\n",
       "      <td>0</td>\n",
       "      <td>30.0</td>\n",
       "      <td>1.0</td>\n",
       "      <td>3</td>\n",
       "      <td>...</td>\n",
       "      <td>0</td>\n",
       "      <td>0</td>\n",
       "      <td>0</td>\n",
       "      <td>0</td>\n",
       "      <td>8698000</td>\n",
       "      <td>2012</td>\n",
       "      <td>3</td>\n",
       "      <td>15</td>\n",
       "      <td>15.978604</td>\n",
       "      <td>1</td>\n",
       "    </tr>\n",
       "    <tr>\n",
       "      <th>99997</th>\n",
       "      <td>99997</td>\n",
       "      <td>550</td>\n",
       "      <td>0.0</td>\n",
       "      <td>9</td>\n",
       "      <td>48</td>\n",
       "      <td>2</td>\n",
       "      <td>0</td>\n",
       "      <td>30.0</td>\n",
       "      <td>0.0</td>\n",
       "      <td>0</td>\n",
       "      <td>...</td>\n",
       "      <td>0</td>\n",
       "      <td>0</td>\n",
       "      <td>0</td>\n",
       "      <td>0</td>\n",
       "      <td>6498000</td>\n",
       "      <td>2012</td>\n",
       "      <td>3</td>\n",
       "      <td>15</td>\n",
       "      <td>15.687005</td>\n",
       "      <td>1</td>\n",
       "    </tr>\n",
       "    <tr>\n",
       "      <th>99998</th>\n",
       "      <td>99998</td>\n",
       "      <td>595</td>\n",
       "      <td>1.0</td>\n",
       "      <td>10</td>\n",
       "      <td>51</td>\n",
       "      <td>2</td>\n",
       "      <td>1</td>\n",
       "      <td>15.0</td>\n",
       "      <td>1.0</td>\n",
       "      <td>1</td>\n",
       "      <td>...</td>\n",
       "      <td>0</td>\n",
       "      <td>0</td>\n",
       "      <td>0</td>\n",
       "      <td>0</td>\n",
       "      <td>9436000</td>\n",
       "      <td>2012</td>\n",
       "      <td>3</td>\n",
       "      <td>15</td>\n",
       "      <td>16.060043</td>\n",
       "      <td>1</td>\n",
       "    </tr>\n",
       "    <tr>\n",
       "      <th>99999</th>\n",
       "      <td>99999</td>\n",
       "      <td>388</td>\n",
       "      <td>1.0</td>\n",
       "      <td>2</td>\n",
       "      <td>34</td>\n",
       "      <td>1</td>\n",
       "      <td>1</td>\n",
       "      <td>15.0</td>\n",
       "      <td>0.0</td>\n",
       "      <td>2</td>\n",
       "      <td>...</td>\n",
       "      <td>0</td>\n",
       "      <td>0</td>\n",
       "      <td>0</td>\n",
       "      <td>0</td>\n",
       "      <td>3230000</td>\n",
       "      <td>2012</td>\n",
       "      <td>3</td>\n",
       "      <td>15</td>\n",
       "      <td>14.987993</td>\n",
       "      <td>1</td>\n",
       "    </tr>\n",
       "  </tbody>\n",
       "</table>\n",
       "<p>99994 rows × 29 columns</p>\n",
       "</div>"
      ],
      "text/plain": [
       "          id  street_id  build_tech  floor  area  rooms  balcon  metro_dist  \\\n",
       "0          0        616         0.0      4    43      2       0        30.0   \n",
       "1          1        112         0.0      3    33      1       0        15.0   \n",
       "2          2        230         1.0      9    34      1       0        25.0   \n",
       "3          3        302         1.0      4    60      3       0        15.0   \n",
       "4          4        578         0.0      3    49      2       0        30.0   \n",
       "...      ...        ...         ...    ...   ...    ...     ...         ...   \n",
       "99995  99995        612         0.0      3    36      1       0        30.0   \n",
       "99996  99996        573         0.0      4    51      2       0        30.0   \n",
       "99997  99997        550         0.0      9    48      2       0        30.0   \n",
       "99998  99998        595         1.0     10    51      2       1        15.0   \n",
       "99999  99999        388         1.0      2    34      1       1        15.0   \n",
       "\n",
       "       g_lift  n_photos  ...  kw10  kw11  kw12  kw13    price  year  month  \\\n",
       "0         1.0         1  ...     0     0     0     0  1738000  2011      1   \n",
       "1         1.0         2  ...     0     0     0     0  1169000  2011      1   \n",
       "2         1.0         4  ...     0     0     0     0  2821000  2011      1   \n",
       "3         0.0         2  ...     0     0     0     0  5714000  2011      1   \n",
       "4         0.0         2  ...     0     0     0     0  1660000  2011      1   \n",
       "...       ...       ...  ...   ...   ...   ...   ...      ...   ...    ...   \n",
       "99995     1.0         3  ...     0     0     0     0  3898000  2012      3   \n",
       "99996     1.0         3  ...     0     0     0     0  8698000  2012      3   \n",
       "99997     0.0         0  ...     0     0     0     0  6498000  2012      3   \n",
       "99998     1.0         1  ...     0     0     0     0  9436000  2012      3   \n",
       "99999     0.0         2  ...     0     0     0     0  3230000  2012      3   \n",
       "\n",
       "       time  price_log  class  \n",
       "0         1  14.368246      1  \n",
       "1         1  13.971659      1  \n",
       "2         1  14.852602      1  \n",
       "3         1  15.558430      1  \n",
       "4         1  14.322328      1  \n",
       "...     ...        ...    ...  \n",
       "99995    15  15.175974      1  \n",
       "99996    15  15.978604      1  \n",
       "99997    15  15.687005      1  \n",
       "99998    15  16.060043      1  \n",
       "99999    15  14.987993      1  \n",
       "\n",
       "[99994 rows x 29 columns]"
      ]
     },
     "execution_count": 12,
     "metadata": {},
     "output_type": "execute_result"
    }
   ],
   "source": [
    "df"
   ]
  },
  {
   "cell_type": "markdown",
   "metadata": {},
   "source": [
    "## Моделька ##\n",
    "Идея - разбить задачу на 2 этапа:\n",
    "- Решить задачу классификации (определение выброса)\n",
    "- Для значений, которые не являются выбросами, построить регрессию"
   ]
  },
  {
   "cell_type": "markdown",
   "metadata": {},
   "source": [
    "### Классификация ###"
   ]
  },
  {
   "cell_type": "code",
   "execution_count": 62,
   "metadata": {},
   "outputs": [],
   "source": [
    "train_names = ['street_id', 'build_tech', 'floor', 'area', 'rooms', 'balcon',\n",
    "               'metro_dist', 'g_lift', 'n_photos', 'kw1', 'kw2', 'kw3', 'kw4', 'kw5',\n",
    "               'kw6', 'kw7', 'kw8', 'kw9', 'kw10', 'kw11', 'kw12', 'kw13', 'time']\n",
    "X       = df[train_names]\n",
    "y_class = df['class']\n",
    "\n",
    "sc = StandardScaler()\n",
    "X_scaled = sc.fit_transform(X)"
   ]
  },
  {
   "cell_type": "code",
   "execution_count": 63,
   "metadata": {},
   "outputs": [
    {
     "name": "stdout",
     "output_type": "stream",
     "text": [
      "Train:\n",
      " 0.9797571379472534\n",
      "Test:\n",
      " 0.979756692621624\n"
     ]
    }
   ],
   "source": [
    "LR = LogisticRegression(solver='liblinear', random_state=42)\n",
    "\n",
    "train_f1 = []\n",
    "test_f1  = []\n",
    "kfold = RepeatedKFold(n_splits = 5, n_repeats = 10, random_state = 42)\n",
    "for train, test in kfold.split(X_scaled, y_class):\n",
    "    X_train, X_test, y_train, y_test = X_scaled[train], X_scaled[test], y_class.values[train], y_class.values[test]\n",
    "    LR.fit(X_train, y_train)\n",
    "    y_pred_train = LR.predict(X_train)\n",
    "    y_pred_test  = LR.predict(X_test )\n",
    "    train_f1.append(f1(y_pred_train, y_train))\n",
    "    test_f1.append (f1(y_pred_test , y_test ))\n",
    "\n",
    "print(\"Train:\\n\", np.mean(train_f1))\n",
    "print(\"Test:\\n\",  np.mean(test_f1))"
   ]
  },
  {
   "cell_type": "markdown",
   "metadata": {},
   "source": [
    "### Регрессия ###"
   ]
  },
  {
   "cell_type": "code",
   "execution_count": 14,
   "metadata": {},
   "outputs": [],
   "source": [
    "train_names = ['street_id', 'build_tech', 'floor', 'area', 'rooms', 'balcon',\n",
    "               'metro_dist', 'g_lift', 'n_photos', 'kw1', 'kw2', 'kw3', 'kw4', 'kw5',\n",
    "               'kw6', 'kw7', 'kw8', 'kw9', 'kw10', 'kw11', 'kw12', 'kw13', 'year', 'month']\n",
    "\n",
    "df_1 = df[df['class'] == 1]"
   ]
  },
  {
   "cell_type": "code",
   "execution_count": 15,
   "metadata": {},
   "outputs": [],
   "source": [
    "X = df_1[train_names]\n",
    "y = df_1['price']"
   ]
  },
  {
   "cell_type": "code",
   "execution_count": 16,
   "metadata": {},
   "outputs": [
    {
     "data": {
      "text/plain": [
       "array([[<matplotlib.axes._subplots.AxesSubplot object at 0x00000206CC7A2BC8>]],\n",
       "      dtype=object)"
      ]
     },
     "execution_count": 16,
     "metadata": {},
     "output_type": "execute_result"
    },
    {
     "data": {
      "image/png": "[encoded data removed]",
      "text/plain": [
       "<Figure size 432x288 with 1 Axes>"
      ]
     },
     "metadata": {
      "needs_background": "light"
     },
     "output_type": "display_data"
    },
    {
     "data": {
      "image/png": "[encoded data removed]",
      "text/plain": [
       "<Figure size 432x288 with 1 Axes>"
      ]
     },
     "metadata": {
      "needs_background": "light"
     },
     "output_type": "display_data"
    }
   ],
   "source": [
    "y.hist(bins = 150)\n",
    "df_1.hist(column = 'price_log', bins = 150)"
   ]
  },
  {
   "cell_type": "code",
   "execution_count": 17,
   "metadata": {},
   "outputs": [],
   "source": [
    "sc = StandardScaler()\n",
    "X_scaled = sc.fit_transform(X, y)"
   ]
  },
  {
   "cell_type": "code",
   "execution_count": 18,
   "metadata": {},
   "outputs": [
    {
     "data": {
      "text/plain": [
       "array([[ 1.45049651, -0.90844428, -0.3398851 , ..., -0.01407518,\n",
       "        -0.70010241, -1.42246663],\n",
       "       [-1.14797054, -0.90844428, -0.5870403 , ..., -0.01407518,\n",
       "        -0.70010241, -1.42246663],\n",
       "       [-0.53959929, -0.90844428,  0.89589091, ..., -0.01407518,\n",
       "        -0.70010241, -1.42246663],\n",
       "       ...,\n",
       "       [ 1.11022106, -0.90844428,  0.89589091, ..., -0.01407518,\n",
       "         1.42836246, -0.90421342],\n",
       "       [ 1.34222705,  0.80473383,  1.14304611, ..., -0.01407518,\n",
       "         1.42836246, -0.90421342],\n",
       "       [ 0.27499951,  0.80473383, -0.83419551, ..., -0.01407518,\n",
       "         1.42836246, -0.90421342]])"
      ]
     },
     "execution_count": 18,
     "metadata": {},
     "output_type": "execute_result"
    }
   ],
   "source": [
    "X_scaled"
   ]
  },
  {
   "cell_type": "code",
   "execution_count": 19,
   "metadata": {},
   "outputs": [],
   "source": [
    "def CV_regression(model, X, y, n_splits = 5, n_repeats = 10):\n",
    "    temp_train_mae = []\n",
    "    temp_test_mae  = []\n",
    "    \n",
    "    rkfold = RepeatedKFold(n_splits = n_splits, n_repeats = n_repeats, random_state = 42)\n",
    "    temp = 1\n",
    "    \n",
    "    for train, test in rkfold.split(X):\n",
    "        #print(temp, end = '')\n",
    "        X_train, X_test, y_train, y_test = X[train], X[test], y.values[train], y.values[test]\n",
    "        model.fit(X_train, y_train)\n",
    "        train_ans = model.predict(X_train)\n",
    "        test_ans = model.predict(X_test)\n",
    "        temp_train_mae.append(mae(y_train, train_ans))\n",
    "        temp_test_mae.append( mae(y_test , test_ans ))\n",
    "        temp += 1\n",
    "    \n",
    "    #print()\n",
    "    return temp_train_mae, temp_test_mae"
   ]
  },
  {
   "cell_type": "markdown",
   "metadata": {},
   "source": [
    "### Lasso ###"
   ]
  },
  {
   "cell_type": "code",
   "execution_count": 21,
   "metadata": {},
   "outputs": [
    {
     "data": {
      "application/vnd.jupyter.widget-view+json": {
       "model_id": "80b4b791ff2d464e9ba1d20cd295ca85",
       "version_major": 2,
       "version_minor": 0
      },
      "text/plain": [
       "HBox(children=(FloatProgress(value=0.0, max=7.0), HTML(value='')))"
      ]
     },
     "metadata": {},
     "output_type": "display_data"
    },
    {
     "name": "stdout",
     "output_type": "stream",
     "text": [
      "\n",
      "Train:\n",
      " 1651307.9952754378 (1.0)\n",
      "Test:\n",
      " 1652119.5691008612 (1.0)\n"
     ]
    }
   ],
   "source": [
    "alpha_grid = [0.001, 0.01, 0.1, 0.2, 0.3, 0.5, 1.0]\n",
    "train_mae = []\n",
    "test_mae = []\n",
    "\n",
    "temp_train_mae = []\n",
    "temp_test_mae  = []\n",
    "    \n",
    "for alpha in tqdm_notebook(alpha_grid):\n",
    "    lasso = Lasso(alpha = alpha, random_state = 42)  \n",
    "    temp_train_mae, temp_test_mae = CV_regression(lasso, X_scaled, y)\n",
    "    \n",
    "    train_mae.append(np.mean(temp_train_mae))\n",
    "    test_mae.append(np.mean(temp_test_mae))\n",
    "\n",
    "print(\"Train:\\n\", min(train_mae), \"({})\".format(alpha_grid[np.argmin(train_mae)]))\n",
    "print(\"Test:\\n\", min(test_mae),   \"({})\".format(alpha_grid[np.argmin(test_mae)]))"
   ]
  },
  {
   "cell_type": "markdown",
   "metadata": {},
   "source": [
    "### Ridge ###"
   ]
  },
  {
   "cell_type": "code",
   "execution_count": 23,
   "metadata": {},
   "outputs": [
    {
     "data": {
      "application/vnd.jupyter.widget-view+json": {
       "model_id": "28ddcbc6d4fa48c8a8bfc8d7874c06e7",
       "version_major": 2,
       "version_minor": 0
      },
      "text/plain": [
       "HBox(children=(FloatProgress(value=0.0, max=7.0), HTML(value='')))"
      ]
     },
     "metadata": {},
     "output_type": "display_data"
    },
    {
     "name": "stdout",
     "output_type": "stream",
     "text": [
      "\n",
      "Train:\n",
      " 1651308.029694763 (0.001)\n",
      "Test:\n",
      " 1652119.6191892251 (0.001)\n"
     ]
    }
   ],
   "source": [
    "alpha_grid = [0.001, 0.01, 0.1, 0.2, 0.3, 0.5, 1.0]\n",
    "train_mae = []\n",
    "test_mae = []\n",
    "\n",
    "temp_train_mae = []\n",
    "temp_test_mae  = []\n",
    "    \n",
    "for alpha in tqdm_notebook(alpha_grid):\n",
    "    ridge = Ridge(alpha = alpha, random_state = 42)  \n",
    "    temp_train_mae, temp_test_mae = CV_regression(ridge, X_scaled, y)\n",
    "    \n",
    "    train_mae.append(np.mean(temp_train_mae))\n",
    "    test_mae.append(np.mean(temp_test_mae))\n",
    "\n",
    "print(\"Train:\\n\", min(train_mae), \"({})\".format(alpha_grid[np.argmin(train_mae)]))\n",
    "print(\"Test:\\n\", min(test_mae),   \"({})\".format(alpha_grid[np.argmin(test_mae)]))"
   ]
  },
  {
   "cell_type": "markdown",
   "metadata": {},
   "source": [
    "### RandomForest ###"
   ]
  },
  {
   "cell_type": "code",
   "execution_count": 20,
   "metadata": {},
   "outputs": [
    {
     "name": "stdout",
     "output_type": "stream",
     "text": [
      "8\n"
     ]
    },
    {
     "data": {
      "text/plain": [
       "array([ 4,  6,  8, 10])"
      ]
     },
     "execution_count": 20,
     "metadata": {},
     "output_type": "execute_result"
    }
   ],
   "source": [
    "supposed = int(X.shape[1]/3)\n",
    "print(supposed)\n",
    "features_range = np.arange(supposed - 4, supposed + 4, 2)\n",
    "features_range"
   ]
  },
  {
   "cell_type": "code",
   "execution_count": null,
   "metadata": {},
   "outputs": [],
   "source": [
    "parameters = {'n_estimators':     [200],\n",
    "              'max_features':     features_range, \n",
    "              'min_samples_leaf': [1, 3, 5, 7],\n",
    "              'max_depth':        [5, 10, 15, 20, 30, 50]}\n",
    "\n",
    "kfold = StratifiedKFold(n_splits=10, shuffle=True, random_state = 42)\n",
    "\n",
    "rfr = RandomForestRegressor(random_state=42, n_jobs=18, oob_score=True, criterion='mse')\n",
    "gcv = GridSearchCV(rfr, parameters, n_jobs=18, cv=kfold, verbose=1, scoring = 'neg_mean_absolute_error')\n",
    "gcv.fit(X, y)"
   ]
  },
  {
   "cell_type": "code",
   "execution_count": 33,
   "metadata": {},
   "outputs": [
    {
     "data": {
      "text/plain": [
       "RandomForestRegressor(bootstrap=True, ccp_alpha=0.0, criterion='mse',\n",
       "                      max_depth=50, max_features=10, max_leaf_nodes=None,\n",
       "                      max_samples=None, min_impurity_decrease=0.0,\n",
       "                      min_impurity_split=None, min_samples_leaf=3,\n",
       "                      min_samples_split=2, min_weight_fraction_leaf=0.0,\n",
       "                      n_estimators=200, n_jobs=18, oob_score=True,\n",
       "                      random_state=42, verbose=0, warm_start=False)"
      ]
     },
     "execution_count": 33,
     "metadata": {},
     "output_type": "execute_result"
    }
   ],
   "source": [
    "gcv.best_estimator_"
   ]
  },
  {
   "cell_type": "code",
   "execution_count": 34,
   "metadata": {},
   "outputs": [
    {
     "data": {
      "text/plain": [
       "-1513511.3735590822"
      ]
     },
     "execution_count": 34,
     "metadata": {},
     "output_type": "execute_result"
    }
   ],
   "source": [
    "gcv.best_score_"
   ]
  },
  {
   "cell_type": "code",
   "execution_count": 25,
   "metadata": {},
   "outputs": [
    {
     "name": "stdout",
     "output_type": "stream",
     "text": [
      "Train:\n",
      " 564635.8441992132\n",
      "Test:\n",
      " 1527657.5687255047\n"
     ]
    }
   ],
   "source": [
    "RFC = RandomForestRegressor(max_depth=50, max_features=10,\n",
    "                            min_samples_leaf = 1, min_samples_split=2,\n",
    "                            n_estimators=200, \n",
    "                            n_jobs=18, oob_score=True,\n",
    "                            random_state=42)\n",
    "\n",
    "train_mae, test_mae = CV_regression(RFC, X_scaled, y, 5, 1)\n",
    "\n",
    "print(\"Train:\\n\", np.mean(train_mae))\n",
    "print(\"Test:\\n\", np.mean(test_mae))"
   ]
  },
  {
   "cell_type": "markdown",
   "metadata": {},
   "source": [
    "### GradientBoosting ###"
   ]
  },
  {
   "cell_type": "code",
   "execution_count": 43,
   "metadata": {},
   "outputs": [
    {
     "name": "stdout",
     "output_type": "stream",
     "text": [
      "Fitting 5 folds for each of 400 candidates, totalling 2000 fits\n"
     ]
    },
    {
     "name": "stderr",
     "output_type": "stream",
     "text": [
      "[Parallel(n_jobs=18)]: Using backend LokyBackend with 18 concurrent workers.\n",
      "[Parallel(n_jobs=18)]: Done  14 tasks      | elapsed:   28.3s\n",
      "[Parallel(n_jobs=18)]: Done 164 tasks      | elapsed:  5.7min\n",
      "[Parallel(n_jobs=18)]: Done 414 tasks      | elapsed: 16.0min\n",
      "[Parallel(n_jobs=18)]: Done 764 tasks      | elapsed: 30.5min\n",
      "[Parallel(n_jobs=18)]: Done 1214 tasks      | elapsed: 51.3min\n",
      "[Parallel(n_jobs=18)]: Done 1764 tasks      | elapsed: 77.4min\n",
      "[Parallel(n_jobs=18)]: Done 2000 out of 2000 | elapsed: 90.9min finished\n"
     ]
    },
    {
     "data": {
      "text/plain": [
       "GridSearchCV(cv=StratifiedKFold(n_splits=5, random_state=42, shuffle=True),\n",
       "             error_score=nan,\n",
       "             estimator=GradientBoostingRegressor(alpha=0.9, ccp_alpha=0.0,\n",
       "                                                 criterion='friedman_mse',\n",
       "                                                 init=None, learning_rate=0.1,\n",
       "                                                 loss='ls', max_depth=3,\n",
       "                                                 max_features=None,\n",
       "                                                 max_leaf_nodes=None,\n",
       "                                                 min_impurity_decrease=0.0,\n",
       "                                                 min_impurity_split=None,\n",
       "                                                 min_samples_leaf=1,\n",
       "                                                 min_samples_split=2...\n",
       "                                                 verbose=0, warm_start=False),\n",
       "             iid='deprecated', n_jobs=18,\n",
       "             param_grid={'learning_rate': [0.01, 0.05, 0.1, 0.25, 0.5],\n",
       "                         'max_depth': [5, 10, 15, 20, 30],\n",
       "                         'max_features': array([ 4,  6,  8, 10]),\n",
       "                         'min_samples_leaf': [1, 3, 5, 7],\n",
       "                         'n_estimators': [100]},\n",
       "             pre_dispatch='2*n_jobs', refit=True, return_train_score=False,\n",
       "             scoring=make_scorer(mean_absolute_error, greater_is_better=False),\n",
       "             verbose=1)"
      ]
     },
     "execution_count": 43,
     "metadata": {},
     "output_type": "execute_result"
    }
   ],
   "source": [
    "parameters = {'n_estimators':     [100],\n",
    "              'max_features':     features_range, \n",
    "              'min_samples_leaf': [1, 3, 5, 7],\n",
    "              'max_depth':        [5, 10, 15, 20, 30],\n",
    "              'learning_rate':    [0.01, 0.05, 0.1, 0.25, 0.5]}\n",
    "\n",
    "kfold = StratifiedKFold(n_splits=5, shuffle=True, random_state = 42)\n",
    "\n",
    "gbr = GradientBoostingRegressor(random_state=42)\n",
    "gcv = GridSearchCV(gbr, parameters, n_jobs=18, cv=kfold, verbose=1, scoring = make_scorer(mae, greater_is_better = False))\n",
    "gcv.fit(X_scaled, y)"
   ]
  },
  {
   "cell_type": "code",
   "execution_count": 44,
   "metadata": {},
   "outputs": [
    {
     "data": {
      "text/plain": [
       "GradientBoostingRegressor(alpha=0.9, ccp_alpha=0.0, criterion='friedman_mse',\n",
       "                          init=None, learning_rate=0.5, loss='ls', max_depth=10,\n",
       "                          max_features=10, max_leaf_nodes=None,\n",
       "                          min_impurity_decrease=0.0, min_impurity_split=None,\n",
       "                          min_samples_leaf=7, min_samples_split=2,\n",
       "                          min_weight_fraction_leaf=0.0, n_estimators=100,\n",
       "                          n_iter_no_change=None, presort='deprecated',\n",
       "                          random_state=42, subsample=1.0, tol=0.0001,\n",
       "                          validation_fraction=0.1, verbose=0, warm_start=False)"
      ]
     },
     "execution_count": 44,
     "metadata": {},
     "output_type": "execute_result"
    }
   ],
   "source": [
    "gcv.best_estimator_"
   ]
  },
  {
   "cell_type": "code",
   "execution_count": 45,
   "metadata": {},
   "outputs": [
    {
     "data": {
      "text/plain": [
       "-928849.1694369616"
      ]
     },
     "execution_count": 45,
     "metadata": {},
     "output_type": "execute_result"
    }
   ],
   "source": [
    "gcv.best_score_"
   ]
  },
  {
   "cell_type": "code",
   "execution_count": 20,
   "metadata": {},
   "outputs": [
    {
     "name": "stdout",
     "output_type": "stream",
     "text": [
      "Train:\n",
      " 518007.3426559371\n",
      "Test:\n",
      " 929385.1337988091\n"
     ]
    }
   ],
   "source": [
    "GBR = GradientBoostingRegressor(learning_rate=0.5, max_depth=10,\n",
    "                                max_features = 10,\n",
    "                                min_samples_leaf = 7, n_estimators = 100,\n",
    "                                random_state=42)\n",
    "\n",
    "train_mae, test_mae = CV_regression(GBR, X_scaled, y, 5, 1)\n",
    "\n",
    "print(\"Train:\\n\", np.mean(train_mae))\n",
    "print(\"Test:\\n\", np.mean(test_mae))"
   ]
  },
  {
   "cell_type": "code",
   "execution_count": 21,
   "metadata": {},
   "outputs": [
    {
     "name": "stdout",
     "output_type": "stream",
     "text": [
      "Train:\n",
      " 319135.0171129828\n",
      "Test:\n",
      " 854489.3259373903\n"
     ]
    }
   ],
   "source": [
    "GBR = GradientBoostingRegressor(learning_rate=0.5, max_depth=10,\n",
    "                                max_features = 10,\n",
    "                                min_samples_leaf = 7, n_estimators = 200,\n",
    "                                random_state=42)\n",
    "\n",
    "train_mae, test_mae = CV_regression(GBR, X_scaled, y, 5, 1)\n",
    "\n",
    "print(\"Train:\\n\", np.mean(train_mae))\n",
    "print(\"Test:\\n\", np.mean(test_mae))"
   ]
  },
  {
   "cell_type": "code",
   "execution_count": 22,
   "metadata": {},
   "outputs": [
    {
     "name": "stdout",
     "output_type": "stream",
     "text": [
      "Train:\n",
      " 221725.05211228938\n",
      "Test:\n",
      " 839147.1085801944\n"
     ]
    }
   ],
   "source": [
    "GBR = GradientBoostingRegressor(learning_rate=0.5, max_depth=10,\n",
    "                                max_features = 10,\n",
    "                                min_samples_leaf = 7, n_estimators = 300,\n",
    "                                random_state=42)\n",
    "\n",
    "train_mae, test_mae = CV_regression(GBR, X_scaled, y, 5, 1)\n",
    "\n",
    "print(\"Train:\\n\", np.mean(train_mae))\n",
    "print(\"Test:\\n\", np.mean(test_mae))"
   ]
  },
  {
   "cell_type": "code",
   "execution_count": 23,
   "metadata": {},
   "outputs": [
    {
     "name": "stdout",
     "output_type": "stream",
     "text": [
      "Train:\n",
      " 160495.57385253807\n",
      "Test:\n",
      " 834406.761890797\n"
     ]
    }
   ],
   "source": [
    "GBR = GradientBoostingRegressor(learning_rate=0.5, max_depth=10,\n",
    "                                max_features = 10,\n",
    "                                min_samples_leaf = 7, n_estimators = 400,\n",
    "                                random_state=42)\n",
    "\n",
    "train_mae, test_mae = CV_regression(GBR, X_scaled, y, 5, 1)\n",
    "\n",
    "print(\"Train:\\n\", np.mean(train_mae))\n",
    "print(\"Test:\\n\", np.mean(test_mae))"
   ]
  },
  {
   "cell_type": "markdown",
   "metadata": {},
   "source": [
    "## Модель ##"
   ]
  },
  {
   "cell_type": "code",
   "execution_count": 13,
   "metadata": {},
   "outputs": [],
   "source": [
    "def get_class1(mass):\n",
    "    class1_id = []\n",
    "    for i in range(len(mass)):\n",
    "        if mass[i] == 1:\n",
    "            class1_id.append(i)\n",
    "    return class1_id"
   ]
  },
  {
   "cell_type": "code",
   "execution_count": 14,
   "metadata": {},
   "outputs": [],
   "source": [
    "class my_model:\n",
    "    \n",
    "    def __init__(self, classificator, regressor):\n",
    "        self.classificator = classificator\n",
    "        self.regressor = regressor\n",
    "\n",
    "    def fit(self,X_train, y_class, y_regr):\n",
    "        self.classificator.fit(X_train, y_class)\n",
    "        \n",
    "        class1_id = get_class1(y_class)\n",
    "        X_train_regr = X_train[class1_id]\n",
    "        self.regressor.fit(X_train_regr, y_regr[class1_id])\n",
    "    \n",
    "    def predict(self,X_test):\n",
    "        y_pred_class = self.classificator.predict(X_test)\n",
    "        \n",
    "        class1_id = get_class1(y_pred_class)\n",
    "        X_test_regr = X_test[class1_id]\n",
    "        y_pred_regr = self.regressor.predict(X_test_regr)\n",
    "        \n",
    "        y_res = np.zeros(len(y_pred_class))\n",
    "        temp_regr = 0\n",
    "        for temp in range(len(y_pred_class)):\n",
    "            if y_pred_class[temp] == 1:\n",
    "                y_res[temp] = y_pred_regr[temp_regr]\n",
    "                temp_regr += 1\n",
    "            else:\n",
    "                y_res[temp] = 1000000\n",
    "                \n",
    "        return y_res"
   ]
  },
  {
   "cell_type": "code",
   "execution_count": 15,
   "metadata": {},
   "outputs": [],
   "source": [
    "classificator = LogisticRegression(solver='liblinear', random_state=42)\n",
    "regressor     = GradientBoostingRegressor(learning_rate=0.5, max_depth=10,\n",
    "                                          max_features = 10,\n",
    "                                          min_samples_leaf = 7, n_estimators = 300,\n",
    "                                          random_state=42)\n",
    "kfold = StratifiedKFold(n_splits=5, shuffle=True, random_state = 42)"
   ]
  },
  {
   "cell_type": "code",
   "execution_count": null,
   "metadata": {},
   "outputs": [],
   "source": [
    "train_names = ['street_id', 'build_tech', 'floor', 'area', 'rooms', 'balcon',\n",
    "               'metro_dist', 'g_lift', 'n_photos', 'kw1', 'kw2', 'kw3', 'kw4', 'kw5',\n",
    "               'kw6', 'kw7', 'kw8', 'kw9', 'kw10', 'kw11', 'kw12', 'kw13', 'year', 'month','time']"
   ]
  },
  {
   "cell_type": "code",
   "execution_count": 81,
   "metadata": {},
   "outputs": [],
   "source": [
    "X       = df[train_names]\n",
    "y_class = df['class']\n",
    "y_price = df['price']\n",
    "\n",
    "sc_x = StandardScaler()\n",
    "X_scaled = sc_x.fit_transform(X)"
   ]
  },
  {
   "cell_type": "code",
   "execution_count": 89,
   "metadata": {},
   "outputs": [
    {
     "name": "stdout",
     "output_type": "stream",
     "text": [
      "Train:\n",
      " 383040.96184943616\n",
      "Test:\n",
      " 966763.6983755376\n"
     ]
    }
   ],
   "source": [
    "model = my_model(classificator, regressor)\n",
    "train_mae = []\n",
    "test_mae  = []\n",
    "\n",
    "for train, test in kfold.split(X_scaled, y_class):\n",
    "    X_train, X_test = X_scaled[train], X_scaled[test]\n",
    "    y_class_train, y_class_test = y_class.values[train], y_class.values[test]\n",
    "    y_regr_train,  y_regr_test  = y_price.values[train], y_price.values[test]\n",
    "    model.fit(X_train, y_class_train, y_regr_train)\n",
    "    \n",
    "    y_pred_train = model.predict(X_train)\n",
    "    train_mae.append(mae(y_pred_train, y_regr_train))\n",
    "    y_pred_test = model.predict(X_test)\n",
    "    test_mae.append(mae(y_pred_test, y_regr_test))\n",
    "    \n",
    "print(\"Train:\\n\", np.mean(train_mae))\n",
    "print(\"Test:\\n\", np.mean(test_mae))"
   ]
  },
  {
   "cell_type": "markdown",
   "metadata": {},
   "source": [
    "А если без классификатора:"
   ]
  },
  {
   "cell_type": "code",
   "execution_count": 92,
   "metadata": {},
   "outputs": [],
   "source": [
    "class my_model2:\n",
    "    \n",
    "    def __init__(self, regressor):\n",
    "        self.regressor = regressor\n",
    "\n",
    "    def fit(self,X_train, y_class, y_regr):\n",
    "        class1_id = get_class1(y_class)\n",
    "        X_train_regr = X_train[class1_id]\n",
    "        self.regressor.fit(X_train_regr, y_regr[class1_id])\n",
    "    \n",
    "    def predict(self,X_test):\n",
    "        y_pred_regr = self.regressor.predict(X_test)      \n",
    "        return y_pred_regr"
   ]
  },
  {
   "cell_type": "code",
   "execution_count": 93,
   "metadata": {},
   "outputs": [
    {
     "name": "stdout",
     "output_type": "stream",
     "text": [
      "Train:\n",
      " 383040.96184943616\n",
      "Test:\n",
      " 966763.6983755376\n"
     ]
    }
   ],
   "source": [
    "model = my_model2(regressor)\n",
    "train_mae = []\n",
    "test_mae  = []\n",
    "\n",
    "for train, test in kfold.split(X_scaled, y_class):\n",
    "    X_train, X_test = X_scaled[train], X_scaled[test]\n",
    "    y_class_train, y_class_test = y_class.values[train], y_class.values[test]\n",
    "    y_regr_train,  y_regr_test  = y_price.values[train], y_price.values[test]\n",
    "    model.fit(X_train, y_class_train, y_regr_train)\n",
    "    \n",
    "    y_pred_train = model.predict(X_train)\n",
    "    train_mae.append(mae(y_pred_train, y_regr_train))\n",
    "    y_pred_test = model.predict(X_test)\n",
    "    test_mae.append(mae(y_pred_test, y_regr_test))\n",
    "    \n",
    "print(\"Train:\\n\", np.mean(train_mae))\n",
    "print(\"Test:\\n\", np.mean(test_mae))"
   ]
  },
  {
   "cell_type": "markdown",
   "metadata": {},
   "source": [
    "# Итоги #"
   ]
  },
  {
   "cell_type": "markdown",
   "metadata": {},
   "source": [
    "## Тесты ##"
   ]
  },
  {
   "cell_type": "code",
   "execution_count": 64,
   "metadata": {},
   "outputs": [],
   "source": [
    "train_names = ['street_id', 'build_tech', 'floor', 'area', 'rooms', 'balcon',\n",
    "               'metro_dist', 'g_lift', 'n_photos', 'kw1', 'kw2', 'kw3', 'kw4', 'kw5',\n",
    "               'kw6', 'kw7', 'kw8', 'kw9', 'kw10', 'kw11', 'kw12', 'kw13', 'time']\n",
    "\n",
    "df_1    = df[df['id'] < 50000]\n",
    "X_1 = df_1[train_names]\n",
    "y_1 = df_1['price']\n",
    "y_1_class = df_1['class']\n",
    "\n",
    "df_2   = df[df['id'] > 50000]\n",
    "X_2 = df_2[train_names]\n",
    "y_2 = df_2['price']\n",
    "y_2_class = df_2['class']"
   ]
  },
  {
   "cell_type": "code",
   "execution_count": null,
   "metadata": {},
   "outputs": [
    {
     "data": {
      "application/vnd.jupyter.widget-view+json": {
       "model_id": "b543ae8e3fce4f1c8c6b8f84ce537f56",
       "version_major": 2,
       "version_minor": 0
      },
      "text/plain": [
       "HBox(children=(FloatProgress(value=0.0, max=48.0), HTML(value='')))"
      ]
     },
     "metadata": {},
     "output_type": "display_data"
    }
   ],
   "source": [
    "parametres = {'learning_rate': [0.1, 0.2, 0.3],\n",
    "              'max_features' : [10,11,12,12],\n",
    "              'min_samples_leaf': [5,7,9,11]}\n",
    "\n",
    "test_mae = []\n",
    "\n",
    "for temp in tqdm_notebook(range(48)):\n",
    "    lr_id  = int(temp / 16)\n",
    "    mf_id  = int(temp / 4) % 4\n",
    "    msl_id = temp % 4\n",
    "    learning_rate    = parametres['learning_rate'   ][lr_id ]\n",
    "    max_features     = parametres['max_features'    ][mf_id ]\n",
    "    min_samples_leaf = parametres['min_samples_leaf'][msl_id ]\n",
    "    regressor = GradientBoostingRegressor(learning_rate=learning_rate,\n",
    "                                          max_features = max_features,\n",
    "                                          min_samples_leaf = min_samples_leaf,\n",
    "                                          n_estimators = 300, max_depth=10, random_state=42)\n",
    "    classificator = LogisticRegression(solver='liblinear', random_state=42)\n",
    "    model = my_model(classificator, regressor)\n",
    "    \n",
    "    temp_res = []\n",
    "    \n",
    "    X_train, X_test = X_1, X_2\n",
    "    y_train, y_test = y_1, y_2\n",
    "    y_class         = y_1\n",
    "    sc = StandardScaler()\n",
    "    X_train_scaled = sc.fit_transform(X_train, y_train)\n",
    "    X_test_scaled = sc.fit_transform(X_train, y_train)\n",
    "    \n",
    "    model.fit(X_train_scaled, y_class.values, y_train.values)\n",
    "    y_pred = model.predict(X_test_scaled)\n",
    "    temp_res.append(mae (y_pred, y_test.values))\n",
    "                    \n",
    "    X_train, X_test = X_2, X_1\n",
    "    y_train, y_test = y_2, y_1\n",
    "    y_class         = y_2\n",
    "    sc = StandardScaler()\n",
    "    X_train_scaled = sc.fit_transform(X_train, y_train)\n",
    "    X_test_scaled = sc.fit_transform(X_train, y_train)\n",
    "    \n",
    "    model.fit(X_train_scaled, y_class.values, y_train.values)\n",
    "    y_pred = model.predict(X_test_scaled)\n",
    "    temp_res.append(mae (y_pred, y_test.values))\n",
    "                    \n",
    "    test_mae.append(np.mean(temp_res))"
   ]
  },
  {
   "cell_type": "code",
   "execution_count": 192,
   "metadata": {},
   "outputs": [],
   "source": [
    "X_train = X_2\n",
    "y_train = y_2\n",
    "y_class = y_2_class\n",
    "X_test = X_1\n",
    "y_test = y_1"
   ]
  },
  {
   "cell_type": "code",
   "execution_count": 193,
   "metadata": {},
   "outputs": [],
   "source": [
    "sc = StandardScaler()\n",
    "X_train_scaled = sc.fit_transform(X_train, y_train)\n",
    "X_test_scaled = sc.transform(X_test)"
   ]
  },
  {
   "cell_type": "code",
   "execution_count": 194,
   "metadata": {},
   "outputs": [],
   "source": [
    "regressor = GradientBoostingRegressor(learning_rate=0.2, max_depth=10,\n",
    "                                        max_features = 20,\n",
    "                                        min_samples_leaf = 7, n_estimators = 300,\n",
    "                                        random_state=42)\n",
    "classificator = LogisticRegression(solver='liblinear', random_state=42)\n",
    "model = my_model(classificator, regressor)"
   ]
  },
  {
   "cell_type": "code",
   "execution_count": 195,
   "metadata": {},
   "outputs": [],
   "source": [
    "model.fit(X_train_scaled, y_class.values, y_train.values)\n",
    "y_pred = model.predict(X_test_scaled)"
   ]
  },
  {
   "cell_type": "code",
   "execution_count": 196,
   "metadata": {},
   "outputs": [
    {
     "data": {
      "text/plain": [
       "824606.397659558"
      ]
     },
     "execution_count": 196,
     "metadata": {},
     "output_type": "execute_result"
    }
   ],
   "source": [
    "score = mae(y_pred, y_test.values)\n",
    "score"
   ]
  },
  {
   "cell_type": "code",
   "execution_count": 200,
   "metadata": {},
   "outputs": [
    {
     "data": {
      "image/png": "[encoded data removed]",
      "text/plain": [
       "<Figure size 1512x576 with 1 Axes>"
      ]
     },
     "metadata": {
      "needs_background": "light"
     },
     "output_type": "display_data"
    },
    {
     "data": {
      "image/png": "[encoded data removed]",
      "text/plain": [
       "<Figure size 1512x576 with 1 Axes>"
      ]
     },
     "metadata": {
      "needs_background": "light"
     },
     "output_type": "display_data"
    }
   ],
   "source": [
    "import matplotlib.pyplot as plt\n",
    "\n",
    "plt.figure(figsize=(21, 8)) \n",
    "plt.plot(df_1[\"id\"], df_1['class'].values*4e7, color = 'lightblue')\n",
    "plt.plot(df_1[\"id\"], abs(y_pred - y_test.values)) \n",
    "plt.grid()\n",
    "plt.show()\n",
    "plt.figure(figsize=(21, 8)) \n",
    "plt.plot(df_1[\"id\"], df_1['class'].values*4e7, color = 'lightblue')\n",
    "plt.plot(df_1[\"id\"], y_pred - y_test.values)\n",
    "plt.grid()\n",
    "plt.show()"
   ]
  },
  {
   "cell_type": "code",
   "execution_count": 101,
   "metadata": {},
   "outputs": [
    {
     "data": {
      "text/html": [
       "<div>\n",
       "<style scoped>\n",
       "    .dataframe tbody tr th:only-of-type {\n",
       "        vertical-align: middle;\n",
       "    }\n",
       "\n",
       "    .dataframe tbody tr th {\n",
       "        vertical-align: top;\n",
       "    }\n",
       "\n",
       "    .dataframe thead th {\n",
       "        text-align: right;\n",
       "    }\n",
       "</style>\n",
       "<table border=\"1\" class=\"dataframe\">\n",
       "  <thead>\n",
       "    <tr style=\"text-align: right;\">\n",
       "      <th></th>\n",
       "      <th>id</th>\n",
       "      <th>price_pred</th>\n",
       "      <th>price</th>\n",
       "      <th>class</th>\n",
       "    </tr>\n",
       "  </thead>\n",
       "  <tbody>\n",
       "    <tr>\n",
       "      <th>50001</th>\n",
       "      <td>50001</td>\n",
       "      <td>3.702513e+06</td>\n",
       "      <td>3556000</td>\n",
       "      <td>1</td>\n",
       "    </tr>\n",
       "    <tr>\n",
       "      <th>50002</th>\n",
       "      <td>50002</td>\n",
       "      <td>1.161160e+06</td>\n",
       "      <td>4716000</td>\n",
       "      <td>1</td>\n",
       "    </tr>\n",
       "    <tr>\n",
       "      <th>50003</th>\n",
       "      <td>50003</td>\n",
       "      <td>4.308284e+06</td>\n",
       "      <td>4597000</td>\n",
       "      <td>1</td>\n",
       "    </tr>\n",
       "    <tr>\n",
       "      <th>50004</th>\n",
       "      <td>50004</td>\n",
       "      <td>5.864869e+06</td>\n",
       "      <td>5420000</td>\n",
       "      <td>1</td>\n",
       "    </tr>\n",
       "    <tr>\n",
       "      <th>50005</th>\n",
       "      <td>50005</td>\n",
       "      <td>1.052553e+07</td>\n",
       "      <td>13132000</td>\n",
       "      <td>1</td>\n",
       "    </tr>\n",
       "    <tr>\n",
       "      <th>...</th>\n",
       "      <td>...</td>\n",
       "      <td>...</td>\n",
       "      <td>...</td>\n",
       "      <td>...</td>\n",
       "    </tr>\n",
       "    <tr>\n",
       "      <th>99995</th>\n",
       "      <td>99995</td>\n",
       "      <td>3.425918e+06</td>\n",
       "      <td>3898000</td>\n",
       "      <td>1</td>\n",
       "    </tr>\n",
       "    <tr>\n",
       "      <th>99996</th>\n",
       "      <td>99996</td>\n",
       "      <td>8.106872e+06</td>\n",
       "      <td>8698000</td>\n",
       "      <td>1</td>\n",
       "    </tr>\n",
       "    <tr>\n",
       "      <th>99997</th>\n",
       "      <td>99997</td>\n",
       "      <td>4.949197e+06</td>\n",
       "      <td>6498000</td>\n",
       "      <td>1</td>\n",
       "    </tr>\n",
       "    <tr>\n",
       "      <th>99998</th>\n",
       "      <td>99998</td>\n",
       "      <td>8.233837e+06</td>\n",
       "      <td>9436000</td>\n",
       "      <td>1</td>\n",
       "    </tr>\n",
       "    <tr>\n",
       "      <th>99999</th>\n",
       "      <td>99999</td>\n",
       "      <td>3.068803e+06</td>\n",
       "      <td>3230000</td>\n",
       "      <td>1</td>\n",
       "    </tr>\n",
       "  </tbody>\n",
       "</table>\n",
       "<p>49994 rows × 4 columns</p>\n",
       "</div>"
      ],
      "text/plain": [
       "          id    price_pred     price  class\n",
       "50001  50001  3.702513e+06   3556000      1\n",
       "50002  50002  1.161160e+06   4716000      1\n",
       "50003  50003  4.308284e+06   4597000      1\n",
       "50004  50004  5.864869e+06   5420000      1\n",
       "50005  50005  1.052553e+07  13132000      1\n",
       "...      ...           ...       ...    ...\n",
       "99995  99995  3.425918e+06   3898000      1\n",
       "99996  99996  8.106872e+06   8698000      1\n",
       "99997  99997  4.949197e+06   6498000      1\n",
       "99998  99998  8.233837e+06   9436000      1\n",
       "99999  99999  3.068803e+06   3230000      1\n",
       "\n",
       "[49994 rows x 4 columns]"
      ]
     },
     "execution_count": 101,
     "metadata": {},
     "output_type": "execute_result"
    }
   ],
   "source": [
    "output_df = pd.DataFrame()\n",
    "output_df['id'] = df_2['id']\n",
    "output_df['price_pred'] = y_pred\n",
    "output_df['price'] = y_test.values\n",
    "output_df['class'] = df_2['class']\n",
    "output_df"
   ]
  },
  {
   "cell_type": "markdown",
   "metadata": {},
   "source": [
    "## Train data ##"
   ]
  },
  {
   "cell_type": "code",
   "execution_count": 203,
   "metadata": {},
   "outputs": [],
   "source": [
    "train_names = ['street_id', 'build_tech', 'floor', 'area', 'rooms', 'balcon',\n",
    "               'metro_dist', 'g_lift', 'n_photos', 'kw1', 'kw2', 'kw3', 'kw4', 'kw5',\n",
    "               'kw6', 'kw7', 'kw8', 'kw9', 'kw10', 'kw11', 'kw12', 'kw13', 'time']\n",
    "\n",
    "#df_1    = df[df['class'] == 1]\n",
    "X_train = df[train_names]\n",
    "y_train = df['price']\n",
    "y_class = df['class']"
   ]
  },
  {
   "cell_type": "code",
   "execution_count": 204,
   "metadata": {},
   "outputs": [
    {
     "data": {
      "text/html": [
       "<div>\n",
       "<style scoped>\n",
       "    .dataframe tbody tr th:only-of-type {\n",
       "        vertical-align: middle;\n",
       "    }\n",
       "\n",
       "    .dataframe tbody tr th {\n",
       "        vertical-align: top;\n",
       "    }\n",
       "\n",
       "    .dataframe thead th {\n",
       "        text-align: right;\n",
       "    }\n",
       "</style>\n",
       "<table border=\"1\" class=\"dataframe\">\n",
       "  <thead>\n",
       "    <tr style=\"text-align: right;\">\n",
       "      <th></th>\n",
       "      <th>street_id</th>\n",
       "      <th>build_tech</th>\n",
       "      <th>floor</th>\n",
       "      <th>area</th>\n",
       "      <th>rooms</th>\n",
       "      <th>balcon</th>\n",
       "      <th>metro_dist</th>\n",
       "      <th>g_lift</th>\n",
       "      <th>n_photos</th>\n",
       "      <th>kw1</th>\n",
       "      <th>...</th>\n",
       "      <th>kw5</th>\n",
       "      <th>kw6</th>\n",
       "      <th>kw7</th>\n",
       "      <th>kw8</th>\n",
       "      <th>kw9</th>\n",
       "      <th>kw10</th>\n",
       "      <th>kw11</th>\n",
       "      <th>kw12</th>\n",
       "      <th>kw13</th>\n",
       "      <th>time</th>\n",
       "    </tr>\n",
       "  </thead>\n",
       "  <tbody>\n",
       "    <tr>\n",
       "      <th>0</th>\n",
       "      <td>616</td>\n",
       "      <td>0.0</td>\n",
       "      <td>4</td>\n",
       "      <td>43</td>\n",
       "      <td>2</td>\n",
       "      <td>0</td>\n",
       "      <td>30.0</td>\n",
       "      <td>1.0</td>\n",
       "      <td>1</td>\n",
       "      <td>0</td>\n",
       "      <td>...</td>\n",
       "      <td>0</td>\n",
       "      <td>0</td>\n",
       "      <td>0</td>\n",
       "      <td>0</td>\n",
       "      <td>0</td>\n",
       "      <td>0</td>\n",
       "      <td>0</td>\n",
       "      <td>0</td>\n",
       "      <td>0</td>\n",
       "      <td>1</td>\n",
       "    </tr>\n",
       "    <tr>\n",
       "      <th>1</th>\n",
       "      <td>112</td>\n",
       "      <td>0.0</td>\n",
       "      <td>3</td>\n",
       "      <td>33</td>\n",
       "      <td>1</td>\n",
       "      <td>0</td>\n",
       "      <td>15.0</td>\n",
       "      <td>1.0</td>\n",
       "      <td>2</td>\n",
       "      <td>0</td>\n",
       "      <td>...</td>\n",
       "      <td>0</td>\n",
       "      <td>0</td>\n",
       "      <td>0</td>\n",
       "      <td>0</td>\n",
       "      <td>0</td>\n",
       "      <td>0</td>\n",
       "      <td>0</td>\n",
       "      <td>0</td>\n",
       "      <td>0</td>\n",
       "      <td>1</td>\n",
       "    </tr>\n",
       "    <tr>\n",
       "      <th>2</th>\n",
       "      <td>230</td>\n",
       "      <td>1.0</td>\n",
       "      <td>9</td>\n",
       "      <td>34</td>\n",
       "      <td>1</td>\n",
       "      <td>0</td>\n",
       "      <td>25.0</td>\n",
       "      <td>1.0</td>\n",
       "      <td>4</td>\n",
       "      <td>0</td>\n",
       "      <td>...</td>\n",
       "      <td>0</td>\n",
       "      <td>0</td>\n",
       "      <td>0</td>\n",
       "      <td>0</td>\n",
       "      <td>0</td>\n",
       "      <td>0</td>\n",
       "      <td>0</td>\n",
       "      <td>0</td>\n",
       "      <td>0</td>\n",
       "      <td>1</td>\n",
       "    </tr>\n",
       "    <tr>\n",
       "      <th>3</th>\n",
       "      <td>302</td>\n",
       "      <td>1.0</td>\n",
       "      <td>4</td>\n",
       "      <td>60</td>\n",
       "      <td>3</td>\n",
       "      <td>0</td>\n",
       "      <td>15.0</td>\n",
       "      <td>0.0</td>\n",
       "      <td>2</td>\n",
       "      <td>1</td>\n",
       "      <td>...</td>\n",
       "      <td>0</td>\n",
       "      <td>0</td>\n",
       "      <td>0</td>\n",
       "      <td>0</td>\n",
       "      <td>0</td>\n",
       "      <td>0</td>\n",
       "      <td>0</td>\n",
       "      <td>0</td>\n",
       "      <td>0</td>\n",
       "      <td>1</td>\n",
       "    </tr>\n",
       "    <tr>\n",
       "      <th>4</th>\n",
       "      <td>578</td>\n",
       "      <td>0.0</td>\n",
       "      <td>3</td>\n",
       "      <td>49</td>\n",
       "      <td>2</td>\n",
       "      <td>0</td>\n",
       "      <td>30.0</td>\n",
       "      <td>0.0</td>\n",
       "      <td>2</td>\n",
       "      <td>0</td>\n",
       "      <td>...</td>\n",
       "      <td>0</td>\n",
       "      <td>0</td>\n",
       "      <td>0</td>\n",
       "      <td>0</td>\n",
       "      <td>0</td>\n",
       "      <td>0</td>\n",
       "      <td>0</td>\n",
       "      <td>0</td>\n",
       "      <td>0</td>\n",
       "      <td>1</td>\n",
       "    </tr>\n",
       "    <tr>\n",
       "      <th>...</th>\n",
       "      <td>...</td>\n",
       "      <td>...</td>\n",
       "      <td>...</td>\n",
       "      <td>...</td>\n",
       "      <td>...</td>\n",
       "      <td>...</td>\n",
       "      <td>...</td>\n",
       "      <td>...</td>\n",
       "      <td>...</td>\n",
       "      <td>...</td>\n",
       "      <td>...</td>\n",
       "      <td>...</td>\n",
       "      <td>...</td>\n",
       "      <td>...</td>\n",
       "      <td>...</td>\n",
       "      <td>...</td>\n",
       "      <td>...</td>\n",
       "      <td>...</td>\n",
       "      <td>...</td>\n",
       "      <td>...</td>\n",
       "      <td>...</td>\n",
       "    </tr>\n",
       "    <tr>\n",
       "      <th>99995</th>\n",
       "      <td>612</td>\n",
       "      <td>0.0</td>\n",
       "      <td>3</td>\n",
       "      <td>36</td>\n",
       "      <td>1</td>\n",
       "      <td>0</td>\n",
       "      <td>30.0</td>\n",
       "      <td>1.0</td>\n",
       "      <td>3</td>\n",
       "      <td>0</td>\n",
       "      <td>...</td>\n",
       "      <td>0</td>\n",
       "      <td>0</td>\n",
       "      <td>0</td>\n",
       "      <td>0</td>\n",
       "      <td>0</td>\n",
       "      <td>0</td>\n",
       "      <td>0</td>\n",
       "      <td>0</td>\n",
       "      <td>0</td>\n",
       "      <td>15</td>\n",
       "    </tr>\n",
       "    <tr>\n",
       "      <th>99996</th>\n",
       "      <td>573</td>\n",
       "      <td>0.0</td>\n",
       "      <td>4</td>\n",
       "      <td>51</td>\n",
       "      <td>2</td>\n",
       "      <td>0</td>\n",
       "      <td>30.0</td>\n",
       "      <td>1.0</td>\n",
       "      <td>3</td>\n",
       "      <td>0</td>\n",
       "      <td>...</td>\n",
       "      <td>0</td>\n",
       "      <td>0</td>\n",
       "      <td>0</td>\n",
       "      <td>0</td>\n",
       "      <td>0</td>\n",
       "      <td>0</td>\n",
       "      <td>0</td>\n",
       "      <td>0</td>\n",
       "      <td>0</td>\n",
       "      <td>15</td>\n",
       "    </tr>\n",
       "    <tr>\n",
       "      <th>99997</th>\n",
       "      <td>550</td>\n",
       "      <td>0.0</td>\n",
       "      <td>9</td>\n",
       "      <td>48</td>\n",
       "      <td>2</td>\n",
       "      <td>0</td>\n",
       "      <td>30.0</td>\n",
       "      <td>0.0</td>\n",
       "      <td>0</td>\n",
       "      <td>0</td>\n",
       "      <td>...</td>\n",
       "      <td>0</td>\n",
       "      <td>0</td>\n",
       "      <td>0</td>\n",
       "      <td>0</td>\n",
       "      <td>0</td>\n",
       "      <td>0</td>\n",
       "      <td>0</td>\n",
       "      <td>0</td>\n",
       "      <td>0</td>\n",
       "      <td>15</td>\n",
       "    </tr>\n",
       "    <tr>\n",
       "      <th>99998</th>\n",
       "      <td>595</td>\n",
       "      <td>1.0</td>\n",
       "      <td>10</td>\n",
       "      <td>51</td>\n",
       "      <td>2</td>\n",
       "      <td>1</td>\n",
       "      <td>15.0</td>\n",
       "      <td>1.0</td>\n",
       "      <td>1</td>\n",
       "      <td>0</td>\n",
       "      <td>...</td>\n",
       "      <td>0</td>\n",
       "      <td>0</td>\n",
       "      <td>0</td>\n",
       "      <td>0</td>\n",
       "      <td>0</td>\n",
       "      <td>0</td>\n",
       "      <td>0</td>\n",
       "      <td>0</td>\n",
       "      <td>0</td>\n",
       "      <td>15</td>\n",
       "    </tr>\n",
       "    <tr>\n",
       "      <th>99999</th>\n",
       "      <td>388</td>\n",
       "      <td>1.0</td>\n",
       "      <td>2</td>\n",
       "      <td>34</td>\n",
       "      <td>1</td>\n",
       "      <td>1</td>\n",
       "      <td>15.0</td>\n",
       "      <td>0.0</td>\n",
       "      <td>2</td>\n",
       "      <td>0</td>\n",
       "      <td>...</td>\n",
       "      <td>0</td>\n",
       "      <td>0</td>\n",
       "      <td>0</td>\n",
       "      <td>0</td>\n",
       "      <td>0</td>\n",
       "      <td>0</td>\n",
       "      <td>0</td>\n",
       "      <td>0</td>\n",
       "      <td>0</td>\n",
       "      <td>15</td>\n",
       "    </tr>\n",
       "  </tbody>\n",
       "</table>\n",
       "<p>99994 rows × 23 columns</p>\n",
       "</div>"
      ],
      "text/plain": [
       "       street_id  build_tech  floor  area  rooms  balcon  metro_dist  g_lift  \\\n",
       "0            616         0.0      4    43      2       0        30.0     1.0   \n",
       "1            112         0.0      3    33      1       0        15.0     1.0   \n",
       "2            230         1.0      9    34      1       0        25.0     1.0   \n",
       "3            302         1.0      4    60      3       0        15.0     0.0   \n",
       "4            578         0.0      3    49      2       0        30.0     0.0   \n",
       "...          ...         ...    ...   ...    ...     ...         ...     ...   \n",
       "99995        612         0.0      3    36      1       0        30.0     1.0   \n",
       "99996        573         0.0      4    51      2       0        30.0     1.0   \n",
       "99997        550         0.0      9    48      2       0        30.0     0.0   \n",
       "99998        595         1.0     10    51      2       1        15.0     1.0   \n",
       "99999        388         1.0      2    34      1       1        15.0     0.0   \n",
       "\n",
       "       n_photos  kw1  ...  kw5  kw6  kw7  kw8  kw9  kw10  kw11  kw12  kw13  \\\n",
       "0             1    0  ...    0    0    0    0    0     0     0     0     0   \n",
       "1             2    0  ...    0    0    0    0    0     0     0     0     0   \n",
       "2             4    0  ...    0    0    0    0    0     0     0     0     0   \n",
       "3             2    1  ...    0    0    0    0    0     0     0     0     0   \n",
       "4             2    0  ...    0    0    0    0    0     0     0     0     0   \n",
       "...         ...  ...  ...  ...  ...  ...  ...  ...   ...   ...   ...   ...   \n",
       "99995         3    0  ...    0    0    0    0    0     0     0     0     0   \n",
       "99996         3    0  ...    0    0    0    0    0     0     0     0     0   \n",
       "99997         0    0  ...    0    0    0    0    0     0     0     0     0   \n",
       "99998         1    0  ...    0    0    0    0    0     0     0     0     0   \n",
       "99999         2    0  ...    0    0    0    0    0     0     0     0     0   \n",
       "\n",
       "       time  \n",
       "0         1  \n",
       "1         1  \n",
       "2         1  \n",
       "3         1  \n",
       "4         1  \n",
       "...     ...  \n",
       "99995    15  \n",
       "99996    15  \n",
       "99997    15  \n",
       "99998    15  \n",
       "99999    15  \n",
       "\n",
       "[99994 rows x 23 columns]"
      ]
     },
     "execution_count": 204,
     "metadata": {},
     "output_type": "execute_result"
    }
   ],
   "source": [
    "X_train"
   ]
  },
  {
   "cell_type": "code",
   "execution_count": 205,
   "metadata": {},
   "outputs": [],
   "source": [
    "sc = StandardScaler()\n",
    "X_train_scaled = sc.fit_transform(X_train, y_train)"
   ]
  },
  {
   "cell_type": "code",
   "execution_count": 206,
   "metadata": {},
   "outputs": [
    {
     "data": {
      "text/plain": [
       "array([[<matplotlib.axes._subplots.AxesSubplot object at 0x000001E7ABB882C8>]],\n",
       "      dtype=object)"
      ]
     },
     "execution_count": 206,
     "metadata": {},
     "output_type": "execute_result"
    },
    {
     "data": {
      "image/png": "[encoded data removed]",
      "text/plain": [
       "<Figure size 432x288 with 1 Axes>"
      ]
     },
     "metadata": {
      "needs_background": "light"
     },
     "output_type": "display_data"
    },
    {
     "data": {
      "image/png": "[encoded data removed]",
      "text/plain": [
       "<Figure size 432x288 with 1 Axes>"
      ]
     },
     "metadata": {
      "needs_background": "light"
     },
     "output_type": "display_data"
    }
   ],
   "source": [
    "y_train.hist(bins = 150)\n",
    "df.hist(column = 'price_log', bins = 150)"
   ]
  },
  {
   "cell_type": "markdown",
   "metadata": {},
   "source": [
    "## Test data ##"
   ]
  },
  {
   "cell_type": "code",
   "execution_count": 20,
   "metadata": {},
   "outputs": [
    {
     "data": {
      "text/html": [
       "<div>\n",
       "<style scoped>\n",
       "    .dataframe tbody tr th:only-of-type {\n",
       "        vertical-align: middle;\n",
       "    }\n",
       "\n",
       "    .dataframe tbody tr th {\n",
       "        vertical-align: top;\n",
       "    }\n",
       "\n",
       "    .dataframe thead th {\n",
       "        text-align: right;\n",
       "    }\n",
       "</style>\n",
       "<table border=\"1\" class=\"dataframe\">\n",
       "  <thead>\n",
       "    <tr style=\"text-align: right;\">\n",
       "      <th></th>\n",
       "      <th>id</th>\n",
       "      <th>date</th>\n",
       "      <th>street_id</th>\n",
       "      <th>build_tech</th>\n",
       "      <th>floor</th>\n",
       "      <th>area</th>\n",
       "      <th>rooms</th>\n",
       "      <th>balcon</th>\n",
       "      <th>metro_dist</th>\n",
       "      <th>g_lift</th>\n",
       "      <th>...</th>\n",
       "      <th>kw4</th>\n",
       "      <th>kw5</th>\n",
       "      <th>kw6</th>\n",
       "      <th>kw7</th>\n",
       "      <th>kw8</th>\n",
       "      <th>kw9</th>\n",
       "      <th>kw10</th>\n",
       "      <th>kw11</th>\n",
       "      <th>kw12</th>\n",
       "      <th>kw13</th>\n",
       "    </tr>\n",
       "  </thead>\n",
       "  <tbody>\n",
       "    <tr>\n",
       "      <th>0</th>\n",
       "      <td>100000</td>\n",
       "      <td>2012-3</td>\n",
       "      <td>422</td>\n",
       "      <td>0.0</td>\n",
       "      <td>1</td>\n",
       "      <td>59</td>\n",
       "      <td>3</td>\n",
       "      <td>0</td>\n",
       "      <td>25.0</td>\n",
       "      <td>0.0</td>\n",
       "      <td>...</td>\n",
       "      <td>0</td>\n",
       "      <td>0</td>\n",
       "      <td>0</td>\n",
       "      <td>0</td>\n",
       "      <td>0</td>\n",
       "      <td>0</td>\n",
       "      <td>0</td>\n",
       "      <td>0</td>\n",
       "      <td>0</td>\n",
       "      <td>0</td>\n",
       "    </tr>\n",
       "    <tr>\n",
       "      <th>1</th>\n",
       "      <td>100001</td>\n",
       "      <td>2012-3</td>\n",
       "      <td>380</td>\n",
       "      <td>0.0</td>\n",
       "      <td>10</td>\n",
       "      <td>58</td>\n",
       "      <td>2</td>\n",
       "      <td>0</td>\n",
       "      <td>NaN</td>\n",
       "      <td>NaN</td>\n",
       "      <td>...</td>\n",
       "      <td>0</td>\n",
       "      <td>0</td>\n",
       "      <td>0</td>\n",
       "      <td>1</td>\n",
       "      <td>0</td>\n",
       "      <td>0</td>\n",
       "      <td>0</td>\n",
       "      <td>0</td>\n",
       "      <td>0</td>\n",
       "      <td>0</td>\n",
       "    </tr>\n",
       "    <tr>\n",
       "      <th>2</th>\n",
       "      <td>100002</td>\n",
       "      <td>2012-3</td>\n",
       "      <td>362</td>\n",
       "      <td>1.0</td>\n",
       "      <td>3</td>\n",
       "      <td>54</td>\n",
       "      <td>2</td>\n",
       "      <td>0</td>\n",
       "      <td>10.0</td>\n",
       "      <td>NaN</td>\n",
       "      <td>...</td>\n",
       "      <td>0</td>\n",
       "      <td>0</td>\n",
       "      <td>0</td>\n",
       "      <td>0</td>\n",
       "      <td>0</td>\n",
       "      <td>0</td>\n",
       "      <td>0</td>\n",
       "      <td>0</td>\n",
       "      <td>0</td>\n",
       "      <td>0</td>\n",
       "    </tr>\n",
       "    <tr>\n",
       "      <th>3</th>\n",
       "      <td>100003</td>\n",
       "      <td>2012-3</td>\n",
       "      <td>34</td>\n",
       "      <td>0.0</td>\n",
       "      <td>4</td>\n",
       "      <td>35</td>\n",
       "      <td>1</td>\n",
       "      <td>0</td>\n",
       "      <td>25.0</td>\n",
       "      <td>1.0</td>\n",
       "      <td>...</td>\n",
       "      <td>0</td>\n",
       "      <td>0</td>\n",
       "      <td>0</td>\n",
       "      <td>0</td>\n",
       "      <td>0</td>\n",
       "      <td>0</td>\n",
       "      <td>0</td>\n",
       "      <td>0</td>\n",
       "      <td>0</td>\n",
       "      <td>0</td>\n",
       "    </tr>\n",
       "    <tr>\n",
       "      <th>4</th>\n",
       "      <td>100004</td>\n",
       "      <td>2012-3</td>\n",
       "      <td>562</td>\n",
       "      <td>0.0</td>\n",
       "      <td>4</td>\n",
       "      <td>56</td>\n",
       "      <td>3</td>\n",
       "      <td>0</td>\n",
       "      <td>30.0</td>\n",
       "      <td>0.0</td>\n",
       "      <td>...</td>\n",
       "      <td>0</td>\n",
       "      <td>0</td>\n",
       "      <td>0</td>\n",
       "      <td>0</td>\n",
       "      <td>0</td>\n",
       "      <td>0</td>\n",
       "      <td>0</td>\n",
       "      <td>0</td>\n",
       "      <td>0</td>\n",
       "      <td>0</td>\n",
       "    </tr>\n",
       "    <tr>\n",
       "      <th>...</th>\n",
       "      <td>...</td>\n",
       "      <td>...</td>\n",
       "      <td>...</td>\n",
       "      <td>...</td>\n",
       "      <td>...</td>\n",
       "      <td>...</td>\n",
       "      <td>...</td>\n",
       "      <td>...</td>\n",
       "      <td>...</td>\n",
       "      <td>...</td>\n",
       "      <td>...</td>\n",
       "      <td>...</td>\n",
       "      <td>...</td>\n",
       "      <td>...</td>\n",
       "      <td>...</td>\n",
       "      <td>...</td>\n",
       "      <td>...</td>\n",
       "      <td>...</td>\n",
       "      <td>...</td>\n",
       "      <td>...</td>\n",
       "      <td>...</td>\n",
       "    </tr>\n",
       "    <tr>\n",
       "      <th>99995</th>\n",
       "      <td>199995</td>\n",
       "      <td>2013-9</td>\n",
       "      <td>89</td>\n",
       "      <td>0.0</td>\n",
       "      <td>2</td>\n",
       "      <td>43</td>\n",
       "      <td>2</td>\n",
       "      <td>0</td>\n",
       "      <td>30.0</td>\n",
       "      <td>0.0</td>\n",
       "      <td>...</td>\n",
       "      <td>0</td>\n",
       "      <td>0</td>\n",
       "      <td>0</td>\n",
       "      <td>0</td>\n",
       "      <td>0</td>\n",
       "      <td>0</td>\n",
       "      <td>0</td>\n",
       "      <td>0</td>\n",
       "      <td>0</td>\n",
       "      <td>0</td>\n",
       "    </tr>\n",
       "    <tr>\n",
       "      <th>99996</th>\n",
       "      <td>199996</td>\n",
       "      <td>2013-9</td>\n",
       "      <td>664</td>\n",
       "      <td>1.0</td>\n",
       "      <td>7</td>\n",
       "      <td>62</td>\n",
       "      <td>3</td>\n",
       "      <td>1</td>\n",
       "      <td>30.0</td>\n",
       "      <td>NaN</td>\n",
       "      <td>...</td>\n",
       "      <td>0</td>\n",
       "      <td>0</td>\n",
       "      <td>0</td>\n",
       "      <td>0</td>\n",
       "      <td>0</td>\n",
       "      <td>0</td>\n",
       "      <td>0</td>\n",
       "      <td>0</td>\n",
       "      <td>0</td>\n",
       "      <td>0</td>\n",
       "    </tr>\n",
       "    <tr>\n",
       "      <th>99997</th>\n",
       "      <td>199997</td>\n",
       "      <td>2013-9</td>\n",
       "      <td>358</td>\n",
       "      <td>NaN</td>\n",
       "      <td>2</td>\n",
       "      <td>35</td>\n",
       "      <td>1</td>\n",
       "      <td>1</td>\n",
       "      <td>30.0</td>\n",
       "      <td>0.0</td>\n",
       "      <td>...</td>\n",
       "      <td>0</td>\n",
       "      <td>0</td>\n",
       "      <td>0</td>\n",
       "      <td>0</td>\n",
       "      <td>0</td>\n",
       "      <td>0</td>\n",
       "      <td>0</td>\n",
       "      <td>0</td>\n",
       "      <td>0</td>\n",
       "      <td>0</td>\n",
       "    </tr>\n",
       "    <tr>\n",
       "      <th>99998</th>\n",
       "      <td>199998</td>\n",
       "      <td>2013-9</td>\n",
       "      <td>224</td>\n",
       "      <td>1.0</td>\n",
       "      <td>3</td>\n",
       "      <td>52</td>\n",
       "      <td>2</td>\n",
       "      <td>1</td>\n",
       "      <td>30.0</td>\n",
       "      <td>0.0</td>\n",
       "      <td>...</td>\n",
       "      <td>0</td>\n",
       "      <td>0</td>\n",
       "      <td>0</td>\n",
       "      <td>0</td>\n",
       "      <td>0</td>\n",
       "      <td>0</td>\n",
       "      <td>0</td>\n",
       "      <td>0</td>\n",
       "      <td>0</td>\n",
       "      <td>0</td>\n",
       "    </tr>\n",
       "    <tr>\n",
       "      <th>99999</th>\n",
       "      <td>199999</td>\n",
       "      <td>2013-9</td>\n",
       "      <td>373</td>\n",
       "      <td>NaN</td>\n",
       "      <td>1</td>\n",
       "      <td>35</td>\n",
       "      <td>1</td>\n",
       "      <td>1</td>\n",
       "      <td>25.0</td>\n",
       "      <td>NaN</td>\n",
       "      <td>...</td>\n",
       "      <td>0</td>\n",
       "      <td>0</td>\n",
       "      <td>0</td>\n",
       "      <td>0</td>\n",
       "      <td>0</td>\n",
       "      <td>0</td>\n",
       "      <td>0</td>\n",
       "      <td>0</td>\n",
       "      <td>0</td>\n",
       "      <td>0</td>\n",
       "    </tr>\n",
       "  </tbody>\n",
       "</table>\n",
       "<p>100000 rows × 24 columns</p>\n",
       "</div>"
      ],
      "text/plain": [
       "           id    date  street_id  build_tech  floor  area  rooms  balcon  \\\n",
       "0      100000  2012-3        422         0.0      1    59      3       0   \n",
       "1      100001  2012-3        380         0.0     10    58      2       0   \n",
       "2      100002  2012-3        362         1.0      3    54      2       0   \n",
       "3      100003  2012-3         34         0.0      4    35      1       0   \n",
       "4      100004  2012-3        562         0.0      4    56      3       0   \n",
       "...       ...     ...        ...         ...    ...   ...    ...     ...   \n",
       "99995  199995  2013-9         89         0.0      2    43      2       0   \n",
       "99996  199996  2013-9        664         1.0      7    62      3       1   \n",
       "99997  199997  2013-9        358         NaN      2    35      1       1   \n",
       "99998  199998  2013-9        224         1.0      3    52      2       1   \n",
       "99999  199999  2013-9        373         NaN      1    35      1       1   \n",
       "\n",
       "       metro_dist  g_lift  ...  kw4  kw5  kw6  kw7  kw8  kw9  kw10  kw11  \\\n",
       "0            25.0     0.0  ...    0    0    0    0    0    0     0     0   \n",
       "1             NaN     NaN  ...    0    0    0    1    0    0     0     0   \n",
       "2            10.0     NaN  ...    0    0    0    0    0    0     0     0   \n",
       "3            25.0     1.0  ...    0    0    0    0    0    0     0     0   \n",
       "4            30.0     0.0  ...    0    0    0    0    0    0     0     0   \n",
       "...           ...     ...  ...  ...  ...  ...  ...  ...  ...   ...   ...   \n",
       "99995        30.0     0.0  ...    0    0    0    0    0    0     0     0   \n",
       "99996        30.0     NaN  ...    0    0    0    0    0    0     0     0   \n",
       "99997        30.0     0.0  ...    0    0    0    0    0    0     0     0   \n",
       "99998        30.0     0.0  ...    0    0    0    0    0    0     0     0   \n",
       "99999        25.0     NaN  ...    0    0    0    0    0    0     0     0   \n",
       "\n",
       "       kw12  kw13  \n",
       "0         0     0  \n",
       "1         0     0  \n",
       "2         0     0  \n",
       "3         0     0  \n",
       "4         0     0  \n",
       "...     ...   ...  \n",
       "99995     0     0  \n",
       "99996     0     0  \n",
       "99997     0     0  \n",
       "99998     0     0  \n",
       "99999     0     0  \n",
       "\n",
       "[100000 rows x 24 columns]"
      ]
     },
     "execution_count": 20,
     "metadata": {},
     "output_type": "execute_result"
    }
   ],
   "source": [
    "df_test = pd.read_csv(\"./data/task5/Test.csv\")\n",
    "df_test"
   ]
  },
  {
   "cell_type": "code",
   "execution_count": 21,
   "metadata": {},
   "outputs": [
    {
     "data": {
      "application/vnd.jupyter.widget-view+json": {
       "model_id": "e1975d988df54f9d8645657501c8abfc",
       "version_major": 2,
       "version_minor": 0
      },
      "text/plain": [
       "HBox(children=(FloatProgress(value=0.0, max=672.0), HTML(value='')))"
      ]
     },
     "metadata": {},
     "output_type": "display_data"
    },
    {
     "name": "stdout",
     "output_type": "stream",
     "text": [
      "\n"
     ]
    }
   ],
   "source": [
    "for street_id in tqdm_notebook(set(df['street_id'])):\n",
    "    # missed_value возьмем как для обучающей выборки\n",
    "    missed_value = np.mean(df[df['street_id'] == street_id][\"metro_dist\"])\n",
    "    for kid_ in df_test[df_test['street_id'] == street_id]['id']:\n",
    "        id_ = kid_ - 100000\n",
    "        if np.isnan(df_test['metro_dist'][id_]):\n",
    "            df_test['metro_dist'][id_] = missed_value"
   ]
  },
  {
   "cell_type": "code",
   "execution_count": 22,
   "metadata": {},
   "outputs": [
    {
     "data": {
      "application/vnd.jupyter.widget-view+json": {
       "model_id": "d75dc342c08d433494514da701ccaff8",
       "version_major": 2,
       "version_minor": 0
      },
      "text/plain": [
       "HBox(children=(FloatProgress(value=0.0, max=100000.0), HTML(value='')))"
      ]
     },
     "metadata": {},
     "output_type": "display_data"
    },
    {
     "name": "stdout",
     "output_type": "stream",
     "text": [
      "\n"
     ]
    }
   ],
   "source": [
    "value_counts = df[\"build_tech\"].value_counts()\n",
    "total_count = value_counts[0] + value_counts[1] + value_counts[2]\n",
    "p_0  = value_counts[0] / total_count\n",
    "p_1  = value_counts[1] / total_count\n",
    "p_2  = value_counts[2] / total_count\n",
    "perm = [p_0, p_1, p_2]\n",
    "\n",
    "for kid_ in tqdm_notebook(df_test['id']):\n",
    "    id_ = kid_ - 100000\n",
    "    if np.isnan(df_test['build_tech'][id_]):\n",
    "        df_test['build_tech'][id_] = np.random.choice([0.0, 1.0, 2.0], p = perm)"
   ]
  },
  {
   "cell_type": "code",
   "execution_count": 23,
   "metadata": {},
   "outputs": [
    {
     "data": {
      "application/vnd.jupyter.widget-view+json": {
       "model_id": "98969d0ec77847799944be85becd80b1",
       "version_major": 2,
       "version_minor": 0
      },
      "text/plain": [
       "HBox(children=(FloatProgress(value=0.0, max=100000.0), HTML(value='')))"
      ]
     },
     "metadata": {},
     "output_type": "display_data"
    },
    {
     "name": "stdout",
     "output_type": "stream",
     "text": [
      "\n"
     ]
    }
   ],
   "source": [
    "for kid_ in tqdm_notebook(df_test['id']):\n",
    "    id_ = kid_ - 100000\n",
    "    if np.isnan(df_test['g_lift'][id_]):\n",
    "        df_test['g_lift'][id_] = np.random.choice([0.0, 1.0])"
   ]
  },
  {
   "cell_type": "code",
   "execution_count": 25,
   "metadata": {},
   "outputs": [
    {
     "data": {
      "application/vnd.jupyter.widget-view+json": {
       "model_id": "f869abfbefac49b0984a4bad5e92d540",
       "version_major": 2,
       "version_minor": 0
      },
      "text/plain": [
       "HBox(children=(FloatProgress(value=0.0, max=100000.0), HTML(value='')))"
      ]
     },
     "metadata": {},
     "output_type": "display_data"
    },
    {
     "name": "stdout",
     "output_type": "stream",
     "text": [
      "\n"
     ]
    }
   ],
   "source": [
    "year  = []\n",
    "month = []\n",
    "time  = []\n",
    "for id_ in tqdm_notebook(range(df_test.shape[0])):\n",
    "    data = df_test['date'][id_].split('-')\n",
    "    curr_year  = int(data[0])\n",
    "    curr_month = int(data[1])\n",
    "    curr_time = curr_month\n",
    "    if curr_year > 2012:\n",
    "        curr_time += 12\n",
    "    year.append(curr_year)\n",
    "    month.append(curr_month)\n",
    "    time.append(curr_time)\n",
    "df_test['year']  = year\n",
    "df_test['month'] = month\n",
    "df_test['time']  = time\n",
    "#df_test.drop(['date'], axis='columns', inplace=True)"
   ]
  },
  {
   "cell_type": "code",
   "execution_count": 207,
   "metadata": {},
   "outputs": [
    {
     "data": {
      "text/html": [
       "<div>\n",
       "<style scoped>\n",
       "    .dataframe tbody tr th:only-of-type {\n",
       "        vertical-align: middle;\n",
       "    }\n",
       "\n",
       "    .dataframe tbody tr th {\n",
       "        vertical-align: top;\n",
       "    }\n",
       "\n",
       "    .dataframe thead th {\n",
       "        text-align: right;\n",
       "    }\n",
       "</style>\n",
       "<table border=\"1\" class=\"dataframe\">\n",
       "  <thead>\n",
       "    <tr style=\"text-align: right;\">\n",
       "      <th></th>\n",
       "      <th>id</th>\n",
       "      <th>date</th>\n",
       "      <th>street_id</th>\n",
       "      <th>build_tech</th>\n",
       "      <th>floor</th>\n",
       "      <th>area</th>\n",
       "      <th>rooms</th>\n",
       "      <th>balcon</th>\n",
       "      <th>metro_dist</th>\n",
       "      <th>g_lift</th>\n",
       "      <th>...</th>\n",
       "      <th>kw7</th>\n",
       "      <th>kw8</th>\n",
       "      <th>kw9</th>\n",
       "      <th>kw10</th>\n",
       "      <th>kw11</th>\n",
       "      <th>kw12</th>\n",
       "      <th>kw13</th>\n",
       "      <th>year</th>\n",
       "      <th>month</th>\n",
       "      <th>time</th>\n",
       "    </tr>\n",
       "  </thead>\n",
       "  <tbody>\n",
       "    <tr>\n",
       "      <th>0</th>\n",
       "      <td>100000</td>\n",
       "      <td>2012-3</td>\n",
       "      <td>422</td>\n",
       "      <td>0.0</td>\n",
       "      <td>1</td>\n",
       "      <td>59</td>\n",
       "      <td>3</td>\n",
       "      <td>0</td>\n",
       "      <td>25.000000</td>\n",
       "      <td>0.0</td>\n",
       "      <td>...</td>\n",
       "      <td>0</td>\n",
       "      <td>0</td>\n",
       "      <td>0</td>\n",
       "      <td>0</td>\n",
       "      <td>0</td>\n",
       "      <td>0</td>\n",
       "      <td>0</td>\n",
       "      <td>2012</td>\n",
       "      <td>3</td>\n",
       "      <td>3</td>\n",
       "    </tr>\n",
       "    <tr>\n",
       "      <th>1</th>\n",
       "      <td>100001</td>\n",
       "      <td>2012-3</td>\n",
       "      <td>380</td>\n",
       "      <td>0.0</td>\n",
       "      <td>10</td>\n",
       "      <td>58</td>\n",
       "      <td>2</td>\n",
       "      <td>0</td>\n",
       "      <td>21.753247</td>\n",
       "      <td>1.0</td>\n",
       "      <td>...</td>\n",
       "      <td>1</td>\n",
       "      <td>0</td>\n",
       "      <td>0</td>\n",
       "      <td>0</td>\n",
       "      <td>0</td>\n",
       "      <td>0</td>\n",
       "      <td>0</td>\n",
       "      <td>2012</td>\n",
       "      <td>3</td>\n",
       "      <td>3</td>\n",
       "    </tr>\n",
       "    <tr>\n",
       "      <th>2</th>\n",
       "      <td>100002</td>\n",
       "      <td>2012-3</td>\n",
       "      <td>362</td>\n",
       "      <td>1.0</td>\n",
       "      <td>3</td>\n",
       "      <td>54</td>\n",
       "      <td>2</td>\n",
       "      <td>0</td>\n",
       "      <td>10.000000</td>\n",
       "      <td>1.0</td>\n",
       "      <td>...</td>\n",
       "      <td>0</td>\n",
       "      <td>0</td>\n",
       "      <td>0</td>\n",
       "      <td>0</td>\n",
       "      <td>0</td>\n",
       "      <td>0</td>\n",
       "      <td>0</td>\n",
       "      <td>2012</td>\n",
       "      <td>3</td>\n",
       "      <td>3</td>\n",
       "    </tr>\n",
       "    <tr>\n",
       "      <th>3</th>\n",
       "      <td>100003</td>\n",
       "      <td>2012-3</td>\n",
       "      <td>34</td>\n",
       "      <td>0.0</td>\n",
       "      <td>4</td>\n",
       "      <td>35</td>\n",
       "      <td>1</td>\n",
       "      <td>0</td>\n",
       "      <td>25.000000</td>\n",
       "      <td>1.0</td>\n",
       "      <td>...</td>\n",
       "      <td>0</td>\n",
       "      <td>0</td>\n",
       "      <td>0</td>\n",
       "      <td>0</td>\n",
       "      <td>0</td>\n",
       "      <td>0</td>\n",
       "      <td>0</td>\n",
       "      <td>2012</td>\n",
       "      <td>3</td>\n",
       "      <td>3</td>\n",
       "    </tr>\n",
       "    <tr>\n",
       "      <th>4</th>\n",
       "      <td>100004</td>\n",
       "      <td>2012-3</td>\n",
       "      <td>562</td>\n",
       "      <td>0.0</td>\n",
       "      <td>4</td>\n",
       "      <td>56</td>\n",
       "      <td>3</td>\n",
       "      <td>0</td>\n",
       "      <td>30.000000</td>\n",
       "      <td>0.0</td>\n",
       "      <td>...</td>\n",
       "      <td>0</td>\n",
       "      <td>0</td>\n",
       "      <td>0</td>\n",
       "      <td>0</td>\n",
       "      <td>0</td>\n",
       "      <td>0</td>\n",
       "      <td>0</td>\n",
       "      <td>2012</td>\n",
       "      <td>3</td>\n",
       "      <td>3</td>\n",
       "    </tr>\n",
       "    <tr>\n",
       "      <th>...</th>\n",
       "      <td>...</td>\n",
       "      <td>...</td>\n",
       "      <td>...</td>\n",
       "      <td>...</td>\n",
       "      <td>...</td>\n",
       "      <td>...</td>\n",
       "      <td>...</td>\n",
       "      <td>...</td>\n",
       "      <td>...</td>\n",
       "      <td>...</td>\n",
       "      <td>...</td>\n",
       "      <td>...</td>\n",
       "      <td>...</td>\n",
       "      <td>...</td>\n",
       "      <td>...</td>\n",
       "      <td>...</td>\n",
       "      <td>...</td>\n",
       "      <td>...</td>\n",
       "      <td>...</td>\n",
       "      <td>...</td>\n",
       "      <td>...</td>\n",
       "    </tr>\n",
       "    <tr>\n",
       "      <th>99995</th>\n",
       "      <td>199995</td>\n",
       "      <td>2013-9</td>\n",
       "      <td>89</td>\n",
       "      <td>0.0</td>\n",
       "      <td>2</td>\n",
       "      <td>43</td>\n",
       "      <td>2</td>\n",
       "      <td>0</td>\n",
       "      <td>30.000000</td>\n",
       "      <td>0.0</td>\n",
       "      <td>...</td>\n",
       "      <td>0</td>\n",
       "      <td>0</td>\n",
       "      <td>0</td>\n",
       "      <td>0</td>\n",
       "      <td>0</td>\n",
       "      <td>0</td>\n",
       "      <td>0</td>\n",
       "      <td>2013</td>\n",
       "      <td>9</td>\n",
       "      <td>21</td>\n",
       "    </tr>\n",
       "    <tr>\n",
       "      <th>99996</th>\n",
       "      <td>199996</td>\n",
       "      <td>2013-9</td>\n",
       "      <td>664</td>\n",
       "      <td>1.0</td>\n",
       "      <td>7</td>\n",
       "      <td>62</td>\n",
       "      <td>3</td>\n",
       "      <td>1</td>\n",
       "      <td>30.000000</td>\n",
       "      <td>1.0</td>\n",
       "      <td>...</td>\n",
       "      <td>0</td>\n",
       "      <td>0</td>\n",
       "      <td>0</td>\n",
       "      <td>0</td>\n",
       "      <td>0</td>\n",
       "      <td>0</td>\n",
       "      <td>0</td>\n",
       "      <td>2013</td>\n",
       "      <td>9</td>\n",
       "      <td>21</td>\n",
       "    </tr>\n",
       "    <tr>\n",
       "      <th>99997</th>\n",
       "      <td>199997</td>\n",
       "      <td>2013-9</td>\n",
       "      <td>358</td>\n",
       "      <td>1.0</td>\n",
       "      <td>2</td>\n",
       "      <td>35</td>\n",
       "      <td>1</td>\n",
       "      <td>1</td>\n",
       "      <td>30.000000</td>\n",
       "      <td>0.0</td>\n",
       "      <td>...</td>\n",
       "      <td>0</td>\n",
       "      <td>0</td>\n",
       "      <td>0</td>\n",
       "      <td>0</td>\n",
       "      <td>0</td>\n",
       "      <td>0</td>\n",
       "      <td>0</td>\n",
       "      <td>2013</td>\n",
       "      <td>9</td>\n",
       "      <td>21</td>\n",
       "    </tr>\n",
       "    <tr>\n",
       "      <th>99998</th>\n",
       "      <td>199998</td>\n",
       "      <td>2013-9</td>\n",
       "      <td>224</td>\n",
       "      <td>1.0</td>\n",
       "      <td>3</td>\n",
       "      <td>52</td>\n",
       "      <td>2</td>\n",
       "      <td>1</td>\n",
       "      <td>30.000000</td>\n",
       "      <td>0.0</td>\n",
       "      <td>...</td>\n",
       "      <td>0</td>\n",
       "      <td>0</td>\n",
       "      <td>0</td>\n",
       "      <td>0</td>\n",
       "      <td>0</td>\n",
       "      <td>0</td>\n",
       "      <td>0</td>\n",
       "      <td>2013</td>\n",
       "      <td>9</td>\n",
       "      <td>21</td>\n",
       "    </tr>\n",
       "    <tr>\n",
       "      <th>99999</th>\n",
       "      <td>199999</td>\n",
       "      <td>2013-9</td>\n",
       "      <td>373</td>\n",
       "      <td>1.0</td>\n",
       "      <td>1</td>\n",
       "      <td>35</td>\n",
       "      <td>1</td>\n",
       "      <td>1</td>\n",
       "      <td>25.000000</td>\n",
       "      <td>1.0</td>\n",
       "      <td>...</td>\n",
       "      <td>0</td>\n",
       "      <td>0</td>\n",
       "      <td>0</td>\n",
       "      <td>0</td>\n",
       "      <td>0</td>\n",
       "      <td>0</td>\n",
       "      <td>0</td>\n",
       "      <td>2013</td>\n",
       "      <td>9</td>\n",
       "      <td>21</td>\n",
       "    </tr>\n",
       "  </tbody>\n",
       "</table>\n",
       "<p>100000 rows × 27 columns</p>\n",
       "</div>"
      ],
      "text/plain": [
       "           id    date  street_id  build_tech  floor  area  rooms  balcon  \\\n",
       "0      100000  2012-3        422         0.0      1    59      3       0   \n",
       "1      100001  2012-3        380         0.0     10    58      2       0   \n",
       "2      100002  2012-3        362         1.0      3    54      2       0   \n",
       "3      100003  2012-3         34         0.0      4    35      1       0   \n",
       "4      100004  2012-3        562         0.0      4    56      3       0   \n",
       "...       ...     ...        ...         ...    ...   ...    ...     ...   \n",
       "99995  199995  2013-9         89         0.0      2    43      2       0   \n",
       "99996  199996  2013-9        664         1.0      7    62      3       1   \n",
       "99997  199997  2013-9        358         1.0      2    35      1       1   \n",
       "99998  199998  2013-9        224         1.0      3    52      2       1   \n",
       "99999  199999  2013-9        373         1.0      1    35      1       1   \n",
       "\n",
       "       metro_dist  g_lift  ...  kw7  kw8  kw9  kw10  kw11  kw12  kw13  year  \\\n",
       "0       25.000000     0.0  ...    0    0    0     0     0     0     0  2012   \n",
       "1       21.753247     1.0  ...    1    0    0     0     0     0     0  2012   \n",
       "2       10.000000     1.0  ...    0    0    0     0     0     0     0  2012   \n",
       "3       25.000000     1.0  ...    0    0    0     0     0     0     0  2012   \n",
       "4       30.000000     0.0  ...    0    0    0     0     0     0     0  2012   \n",
       "...           ...     ...  ...  ...  ...  ...   ...   ...   ...   ...   ...   \n",
       "99995   30.000000     0.0  ...    0    0    0     0     0     0     0  2013   \n",
       "99996   30.000000     1.0  ...    0    0    0     0     0     0     0  2013   \n",
       "99997   30.000000     0.0  ...    0    0    0     0     0     0     0  2013   \n",
       "99998   30.000000     0.0  ...    0    0    0     0     0     0     0  2013   \n",
       "99999   25.000000     1.0  ...    0    0    0     0     0     0     0  2013   \n",
       "\n",
       "       month  time  \n",
       "0          3     3  \n",
       "1          3     3  \n",
       "2          3     3  \n",
       "3          3     3  \n",
       "4          3     3  \n",
       "...      ...   ...  \n",
       "99995      9    21  \n",
       "99996      9    21  \n",
       "99997      9    21  \n",
       "99998      9    21  \n",
       "99999      9    21  \n",
       "\n",
       "[100000 rows x 27 columns]"
      ]
     },
     "execution_count": 207,
     "metadata": {},
     "output_type": "execute_result"
    }
   ],
   "source": [
    "df_test"
   ]
  },
  {
   "cell_type": "code",
   "execution_count": 201,
   "metadata": {},
   "outputs": [
    {
     "data": {
      "text/html": [
       "<div>\n",
       "<style scoped>\n",
       "    .dataframe tbody tr th:only-of-type {\n",
       "        vertical-align: middle;\n",
       "    }\n",
       "\n",
       "    .dataframe tbody tr th {\n",
       "        vertical-align: top;\n",
       "    }\n",
       "\n",
       "    .dataframe thead th {\n",
       "        text-align: right;\n",
       "    }\n",
       "</style>\n",
       "<table border=\"1\" class=\"dataframe\">\n",
       "  <thead>\n",
       "    <tr style=\"text-align: right;\">\n",
       "      <th></th>\n",
       "      <th>street_id</th>\n",
       "      <th>build_tech</th>\n",
       "      <th>floor</th>\n",
       "      <th>area</th>\n",
       "      <th>rooms</th>\n",
       "      <th>balcon</th>\n",
       "      <th>metro_dist</th>\n",
       "      <th>g_lift</th>\n",
       "      <th>n_photos</th>\n",
       "      <th>kw1</th>\n",
       "      <th>...</th>\n",
       "      <th>kw5</th>\n",
       "      <th>kw6</th>\n",
       "      <th>kw7</th>\n",
       "      <th>kw8</th>\n",
       "      <th>kw9</th>\n",
       "      <th>kw10</th>\n",
       "      <th>kw11</th>\n",
       "      <th>kw12</th>\n",
       "      <th>kw13</th>\n",
       "      <th>time</th>\n",
       "    </tr>\n",
       "  </thead>\n",
       "  <tbody>\n",
       "    <tr>\n",
       "      <th>0</th>\n",
       "      <td>422</td>\n",
       "      <td>0.0</td>\n",
       "      <td>1</td>\n",
       "      <td>59</td>\n",
       "      <td>3</td>\n",
       "      <td>0</td>\n",
       "      <td>25.000000</td>\n",
       "      <td>0.0</td>\n",
       "      <td>1</td>\n",
       "      <td>0</td>\n",
       "      <td>...</td>\n",
       "      <td>0</td>\n",
       "      <td>0</td>\n",
       "      <td>0</td>\n",
       "      <td>0</td>\n",
       "      <td>0</td>\n",
       "      <td>0</td>\n",
       "      <td>0</td>\n",
       "      <td>0</td>\n",
       "      <td>0</td>\n",
       "      <td>3</td>\n",
       "    </tr>\n",
       "    <tr>\n",
       "      <th>1</th>\n",
       "      <td>380</td>\n",
       "      <td>0.0</td>\n",
       "      <td>10</td>\n",
       "      <td>58</td>\n",
       "      <td>2</td>\n",
       "      <td>0</td>\n",
       "      <td>21.753247</td>\n",
       "      <td>1.0</td>\n",
       "      <td>4</td>\n",
       "      <td>0</td>\n",
       "      <td>...</td>\n",
       "      <td>0</td>\n",
       "      <td>0</td>\n",
       "      <td>1</td>\n",
       "      <td>0</td>\n",
       "      <td>0</td>\n",
       "      <td>0</td>\n",
       "      <td>0</td>\n",
       "      <td>0</td>\n",
       "      <td>0</td>\n",
       "      <td>3</td>\n",
       "    </tr>\n",
       "    <tr>\n",
       "      <th>2</th>\n",
       "      <td>362</td>\n",
       "      <td>1.0</td>\n",
       "      <td>3</td>\n",
       "      <td>54</td>\n",
       "      <td>2</td>\n",
       "      <td>0</td>\n",
       "      <td>10.000000</td>\n",
       "      <td>1.0</td>\n",
       "      <td>2</td>\n",
       "      <td>0</td>\n",
       "      <td>...</td>\n",
       "      <td>0</td>\n",
       "      <td>0</td>\n",
       "      <td>0</td>\n",
       "      <td>0</td>\n",
       "      <td>0</td>\n",
       "      <td>0</td>\n",
       "      <td>0</td>\n",
       "      <td>0</td>\n",
       "      <td>0</td>\n",
       "      <td>3</td>\n",
       "    </tr>\n",
       "    <tr>\n",
       "      <th>3</th>\n",
       "      <td>34</td>\n",
       "      <td>0.0</td>\n",
       "      <td>4</td>\n",
       "      <td>35</td>\n",
       "      <td>1</td>\n",
       "      <td>0</td>\n",
       "      <td>25.000000</td>\n",
       "      <td>1.0</td>\n",
       "      <td>0</td>\n",
       "      <td>0</td>\n",
       "      <td>...</td>\n",
       "      <td>0</td>\n",
       "      <td>0</td>\n",
       "      <td>0</td>\n",
       "      <td>0</td>\n",
       "      <td>0</td>\n",
       "      <td>0</td>\n",
       "      <td>0</td>\n",
       "      <td>0</td>\n",
       "      <td>0</td>\n",
       "      <td>3</td>\n",
       "    </tr>\n",
       "    <tr>\n",
       "      <th>4</th>\n",
       "      <td>562</td>\n",
       "      <td>0.0</td>\n",
       "      <td>4</td>\n",
       "      <td>56</td>\n",
       "      <td>3</td>\n",
       "      <td>0</td>\n",
       "      <td>30.000000</td>\n",
       "      <td>0.0</td>\n",
       "      <td>2</td>\n",
       "      <td>0</td>\n",
       "      <td>...</td>\n",
       "      <td>0</td>\n",
       "      <td>0</td>\n",
       "      <td>0</td>\n",
       "      <td>0</td>\n",
       "      <td>0</td>\n",
       "      <td>0</td>\n",
       "      <td>0</td>\n",
       "      <td>0</td>\n",
       "      <td>0</td>\n",
       "      <td>3</td>\n",
       "    </tr>\n",
       "    <tr>\n",
       "      <th>...</th>\n",
       "      <td>...</td>\n",
       "      <td>...</td>\n",
       "      <td>...</td>\n",
       "      <td>...</td>\n",
       "      <td>...</td>\n",
       "      <td>...</td>\n",
       "      <td>...</td>\n",
       "      <td>...</td>\n",
       "      <td>...</td>\n",
       "      <td>...</td>\n",
       "      <td>...</td>\n",
       "      <td>...</td>\n",
       "      <td>...</td>\n",
       "      <td>...</td>\n",
       "      <td>...</td>\n",
       "      <td>...</td>\n",
       "      <td>...</td>\n",
       "      <td>...</td>\n",
       "      <td>...</td>\n",
       "      <td>...</td>\n",
       "      <td>...</td>\n",
       "    </tr>\n",
       "    <tr>\n",
       "      <th>99995</th>\n",
       "      <td>89</td>\n",
       "      <td>0.0</td>\n",
       "      <td>2</td>\n",
       "      <td>43</td>\n",
       "      <td>2</td>\n",
       "      <td>0</td>\n",
       "      <td>30.000000</td>\n",
       "      <td>0.0</td>\n",
       "      <td>0</td>\n",
       "      <td>0</td>\n",
       "      <td>...</td>\n",
       "      <td>0</td>\n",
       "      <td>0</td>\n",
       "      <td>0</td>\n",
       "      <td>0</td>\n",
       "      <td>0</td>\n",
       "      <td>0</td>\n",
       "      <td>0</td>\n",
       "      <td>0</td>\n",
       "      <td>0</td>\n",
       "      <td>21</td>\n",
       "    </tr>\n",
       "    <tr>\n",
       "      <th>99996</th>\n",
       "      <td>664</td>\n",
       "      <td>1.0</td>\n",
       "      <td>7</td>\n",
       "      <td>62</td>\n",
       "      <td>3</td>\n",
       "      <td>1</td>\n",
       "      <td>30.000000</td>\n",
       "      <td>1.0</td>\n",
       "      <td>7</td>\n",
       "      <td>0</td>\n",
       "      <td>...</td>\n",
       "      <td>0</td>\n",
       "      <td>0</td>\n",
       "      <td>0</td>\n",
       "      <td>0</td>\n",
       "      <td>0</td>\n",
       "      <td>0</td>\n",
       "      <td>0</td>\n",
       "      <td>0</td>\n",
       "      <td>0</td>\n",
       "      <td>21</td>\n",
       "    </tr>\n",
       "    <tr>\n",
       "      <th>99997</th>\n",
       "      <td>358</td>\n",
       "      <td>1.0</td>\n",
       "      <td>2</td>\n",
       "      <td>35</td>\n",
       "      <td>1</td>\n",
       "      <td>1</td>\n",
       "      <td>30.000000</td>\n",
       "      <td>0.0</td>\n",
       "      <td>1</td>\n",
       "      <td>1</td>\n",
       "      <td>...</td>\n",
       "      <td>0</td>\n",
       "      <td>0</td>\n",
       "      <td>0</td>\n",
       "      <td>0</td>\n",
       "      <td>0</td>\n",
       "      <td>0</td>\n",
       "      <td>0</td>\n",
       "      <td>0</td>\n",
       "      <td>0</td>\n",
       "      <td>21</td>\n",
       "    </tr>\n",
       "    <tr>\n",
       "      <th>99998</th>\n",
       "      <td>224</td>\n",
       "      <td>1.0</td>\n",
       "      <td>3</td>\n",
       "      <td>52</td>\n",
       "      <td>2</td>\n",
       "      <td>1</td>\n",
       "      <td>30.000000</td>\n",
       "      <td>0.0</td>\n",
       "      <td>1</td>\n",
       "      <td>0</td>\n",
       "      <td>...</td>\n",
       "      <td>0</td>\n",
       "      <td>0</td>\n",
       "      <td>0</td>\n",
       "      <td>0</td>\n",
       "      <td>0</td>\n",
       "      <td>0</td>\n",
       "      <td>0</td>\n",
       "      <td>0</td>\n",
       "      <td>0</td>\n",
       "      <td>21</td>\n",
       "    </tr>\n",
       "    <tr>\n",
       "      <th>99999</th>\n",
       "      <td>373</td>\n",
       "      <td>1.0</td>\n",
       "      <td>1</td>\n",
       "      <td>35</td>\n",
       "      <td>1</td>\n",
       "      <td>1</td>\n",
       "      <td>25.000000</td>\n",
       "      <td>1.0</td>\n",
       "      <td>2</td>\n",
       "      <td>0</td>\n",
       "      <td>...</td>\n",
       "      <td>0</td>\n",
       "      <td>0</td>\n",
       "      <td>0</td>\n",
       "      <td>0</td>\n",
       "      <td>0</td>\n",
       "      <td>0</td>\n",
       "      <td>0</td>\n",
       "      <td>0</td>\n",
       "      <td>0</td>\n",
       "      <td>21</td>\n",
       "    </tr>\n",
       "  </tbody>\n",
       "</table>\n",
       "<p>100000 rows × 23 columns</p>\n",
       "</div>"
      ],
      "text/plain": [
       "       street_id  build_tech  floor  area  rooms  balcon  metro_dist  g_lift  \\\n",
       "0            422         0.0      1    59      3       0   25.000000     0.0   \n",
       "1            380         0.0     10    58      2       0   21.753247     1.0   \n",
       "2            362         1.0      3    54      2       0   10.000000     1.0   \n",
       "3             34         0.0      4    35      1       0   25.000000     1.0   \n",
       "4            562         0.0      4    56      3       0   30.000000     0.0   \n",
       "...          ...         ...    ...   ...    ...     ...         ...     ...   \n",
       "99995         89         0.0      2    43      2       0   30.000000     0.0   \n",
       "99996        664         1.0      7    62      3       1   30.000000     1.0   \n",
       "99997        358         1.0      2    35      1       1   30.000000     0.0   \n",
       "99998        224         1.0      3    52      2       1   30.000000     0.0   \n",
       "99999        373         1.0      1    35      1       1   25.000000     1.0   \n",
       "\n",
       "       n_photos  kw1  ...  kw5  kw6  kw7  kw8  kw9  kw10  kw11  kw12  kw13  \\\n",
       "0             1    0  ...    0    0    0    0    0     0     0     0     0   \n",
       "1             4    0  ...    0    0    1    0    0     0     0     0     0   \n",
       "2             2    0  ...    0    0    0    0    0     0     0     0     0   \n",
       "3             0    0  ...    0    0    0    0    0     0     0     0     0   \n",
       "4             2    0  ...    0    0    0    0    0     0     0     0     0   \n",
       "...         ...  ...  ...  ...  ...  ...  ...  ...   ...   ...   ...   ...   \n",
       "99995         0    0  ...    0    0    0    0    0     0     0     0     0   \n",
       "99996         7    0  ...    0    0    0    0    0     0     0     0     0   \n",
       "99997         1    1  ...    0    0    0    0    0     0     0     0     0   \n",
       "99998         1    0  ...    0    0    0    0    0     0     0     0     0   \n",
       "99999         2    0  ...    0    0    0    0    0     0     0     0     0   \n",
       "\n",
       "       time  \n",
       "0         3  \n",
       "1         3  \n",
       "2         3  \n",
       "3         3  \n",
       "4         3  \n",
       "...     ...  \n",
       "99995    21  \n",
       "99996    21  \n",
       "99997    21  \n",
       "99998    21  \n",
       "99999    21  \n",
       "\n",
       "[100000 rows x 23 columns]"
      ]
     },
     "execution_count": 201,
     "metadata": {},
     "output_type": "execute_result"
    }
   ],
   "source": [
    "X_test = df_test[train_names]\n",
    "X_test"
   ]
  },
  {
   "cell_type": "code",
   "execution_count": 202,
   "metadata": {},
   "outputs": [],
   "source": [
    "X_test_scaled = sc.transform(X_test)"
   ]
  },
  {
   "cell_type": "markdown",
   "metadata": {},
   "source": [
    "## Модель ##"
   ]
  },
  {
   "cell_type": "code",
   "execution_count": 208,
   "metadata": {},
   "outputs": [],
   "source": [
    "regressor = GradientBoostingRegressor(learning_rate=0.2, max_depth=10,\n",
    "                                        max_features = 12,\n",
    "                                        min_samples_leaf = 7, n_estimators = 300,\n",
    "                                        random_state=42)\n",
    "classificator = LogisticRegression(solver='liblinear', random_state=42)\n",
    "model = my_model(classificator, regressor)"
   ]
  },
  {
   "cell_type": "code",
   "execution_count": 209,
   "metadata": {},
   "outputs": [],
   "source": [
    "model.fit(X_train_scaled, y_class.values, y_train.values)\n",
    "y_pred = model.predict(X_test_scaled)"
   ]
  },
  {
   "cell_type": "code",
   "execution_count": 210,
   "metadata": {},
   "outputs": [
    {
     "data": {
      "text/html": [
       "<div>\n",
       "<style scoped>\n",
       "    .dataframe tbody tr th:only-of-type {\n",
       "        vertical-align: middle;\n",
       "    }\n",
       "\n",
       "    .dataframe tbody tr th {\n",
       "        vertical-align: top;\n",
       "    }\n",
       "\n",
       "    .dataframe thead th {\n",
       "        text-align: right;\n",
       "    }\n",
       "</style>\n",
       "<table border=\"1\" class=\"dataframe\">\n",
       "  <thead>\n",
       "    <tr style=\"text-align: right;\">\n",
       "      <th></th>\n",
       "      <th>id</th>\n",
       "      <th>price</th>\n",
       "    </tr>\n",
       "  </thead>\n",
       "  <tbody>\n",
       "    <tr>\n",
       "      <th>0</th>\n",
       "      <td>100000</td>\n",
       "      <td>3.833302e+06</td>\n",
       "    </tr>\n",
       "    <tr>\n",
       "      <th>1</th>\n",
       "      <td>100001</td>\n",
       "      <td>6.743723e+06</td>\n",
       "    </tr>\n",
       "    <tr>\n",
       "      <th>2</th>\n",
       "      <td>100002</td>\n",
       "      <td>3.717054e+06</td>\n",
       "    </tr>\n",
       "    <tr>\n",
       "      <th>3</th>\n",
       "      <td>100003</td>\n",
       "      <td>1.958489e+06</td>\n",
       "    </tr>\n",
       "    <tr>\n",
       "      <th>4</th>\n",
       "      <td>100004</td>\n",
       "      <td>2.690777e+06</td>\n",
       "    </tr>\n",
       "    <tr>\n",
       "      <th>...</th>\n",
       "      <td>...</td>\n",
       "      <td>...</td>\n",
       "    </tr>\n",
       "    <tr>\n",
       "      <th>99995</th>\n",
       "      <td>199995</td>\n",
       "      <td>1.280851e+06</td>\n",
       "    </tr>\n",
       "    <tr>\n",
       "      <th>99996</th>\n",
       "      <td>199996</td>\n",
       "      <td>1.084738e+07</td>\n",
       "    </tr>\n",
       "    <tr>\n",
       "      <th>99997</th>\n",
       "      <td>199997</td>\n",
       "      <td>6.396272e+06</td>\n",
       "    </tr>\n",
       "    <tr>\n",
       "      <th>99998</th>\n",
       "      <td>199998</td>\n",
       "      <td>3.875032e+06</td>\n",
       "    </tr>\n",
       "    <tr>\n",
       "      <th>99999</th>\n",
       "      <td>199999</td>\n",
       "      <td>1.966633e+06</td>\n",
       "    </tr>\n",
       "  </tbody>\n",
       "</table>\n",
       "<p>100000 rows × 2 columns</p>\n",
       "</div>"
      ],
      "text/plain": [
       "           id         price\n",
       "0      100000  3.833302e+06\n",
       "1      100001  6.743723e+06\n",
       "2      100002  3.717054e+06\n",
       "3      100003  1.958489e+06\n",
       "4      100004  2.690777e+06\n",
       "...       ...           ...\n",
       "99995  199995  1.280851e+06\n",
       "99996  199996  1.084738e+07\n",
       "99997  199997  6.396272e+06\n",
       "99998  199998  3.875032e+06\n",
       "99999  199999  1.966633e+06\n",
       "\n",
       "[100000 rows x 2 columns]"
      ]
     },
     "execution_count": 210,
     "metadata": {},
     "output_type": "execute_result"
    }
   ],
   "source": [
    "output_df = pd.DataFrame()\n",
    "output_df['id'] = df_test['id']\n",
    "output_df['price'] = y_pred\n",
    "output_df"
   ]
  },
  {
   "cell_type": "code",
   "execution_count": 211,
   "metadata": {},
   "outputs": [],
   "source": [
    "output_df.to_csv(\"Submission3.csv\", index=False)"
   ]
  },
  {
   "cell_type": "markdown",
   "metadata": {},
   "source": [
    "# Результаты #"
   ]
  },
  {
   "cell_type": "code",
   "execution_count": 213,
   "metadata": {},
   "outputs": [],
   "source": [
    "df1sub = pd.read_csv(\"Submission1.csv\")\n",
    "df2sub = pd.read_csv(\"Submission2.csv\")"
   ]
  },
  {
   "cell_type": "code",
   "execution_count": 56,
   "metadata": {},
   "outputs": [
    {
     "data": {
      "image/png": "[encoded data removed]",
      "text/plain": [
       "<Figure size 1512x576 with 1 Axes>"
      ]
     },
     "metadata": {
      "needs_background": "light"
     },
     "output_type": "display_data"
    }
   ],
   "source": [
    "import matplotlib.pyplot as plt\n",
    "\n",
    "plt.figure(figsize=(21, 8))\n",
    "#plt.plot(df1sub[\"id\"], np.sort(), label = \"sub_1\")\n",
    "plt.plot(df2sub[\"id\"], df1sub[\"price\"] - df2sub[\"price\"], label = \"sub_2\")  \n",
    "plt.grid()\n",
    "plt.show()"
   ]
  },
  {
   "cell_type": "code",
   "execution_count": 55,
   "metadata": {},
   "outputs": [
    {
     "data": {
      "text/plain": [
       "-102593.06517285628"
      ]
     },
     "execution_count": 55,
     "metadata": {},
     "output_type": "execute_result"
    }
   ],
   "source": [
    "np.mean(df1sub[\"price\"] - df2sub[\"price\"])"
   ]
  },
  {
   "cell_type": "code",
   "execution_count": 60,
   "metadata": {},
   "outputs": [],
   "source": [
    "df1sub['price_log'] = np.log(df1sub['price'])\n",
    "df2sub['price_log'] = np.log(df2sub['price'])"
   ]
  },
  {
   "cell_type": "code",
   "execution_count": 103,
   "metadata": {},
   "outputs": [
    {
     "data": {
      "text/plain": [
       "array([[<matplotlib.axes._subplots.AxesSubplot object at 0x000001E7AF9C1488>]],\n",
       "      dtype=object)"
      ]
     },
     "execution_count": 103,
     "metadata": {},
     "output_type": "execute_result"
    },
    {
     "data": {
      "image/png": "[encoded data removed]",
      "text/plain": [
       "<Figure size 432x288 with 1 Axes>"
      ]
     },
     "metadata": {
      "needs_background": "light"
     },
     "output_type": "display_data"
    },
    {
     "data": {
      "image/png": "[encoded data removed]",
      "text/plain": [
       "<Figure size 432x288 with 1 Axes>"
      ]
     },
     "metadata": {
      "needs_background": "light"
     },
     "output_type": "display_data"
    }
   ],
   "source": [
    "df1sub.hist(column = 'price_log', bins = 150)\n",
    "df2sub.hist(column = 'price_log', bins = 150)"
   ]
  },
  {
   "cell_type": "code",
   "execution_count": null,
   "metadata": {},
   "outputs": [],
   "source": []
  }
 ],
 "metadata": {
  "kernelspec": {
   "display_name": "Python 3",
   "language": "python",
   "name": "python3"
  },
  "language_info": {
   "codemirror_mode": {
    "name": "ipython",
    "version": 3
   },
   "file_extension": ".py",
   "mimetype": "text/x-python",
   "name": "python",
   "nbconvert_exporter": "python",
   "pygments_lexer": "ipython3",
   "version": "3.7.6"
  }
 },
 "nbformat": 4,
 "nbformat_minor": 4
}
