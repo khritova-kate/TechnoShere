{
 "cells": [
  {
   "cell_type": "code",
   "execution_count": 4,
   "metadata": {},
   "outputs": [],
   "source": [
    "import pandas as pd\n",
    "import numpy as np\n",
    "import re\n",
    "import nltk\n",
    "import pymorphy2\n",
    "import gensim\n",
    "\n",
    "from collections import Counter\n",
    "import matplotlib.pyplot as plt\n",
    "plt.style.use('ggplot')\n",
    "\n",
    "from sklearn.model_selection import GridSearchCV\n",
    "from sklearn.cluster import KMeans\n",
    "from sklearn.metrics.pairwise import cosine_similarity\n",
    "from sklearn.preprocessing import normalize\n",
    "from sklearn.model_selection import train_test_split\n",
    "from sklearn.preprocessing  import LabelEncoder\n",
    "from sklearn.feature_extraction.text import TfidfVectorizer\n",
    "from sklearn.linear_model import SGDClassifier\n",
    "from sklearn.pipeline import Pipeline\n",
    "from sklearn.metrics import balanced_accuracy_score\n",
    "from sklearn.feature_extraction.text import CountVectorizer \n",
    "\n",
    "from tqdm import tqdm_notebook\n",
    "import warnings\n",
    "warnings.filterwarnings(\"ignore\")"
   ]
  },
  {
   "cell_type": "markdown",
   "metadata": {},
   "source": [
    "# Часть 1\n",
    "## Исследование данных"
   ]
  },
  {
   "cell_type": "code",
   "execution_count": 5,
   "metadata": {},
   "outputs": [
    {
     "data": {
      "text/html": [
       "<div>\n",
       "<style scoped>\n",
       "    .dataframe tbody tr th:only-of-type {\n",
       "        vertical-align: middle;\n",
       "    }\n",
       "\n",
       "    .dataframe tbody tr th {\n",
       "        vertical-align: top;\n",
       "    }\n",
       "\n",
       "    .dataframe thead th {\n",
       "        text-align: right;\n",
       "    }\n",
       "</style>\n",
       "<table border=\"1\" class=\"dataframe\">\n",
       "  <thead>\n",
       "    <tr style=\"text-align: right;\">\n",
       "      <th></th>\n",
       "      <th>sentence</th>\n",
       "      <th>language</th>\n",
       "    </tr>\n",
       "  </thead>\n",
       "  <tbody>\n",
       "    <tr>\n",
       "      <th>0</th>\n",
       "      <td>Pensez à la communication , le discours , les ...</td>\n",
       "      <td>fr</td>\n",
       "    </tr>\n",
       "    <tr>\n",
       "      <th>1</th>\n",
       "      <td>Můžete si ji pronajmout , vzít na splátky , ko...</td>\n",
       "      <td>cs</td>\n",
       "    </tr>\n",
       "    <tr>\n",
       "      <th>2</th>\n",
       "      <td>Každý starosta pochopil , že když mají tyto fo...</td>\n",
       "      <td>cs</td>\n",
       "    </tr>\n",
       "    <tr>\n",
       "      <th>3</th>\n",
       "      <td>Det är ytterligare bevis , men ändå — Jag krit...</td>\n",
       "      <td>sv</td>\n",
       "    </tr>\n",
       "    <tr>\n",
       "      <th>4</th>\n",
       "      <td>كان الأمر لا يصدق .</td>\n",
       "      <td>ar</td>\n",
       "    </tr>\n",
       "    <tr>\n",
       "      <th>...</th>\n",
       "      <td>...</td>\n",
       "      <td>...</td>\n",
       "    </tr>\n",
       "    <tr>\n",
       "      <th>999995</th>\n",
       "      <td>E eu disse , de jeito nenhum , não vou estudar...</td>\n",
       "      <td>pt-br</td>\n",
       "    </tr>\n",
       "    <tr>\n",
       "      <th>999996</th>\n",
       "      <td>Så hvis du er liberal vil du sige . &amp;quot; &amp;qu...</td>\n",
       "      <td>da</td>\n",
       "    </tr>\n",
       "    <tr>\n",
       "      <th>999997</th>\n",
       "      <td>Я почав свою подорож 30 років тому .</td>\n",
       "      <td>uk</td>\n",
       "    </tr>\n",
       "    <tr>\n",
       "      <th>999998</th>\n",
       "      <td>数学的に表現するとこうなります もしあなたが 今日の社会を憂慮しているなら 数学的な関数の値...</td>\n",
       "      <td>ja</td>\n",
       "    </tr>\n",
       "    <tr>\n",
       "      <th>999999</th>\n",
       "      <td>Alcuni anni dopo ci pensò Tim Berners-Lee .</td>\n",
       "      <td>it</td>\n",
       "    </tr>\n",
       "  </tbody>\n",
       "</table>\n",
       "<p>1000000 rows × 2 columns</p>\n",
       "</div>"
      ],
      "text/plain": [
       "                                                 sentence language\n",
       "0       Pensez à la communication , le discours , les ...       fr\n",
       "1       Můžete si ji pronajmout , vzít na splátky , ko...       cs\n",
       "2       Každý starosta pochopil , že když mají tyto fo...       cs\n",
       "3       Det är ytterligare bevis , men ändå — Jag krit...       sv\n",
       "4                                     كان الأمر لا يصدق .       ar\n",
       "...                                                   ...      ...\n",
       "999995  E eu disse , de jeito nenhum , não vou estudar...    pt-br\n",
       "999996  Så hvis du er liberal vil du sige . &quot; &qu...       da\n",
       "999997               Я почав свою подорож 30 років тому .       uk\n",
       "999998  数学的に表現するとこうなります もしあなたが 今日の社会を憂慮しているなら 数学的な関数の値...       ja\n",
       "999999        Alcuni anni dopo ci pensò Tim Berners-Lee .       it\n",
       "\n",
       "[1000000 rows x 2 columns]"
      ]
     },
     "execution_count": 5,
     "metadata": {},
     "output_type": "execute_result"
    }
   ],
   "source": [
    "# если взять перивый миллион текстов, распределение почти не изменится\n",
    "df_train = pd.read_csv(\"./data/task7/train.csv\", nrows = 1_000_000)\n",
    "df_train"
   ]
  },
  {
   "cell_type": "code",
   "execution_count": 6,
   "metadata": {},
   "outputs": [
    {
     "data": {
      "text/plain": [
       "<BarContainer object of 59 artists>"
      ]
     },
     "execution_count": 6,
     "metadata": {},
     "output_type": "execute_result"
    },
    {
     "data": {
      "image/png": "[encoded data removed]",
      "text/plain": [
       "<Figure size 1800x576 with 1 Axes>"
      ]
     },
     "metadata": {},
     "output_type": "display_data"
    }
   ],
   "source": [
    "lang_count = (\n",
    "    df_train.language.value_counts()\n",
    "    .to_frame()\n",
    "    .reset_index()\n",
    ")\n",
    "\n",
    "fig, ax = plt.subplots(figsize=(25,8))\n",
    "ax.bar(lang_count['index'], lang_count['language'])"
   ]
  },
  {
   "cell_type": "markdown",
   "metadata": {},
   "source": [
    "### Ошибки в разметке\n",
    "Если вывести толко русские тексты, то сразу видно, что в разметке есть ошибки."
   ]
  },
  {
   "cell_type": "code",
   "execution_count": 4,
   "metadata": {},
   "outputs": [
    {
     "data": {
      "text/html": [
       "<div>\n",
       "<style scoped>\n",
       "    .dataframe tbody tr th:only-of-type {\n",
       "        vertical-align: middle;\n",
       "    }\n",
       "\n",
       "    .dataframe tbody tr th {\n",
       "        vertical-align: top;\n",
       "    }\n",
       "\n",
       "    .dataframe thead th {\n",
       "        text-align: right;\n",
       "    }\n",
       "</style>\n",
       "<table border=\"1\" class=\"dataframe\">\n",
       "  <thead>\n",
       "    <tr style=\"text-align: right;\">\n",
       "      <th></th>\n",
       "      <th>sentence</th>\n",
       "      <th>language</th>\n",
       "    </tr>\n",
       "  </thead>\n",
       "  <tbody>\n",
       "    <tr>\n",
       "      <th>10</th>\n",
       "      <td>После увольнения я решил собрать своих друзей ...</td>\n",
       "      <td>ru</td>\n",
       "    </tr>\n",
       "    <tr>\n",
       "      <th>13</th>\n",
       "      <td>Ты знаешь , что это не гнев заставил моё сердц...</td>\n",
       "      <td>ru</td>\n",
       "    </tr>\n",
       "    <tr>\n",
       "      <th>26</th>\n",
       "      <td>гэта што калі мы не яны як але ён каб дзякуй б...</td>\n",
       "      <td>ru</td>\n",
       "    </tr>\n",
       "    <tr>\n",
       "      <th>40</th>\n",
       "      <td>Ради всех имён , которые я никогда не узнаю , ...</td>\n",
       "      <td>ru</td>\n",
       "    </tr>\n",
       "    <tr>\n",
       "      <th>91</th>\n",
       "      <td>що це тому ми чи дуже які щоб дякую якщо було ...</td>\n",
       "      <td>ru</td>\n",
       "    </tr>\n",
       "    <tr>\n",
       "      <th>...</th>\n",
       "      <td>...</td>\n",
       "      <td>...</td>\n",
       "    </tr>\n",
       "    <tr>\n",
       "      <th>999902</th>\n",
       "      <td>гэта што калі мы не яны як але ён каб дзякуй б...</td>\n",
       "      <td>ru</td>\n",
       "    </tr>\n",
       "    <tr>\n",
       "      <th>999960</th>\n",
       "      <td>гэта што калі мы не яны як але ён каб дзякуй б...</td>\n",
       "      <td>ru</td>\n",
       "    </tr>\n",
       "    <tr>\n",
       "      <th>999979</th>\n",
       "      <td>Каждый Рейнджер обещает другому Рейнджеру Не в...</td>\n",
       "      <td>ru</td>\n",
       "    </tr>\n",
       "    <tr>\n",
       "      <th>999981</th>\n",
       "      <td>Ну конечно , меня интересовала только математи...</td>\n",
       "      <td>ru</td>\n",
       "    </tr>\n",
       "    <tr>\n",
       "      <th>999984</th>\n",
       "      <td>гэта што калі мы не яны як але ён каб дзякуй б...</td>\n",
       "      <td>ru</td>\n",
       "    </tr>\n",
       "  </tbody>\n",
       "</table>\n",
       "<p>57512 rows × 2 columns</p>\n",
       "</div>"
      ],
      "text/plain": [
       "                                                 sentence language\n",
       "10      После увольнения я решил собрать своих друзей ...       ru\n",
       "13      Ты знаешь , что это не гнев заставил моё сердц...       ru\n",
       "26      гэта што калі мы не яны як але ён каб дзякуй б...       ru\n",
       "40      Ради всех имён , которые я никогда не узнаю , ...       ru\n",
       "91      що це тому ми чи дуже які щоб дякую якщо було ...       ru\n",
       "...                                                   ...      ...\n",
       "999902  гэта што калі мы не яны як але ён каб дзякуй б...       ru\n",
       "999960  гэта што калі мы не яны як але ён каб дзякуй б...       ru\n",
       "999979  Каждый Рейнджер обещает другому Рейнджеру Не в...       ru\n",
       "999981  Ну конечно , меня интересовала только математи...       ru\n",
       "999984  гэта што калі мы не яны як але ён каб дзякуй б...       ru\n",
       "\n",
       "[57512 rows x 2 columns]"
      ]
     },
     "execution_count": 4,
     "metadata": {},
     "output_type": "execute_result"
    }
   ],
   "source": [
    "df_train[df_train['language'] == 'ru']"
   ]
  },
  {
   "cell_type": "markdown",
   "metadata": {},
   "source": [
    "Аналогично, если вывести число повторений текстов, можно сразу найти ошибки в других языках:"
   ]
  },
  {
   "cell_type": "markdown",
   "metadata": {},
   "source": [
    "Белорусский текст"
   ]
  },
  {
   "cell_type": "code",
   "execution_count": 127,
   "metadata": {},
   "outputs": [
    {
     "data": {
      "text/plain": [
       "'гэта што калі мы не яны як але ён каб дзякуй больш пра на вы'"
      ]
     },
     "execution_count": 127,
     "metadata": {},
     "output_type": "execute_result"
    }
   ],
   "source": [
    "be_text = df_train['sentence'][26]\n",
    "be_text"
   ]
  },
  {
   "cell_type": "markdown",
   "metadata": {},
   "source": [
    "Украинский текст"
   ]
  },
  {
   "cell_type": "code",
   "execution_count": 128,
   "metadata": {},
   "outputs": [
    {
     "data": {
      "text/plain": [
       "'що це тому ми чи дуже які щоб дякую якщо було вона від мене ось'"
      ]
     },
     "execution_count": 128,
     "metadata": {},
     "output_type": "execute_result"
    }
   ],
   "source": [
    "uk_text = df_train['sentence'][91]\n",
    "uk_text"
   ]
  },
  {
   "cell_type": "code",
   "execution_count": 7,
   "metadata": {},
   "outputs": [],
   "source": [
    "#for leng in set(df_train['language']):\n",
    "#    print(leng)\n",
    "#    print(df_train[df_train['language'] == leng]['sentence'].value_counts()[:5])\n",
    "#    print()\n",
    "\n",
    "# 'et','fr','vi','ru','en','th', 'ta'\n",
    "errors = ['що це ми не як на вони та але ви до про він оплески коли',\n",
    "          'що це тому ми чи дуже які щоб дякую якщо було вона від мене ось', \n",
    "          'это что мы не как на вы они но из то он так для аплодисменты',\n",
    "          '笑聲 掌聲 謝謝 所以 現在 事實上 當然 因此 謝謝大家 對吧 但是 鼓掌 謝謝各位 他說 我說',\n",
    "          '笑声 掌声 谢谢 现在 所以 事实上 当然 鼓掌 但是 因此 那么 非常感谢 谢谢大家 是的 好吧',\n",
    "          'the and of it that you to apos we this is in they so are',\n",
    "          'гэта што калі мы не яны як але ён каб дзякуй больш пра на вы']"
   ]
  },
  {
   "cell_type": "code",
   "execution_count": 8,
   "metadata": {},
   "outputs": [
    {
     "data": {
      "text/html": [
       "<div>\n",
       "<style scoped>\n",
       "    .dataframe tbody tr th:only-of-type {\n",
       "        vertical-align: middle;\n",
       "    }\n",
       "\n",
       "    .dataframe tbody tr th {\n",
       "        vertical-align: top;\n",
       "    }\n",
       "\n",
       "    .dataframe thead th {\n",
       "        text-align: right;\n",
       "    }\n",
       "</style>\n",
       "<table border=\"1\" class=\"dataframe\">\n",
       "  <thead>\n",
       "    <tr style=\"text-align: right;\">\n",
       "      <th></th>\n",
       "      <th>sentence</th>\n",
       "      <th>language</th>\n",
       "    </tr>\n",
       "  </thead>\n",
       "  <tbody>\n",
       "    <tr>\n",
       "      <th>0</th>\n",
       "      <td>Pensez à la communication , le discours , les ...</td>\n",
       "      <td>fr</td>\n",
       "    </tr>\n",
       "    <tr>\n",
       "      <th>1</th>\n",
       "      <td>Můžete si ji pronajmout , vzít na splátky , ko...</td>\n",
       "      <td>cs</td>\n",
       "    </tr>\n",
       "    <tr>\n",
       "      <th>2</th>\n",
       "      <td>Každý starosta pochopil , že když mají tyto fo...</td>\n",
       "      <td>cs</td>\n",
       "    </tr>\n",
       "    <tr>\n",
       "      <th>3</th>\n",
       "      <td>Det är ytterligare bevis , men ändå — Jag krit...</td>\n",
       "      <td>sv</td>\n",
       "    </tr>\n",
       "    <tr>\n",
       "      <th>4</th>\n",
       "      <td>كان الأمر لا يصدق .</td>\n",
       "      <td>ar</td>\n",
       "    </tr>\n",
       "    <tr>\n",
       "      <th>...</th>\n",
       "      <td>...</td>\n",
       "      <td>...</td>\n",
       "    </tr>\n",
       "    <tr>\n",
       "      <th>897097</th>\n",
       "      <td>E eu disse , de jeito nenhum , não vou estudar...</td>\n",
       "      <td>pt-br</td>\n",
       "    </tr>\n",
       "    <tr>\n",
       "      <th>897098</th>\n",
       "      <td>Så hvis du er liberal vil du sige . &amp;quot; &amp;qu...</td>\n",
       "      <td>da</td>\n",
       "    </tr>\n",
       "    <tr>\n",
       "      <th>897099</th>\n",
       "      <td>Я почав свою подорож 30 років тому .</td>\n",
       "      <td>uk</td>\n",
       "    </tr>\n",
       "    <tr>\n",
       "      <th>897100</th>\n",
       "      <td>数学的に表現するとこうなります もしあなたが 今日の社会を憂慮しているなら 数学的な関数の値...</td>\n",
       "      <td>ja</td>\n",
       "    </tr>\n",
       "    <tr>\n",
       "      <th>897101</th>\n",
       "      <td>Alcuni anni dopo ci pensò Tim Berners-Lee .</td>\n",
       "      <td>it</td>\n",
       "    </tr>\n",
       "  </tbody>\n",
       "</table>\n",
       "<p>897102 rows × 2 columns</p>\n",
       "</div>"
      ],
      "text/plain": [
       "                                                 sentence language\n",
       "0       Pensez à la communication , le discours , les ...       fr\n",
       "1       Můžete si ji pronajmout , vzít na splátky , ko...       cs\n",
       "2       Každý starosta pochopil , že když mají tyto fo...       cs\n",
       "3       Det är ytterligare bevis , men ändå — Jag krit...       sv\n",
       "4                                     كان الأمر لا يصدق .       ar\n",
       "...                                                   ...      ...\n",
       "897097  E eu disse , de jeito nenhum , não vou estudar...    pt-br\n",
       "897098  Så hvis du er liberal vil du sige . &quot; &qu...       da\n",
       "897099               Я почав свою подорож 30 років тому .       uk\n",
       "897100  数学的に表現するとこうなります もしあなたが 今日の社会を憂慮しているなら 数学的な関数の値...       ja\n",
       "897101        Alcuni anni dopo ci pensò Tim Berners-Lee .       it\n",
       "\n",
       "[897102 rows x 2 columns]"
      ]
     },
     "execution_count": 8,
     "metadata": {},
     "output_type": "execute_result"
    }
   ],
   "source": [
    "df_clear = df_train.loc[~df_train['sentence'].isin(errors)]\n",
    "sentences = np.array(df_clear['sentence'])\n",
    "languages = np.array(df_clear['language'])\n",
    "\n",
    "df_train_clear = pd.DataFrame()\n",
    "df_train_clear['sentence'] = sentences\n",
    "df_train_clear['language'] = languages\n",
    "df_train_clear"
   ]
  },
  {
   "cell_type": "code",
   "execution_count": 84,
   "metadata": {},
   "outputs": [
    {
     "data": {
      "text/plain": [
       "<BarContainer object of 59 artists>"
      ]
     },
     "execution_count": 84,
     "metadata": {},
     "output_type": "execute_result"
    },
    {
     "data": {
      "image/png": "[encoded data removed]",
      "text/plain": [
       "<Figure size 1800x576 with 1 Axes>"
      ]
     },
     "metadata": {},
     "output_type": "display_data"
    }
   ],
   "source": [
    "lang_count = (\n",
    "    df_train_clear.language.value_counts()\n",
    "    .to_frame()\n",
    "    .reset_index()\n",
    ")\n",
    "\n",
    "fig, ax = plt.subplots(figsize=(25,8))\n",
    "ax.bar(lang_count['index'], lang_count['language'])"
   ]
  },
  {
   "cell_type": "markdown",
   "metadata": {},
   "source": [
    "### Какие токены встречаются во всех языках\n",
    "Во всех языках встречаются знаки препинания"
   ]
  },
  {
   "cell_type": "code",
   "execution_count": 7,
   "metadata": {},
   "outputs": [
    {
     "name": "stdout",
     "output_type": "stream",
     "text": [
      "Primul e , imaginaţi-vă că mergeţi la un investitor de risc mare şi spuneţi , &quot; &quot; Am o idee fantastică .\n",
      "['Primul', 'e', ',', 'imaginaţi-vă', 'că', 'mergeţi', 'la', 'un', 'investitor', 'de', 'risc', 'mare', 'şi', 'spuneţi', ',', '\"', '\"', 'Am', 'o', 'idee', 'fantastică', '.']\n"
     ]
    }
   ],
   "source": [
    "sentence = df_train_clear['sentence'][70]\n",
    "print(sentence)\n",
    "print(nltk.tokenize.casual_tokenize(sentence))"
   ]
  },
  {
   "cell_type": "code",
   "execution_count": 13,
   "metadata": {},
   "outputs": [
    {
     "data": {
      "application/vnd.jupyter.widget-view+json": {
       "model_id": "4786e222a64a4e31b58026f2af9115a6",
       "version_major": 2,
       "version_minor": 0
      },
      "text/plain": [
       "HBox(children=(FloatProgress(value=0.0, max=59.0), HTML(value='')))"
      ]
     },
     "metadata": {},
     "output_type": "display_data"
    },
    {
     "name": "stdout",
     "output_type": "stream",
     "text": [
      "\n"
     ]
    }
   ],
   "source": [
    "occurence_language = {}\n",
    "\n",
    "for language in tqdm_notebook(set(df_train_clear['language'])):\n",
    "    occurence = Counter()\n",
    "    for sentence in df_train_clear[df_train_clear['language'] == language]['sentence']:\n",
    "        for token in nltk.tokenize.casual_tokenize(sentence):\n",
    "            occurence[token] += 1\n",
    "    occurence_language[language] = occurence"
   ]
  },
  {
   "cell_type": "code",
   "execution_count": 29,
   "metadata": {},
   "outputs": [
    {
     "data": {
      "application/vnd.jupyter.widget-view+json": {
       "model_id": "5fdede7ad0f343e385e061e92f73dc1e",
       "version_major": 2,
       "version_minor": 0
      },
      "text/plain": [
       "HBox(children=(FloatProgress(value=0.0, max=59.0), HTML(value='')))"
      ]
     },
     "metadata": {},
     "output_type": "display_data"
    },
    {
     "name": "stdout",
     "output_type": "stream",
     "text": [
      "\n"
     ]
    },
    {
     "data": {
      "text/plain": [
       "{'\"', '(', ')', ',', '-', '.', ':'}"
      ]
     },
     "execution_count": 29,
     "metadata": {},
     "output_type": "execute_result"
    }
   ],
   "source": [
    "common_token = set(occurence_language['ru'].keys())\n",
    "for language in tqdm_notebook(set(df_train_clear['language'])):\n",
    "    common_token = common_token.intersection(set(occurence_language[language].keys()))\n",
    "common_token"
   ]
  },
  {
   "cell_type": "markdown",
   "metadata": {},
   "source": [
    "### Коллокации\n",
    "Сначала нужно очистить текст от знаков препинания"
   ]
  },
  {
   "cell_type": "code",
   "execution_count": 13,
   "metadata": {},
   "outputs": [],
   "source": [
    "def preprocessor(text):\n",
    "    text = text.replace('&quot',' ')\n",
    "    text = text.replace('&apos',\" \")\n",
    "    whitespaced_text = re.sub(\"[ —!#$&%\\()*+,-./:;<=>?@[\\\\]^_`{|}~»♫1234567890 ]\", \" \", text.lower())\n",
    "    return re.sub(' +', ' ',  whitespaced_text)"
   ]
  },
  {
   "cell_type": "code",
   "execution_count": 124,
   "metadata": {},
   "outputs": [
    {
     "data": {
      "application/vnd.jupyter.widget-view+json": {
       "model_id": "4c1cdf0802b9446b9ab48e4cd6fa4cd1",
       "version_major": 2,
       "version_minor": 0
      },
      "text/plain": [
       "HBox(children=(FloatProgress(value=0.0, max=33912.0), HTML(value='')))"
      ]
     },
     "metadata": {},
     "output_type": "display_data"
    },
    {
     "name": "stdout",
     "output_type": "stream",
     "text": [
      "\n"
     ]
    },
    {
     "data": {
      "application/vnd.jupyter.widget-view+json": {
       "model_id": "99cd8ada4e3846c98600800f42a2eeae",
       "version_major": 2,
       "version_minor": 0
      },
      "text/plain": [
       "HBox(children=(FloatProgress(value=0.0, max=42038.0), HTML(value='')))"
      ]
     },
     "metadata": {},
     "output_type": "display_data"
    },
    {
     "name": "stdout",
     "output_type": "stream",
     "text": [
      "\n"
     ]
    },
    {
     "data": {
      "application/vnd.jupyter.widget-view+json": {
       "model_id": "858b3ebab2ec4971af3be691ca1a4218",
       "version_major": 2,
       "version_minor": 0
      },
      "text/plain": [
       "HBox(children=(FloatProgress(value=0.0, max=27241.0), HTML(value='')))"
      ]
     },
     "metadata": {},
     "output_type": "display_data"
    },
    {
     "name": "stdout",
     "output_type": "stream",
     "text": [
      "\n"
     ]
    }
   ],
   "source": [
    "cooccurence_language = {}\n",
    "\n",
    "for language in ['ru', 'en', 'de']:\n",
    "    cooccurence = Counter()\n",
    "    troccurence = Counter()\n",
    "    teoccurence = Counter()\n",
    "    for sentence in tqdm_notebook(df_train_clear[df_train_clear['language'] == language]['sentence']):\n",
    "        token = nltk.tokenize.casual_tokenize(preprocessor(sentence))\n",
    "        for i in range(len(token) - 3):\n",
    "            cooccurence[(token[i], token[i+1])] += 1\n",
    "            troccurence[(token[i], token[i+1], token[i+2])] += 1\n",
    "            teoccurence[(token[i], token[i+1], token[i+2], token[i+3])] += 1\n",
    "    cooccurence_language[language] = [cooccurence, troccurence, teoccurence]"
   ]
  },
  {
   "cell_type": "markdown",
   "metadata": {},
   "source": [
    "Коллокации в основном состоят из сочетаний слов с местоимениями и словосочетаний, соединяющих сложные предложения в языке."
   ]
  },
  {
   "cell_type": "code",
   "execution_count": 125,
   "metadata": {},
   "outputs": [
    {
     "data": {
      "text/html": [
       "<div>\n",
       "<style scoped>\n",
       "    .dataframe tbody tr th:only-of-type {\n",
       "        vertical-align: middle;\n",
       "    }\n",
       "\n",
       "    .dataframe tbody tr th {\n",
       "        vertical-align: top;\n",
       "    }\n",
       "\n",
       "    .dataframe thead th {\n",
       "        text-align: right;\n",
       "    }\n",
       "</style>\n",
       "<table border=\"1\" class=\"dataframe\">\n",
       "  <thead>\n",
       "    <tr style=\"text-align: right;\">\n",
       "      <th></th>\n",
       "      <th>ru2</th>\n",
       "      <th>ru3</th>\n",
       "      <th>ru4</th>\n",
       "      <th>en2</th>\n",
       "      <th>en3</th>\n",
       "      <th>en4</th>\n",
       "      <th>de2</th>\n",
       "      <th>de3</th>\n",
       "      <th>de4</th>\n",
       "    </tr>\n",
       "  </thead>\n",
       "  <tbody>\n",
       "    <tr>\n",
       "      <th>0</th>\n",
       "      <td>потому что</td>\n",
       "      <td>в том что</td>\n",
       "      <td>в то же время</td>\n",
       "      <td>it s</td>\n",
       "      <td>a lot of</td>\n",
       "      <td>i m going to</td>\n",
       "      <td>das ist</td>\n",
       "      <td>und das ist</td>\n",
       "      <td>stellen sie sich vor</td>\n",
       "    </tr>\n",
       "    <tr>\n",
       "      <th>1</th>\n",
       "      <td>то что</td>\n",
       "      <td>на самом деле</td>\n",
       "      <td>я имею в виду</td>\n",
       "      <td>of the</td>\n",
       "      <td>it s a</td>\n",
       "      <td>we re going to</td>\n",
       "      <td>in der</td>\n",
       "      <td>das ist ein</td>\n",
       "      <td>in den letzten jahren</td>\n",
       "    </tr>\n",
       "    <tr>\n",
       "      <th>2</th>\n",
       "      <td>и я</td>\n",
       "      <td>о том что</td>\n",
       "      <td>в том что мы</td>\n",
       "      <td>in the</td>\n",
       "      <td>and it s</td>\n",
       "      <td>thank you very much</td>\n",
       "      <td>es ist</td>\n",
       "      <td>es ist ein</td>\n",
       "      <td>auf der ganzen welt</td>\n",
       "    </tr>\n",
       "    <tr>\n",
       "      <th>3</th>\n",
       "      <td>что мы</td>\n",
       "      <td>у нас есть</td>\n",
       "      <td>в то время как</td>\n",
       "      <td>and i</td>\n",
       "      <td>one of the</td>\n",
       "      <td>i don t know</td>\n",
       "      <td>und ich</td>\n",
       "      <td>es ist eine</td>\n",
       "      <td>überall auf der welt</td>\n",
       "    </tr>\n",
       "    <tr>\n",
       "      <th>4</th>\n",
       "      <td>том что</td>\n",
       "      <td>о том как</td>\n",
       "      <td>проблема в том что</td>\n",
       "      <td>this is</td>\n",
       "      <td>this is a</td>\n",
       "      <td>to be able to</td>\n",
       "      <td>und das</td>\n",
       "      <td>das ist eine</td>\n",
       "      <td>das ist es was</td>\n",
       "    </tr>\n",
       "    <tr>\n",
       "      <th>5</th>\n",
       "      <td>в том</td>\n",
       "      <td>я думаю что</td>\n",
       "      <td>несмотря на то что</td>\n",
       "      <td>that s</td>\n",
       "      <td>i don t</td>\n",
       "      <td>i d like to</td>\n",
       "      <td>in den</td>\n",
       "      <td>das ist die</td>\n",
       "      <td>und das ist die</td>\n",
       "    </tr>\n",
       "    <tr>\n",
       "      <th>6</th>\n",
       "      <td>что я</td>\n",
       "      <td>для того чтобы</td>\n",
       "      <td>состоит в том что</td>\n",
       "      <td>and the</td>\n",
       "      <td>it s not</td>\n",
       "      <td>you re going to</td>\n",
       "      <td>und die</td>\n",
       "      <td>und es ist</td>\n",
       "      <td>vor ein paar jahren</td>\n",
       "    </tr>\n",
       "    <tr>\n",
       "      <th>7</th>\n",
       "      <td>у нас</td>\n",
       "      <td>то что мы</td>\n",
       "      <td>заключается в том что</td>\n",
       "      <td>i m</td>\n",
       "      <td>i m going</td>\n",
       "      <td>in the united states</td>\n",
       "      <td>und sie</td>\n",
       "      <td>stellen sie sich</td>\n",
       "      <td>ich denke das ist</td>\n",
       "    </tr>\n",
       "    <tr>\n",
       "      <th>8</th>\n",
       "      <td>и это</td>\n",
       "      <td>это то что</td>\n",
       "      <td>дело в том что</td>\n",
       "      <td>going to</td>\n",
       "      <td>i want to</td>\n",
       "      <td>at the same time</td>\n",
       "      <td>ist ein</td>\n",
       "      <td>das ist der</td>\n",
       "      <td>in den vereinigten staaten</td>\n",
       "    </tr>\n",
       "    <tr>\n",
       "      <th>9</th>\n",
       "      <td>я не</td>\n",
       "      <td>так же как</td>\n",
       "      <td>до тех пор пока</td>\n",
       "      <td>don t</td>\n",
       "      <td>m going to</td>\n",
       "      <td>it s going to</td>\n",
       "      <td>wenn sie</td>\n",
       "      <td>in den letzten</td>\n",
       "      <td>meine damen und herren</td>\n",
       "    </tr>\n",
       "    <tr>\n",
       "      <th>10</th>\n",
       "      <td>о том</td>\n",
       "      <td>в то время</td>\n",
       "      <td>я хочу чтобы вы</td>\n",
       "      <td>to be</td>\n",
       "      <td>re going to</td>\n",
       "      <td>don t want to</td>\n",
       "      <td>wir haben</td>\n",
       "      <td>lassen sie mich</td>\n",
       "      <td>lassen sie mich ihnen</td>\n",
       "    </tr>\n",
       "    <tr>\n",
       "      <th>11</th>\n",
       "      <td>что это</td>\n",
       "      <td>потому что это</td>\n",
       "      <td>на самом деле это</td>\n",
       "      <td>to the</td>\n",
       "      <td>there s a</td>\n",
       "      <td>it s not just</td>\n",
       "      <td>es gibt</td>\n",
       "      <td>und wir haben</td>\n",
       "      <td>ich möchte dass sie</td>\n",
       "    </tr>\n",
       "    <tr>\n",
       "      <th>12</th>\n",
       "      <td>мы можем</td>\n",
       "      <td>потому что я</td>\n",
       "      <td>так же как и</td>\n",
       "      <td>you can</td>\n",
       "      <td>this is the</td>\n",
       "      <td>for the first time</td>\n",
       "      <td>dass sie</td>\n",
       "      <td>in den usa</td>\n",
       "      <td>auf der anderen seite</td>\n",
       "    </tr>\n",
       "    <tr>\n",
       "      <th>13</th>\n",
       "      <td>так что</td>\n",
       "      <td>на то что</td>\n",
       "      <td>но на самом деле</td>\n",
       "      <td>that we</td>\n",
       "      <td>you can see</td>\n",
       "      <td>if you look at</td>\n",
       "      <td>ich habe</td>\n",
       "      <td>das hier ist</td>\n",
       "      <td>in der lage sein</td>\n",
       "    </tr>\n",
       "    <tr>\n",
       "      <th>14</th>\n",
       "      <td>и мы</td>\n",
       "      <td>потому что мы</td>\n",
       "      <td>это то что мы</td>\n",
       "      <td>is a</td>\n",
       "      <td>and that s</td>\n",
       "      <td>the end of the</td>\n",
       "      <td>dass wir</td>\n",
       "      <td>das ist das</td>\n",
       "      <td>und das ist ein</td>\n",
       "    </tr>\n",
       "    <tr>\n",
       "      <th>15</th>\n",
       "      <td>если вы</td>\n",
       "      <td>в конце концов</td>\n",
       "      <td>если вы посмотрите на</td>\n",
       "      <td>on the</td>\n",
       "      <td>and this is</td>\n",
       "      <td>i don t think</td>\n",
       "      <td>und es</td>\n",
       "      <td>ist dass wir</td>\n",
       "      <td>in den er jahren</td>\n",
       "    </tr>\n",
       "    <tr>\n",
       "      <th>16</th>\n",
       "      <td>и в</td>\n",
       "      <td>до сих пор</td>\n",
       "      <td>по мере того как</td>\n",
       "      <td>if you</td>\n",
       "      <td>we don t</td>\n",
       "      <td>is one of the</td>\n",
       "      <td>und wir</td>\n",
       "      <td>zum ersten mal</td>\n",
       "      <td>die meisten von uns</td>\n",
       "    </tr>\n",
       "    <tr>\n",
       "      <th>17</th>\n",
       "      <td>что то</td>\n",
       "      <td>то же самое</td>\n",
       "      <td>я думаю что это</td>\n",
       "      <td>we re</td>\n",
       "      <td>going to be</td>\n",
       "      <td>is going to be</td>\n",
       "      <td>wenn man</td>\n",
       "      <td>in der lage</td>\n",
       "      <td>es stellt sich heraus</td>\n",
       "    </tr>\n",
       "    <tr>\n",
       "      <th>18</th>\n",
       "      <td>на самом</td>\n",
       "      <td>мы знаем что</td>\n",
       "      <td>и я думаю что</td>\n",
       "      <td>s a</td>\n",
       "      <td>be able to</td>\n",
       "      <td>i think it s</td>\n",
       "      <td>wenn wir</td>\n",
       "      <td>und ich habe</td>\n",
       "      <td>in den nächsten jahren</td>\n",
       "    </tr>\n",
       "    <tr>\n",
       "      <th>19</th>\n",
       "      <td>самом деле</td>\n",
       "      <td>у меня есть</td>\n",
       "      <td>в том что они</td>\n",
       "      <td>and it</td>\n",
       "      <td>you don t</td>\n",
       "      <td>if you don t</td>\n",
       "      <td>ist die</td>\n",
       "      <td>hier ist ein</td>\n",
       "      <td>auf der suche nach</td>\n",
       "    </tr>\n",
       "    <tr>\n",
       "      <th>20</th>\n",
       "      <td>это не</td>\n",
       "      <td>по всему миру</td>\n",
       "      <td>что на самом деле</td>\n",
       "      <td>and we</td>\n",
       "      <td>and i m</td>\n",
       "      <td>all over the world</td>\n",
       "      <td>dass es</td>\n",
       "      <td>auf der welt</td>\n",
       "      <td>stellt sich heraus dass</td>\n",
       "    </tr>\n",
       "    <tr>\n",
       "      <th>21</th>\n",
       "      <td>у меня</td>\n",
       "      <td>в то же</td>\n",
       "      <td>это на самом деле</td>\n",
       "      <td>i was</td>\n",
       "      <td>it s the</td>\n",
       "      <td>a lot of people</td>\n",
       "      <td>ist eine</td>\n",
       "      <td>aber es ist</td>\n",
       "      <td>auf der rechten seite</td>\n",
       "    </tr>\n",
       "    <tr>\n",
       "      <th>22</th>\n",
       "      <td>мы не</td>\n",
       "      <td>потому что они</td>\n",
       "      <td>в каком то смысле</td>\n",
       "      <td>there s</td>\n",
       "      <td>we need to</td>\n",
       "      <td>one of the things</td>\n",
       "      <td>sie sich</td>\n",
       "      <td>und wenn man</td>\n",
       "      <td>ich weiß nicht ob</td>\n",
       "    </tr>\n",
       "    <tr>\n",
       "      <th>23</th>\n",
       "      <td>что они</td>\n",
       "      <td>тем не менее</td>\n",
       "      <td>я не думаю что</td>\n",
       "      <td>at the</td>\n",
       "      <td>don t know</td>\n",
       "      <td>we don t have</td>\n",
       "      <td>auf der</td>\n",
       "      <td>es ist nicht</td>\n",
       "      <td>und das ist eine</td>\n",
       "    </tr>\n",
       "    <tr>\n",
       "      <th>24</th>\n",
       "      <td>в этом</td>\n",
       "      <td>том что мы</td>\n",
       "      <td>из за того что</td>\n",
       "      <td>is the</td>\n",
       "      <td>a little bit</td>\n",
       "      <td>at the end of</td>\n",
       "      <td>ist es</td>\n",
       "      <td>sie sich vor</td>\n",
       "      <td>das erste mal dass</td>\n",
       "    </tr>\n",
       "    <tr>\n",
       "      <th>25</th>\n",
       "      <td>я думаю</td>\n",
       "      <td>то же время</td>\n",
       "      <td>до сих пор не</td>\n",
       "      <td>in a</td>\n",
       "      <td>we re going</td>\n",
       "      <td>one of the most</td>\n",
       "      <td>ist das</td>\n",
       "      <td>und es gibt</td>\n",
       "      <td>das hier ist ein</td>\n",
       "    </tr>\n",
       "    <tr>\n",
       "      <th>26</th>\n",
       "      <td>я хочу</td>\n",
       "      <td>имею в виду</td>\n",
       "      <td>но в то же</td>\n",
       "      <td>want to</td>\n",
       "      <td>we have to</td>\n",
       "      <td>if you want to</td>\n",
       "      <td>für die</td>\n",
       "      <td>ist dass es</td>\n",
       "      <td>das ist etwas das</td>\n",
       "    </tr>\n",
       "    <tr>\n",
       "      <th>27</th>\n",
       "      <td>вы можете</td>\n",
       "      <td>до того как</td>\n",
       "      <td>о том что мы</td>\n",
       "      <td>it was</td>\n",
       "      <td>don t have</td>\n",
       "      <td>and i m going</td>\n",
       "      <td>ist dass</td>\n",
       "      <td>dies ist ein</td>\n",
       "      <td>die meisten von ihnen</td>\n",
       "    </tr>\n",
       "    <tr>\n",
       "      <th>28</th>\n",
       "      <td>когда я</td>\n",
       "      <td>мы не можем</td>\n",
       "      <td>на самом деле я</td>\n",
       "      <td>we have</td>\n",
       "      <td>but it s</td>\n",
       "      <td>what s going on</td>\n",
       "      <td>dass die</td>\n",
       "      <td>in der welt</td>\n",
       "      <td>es stellte sich heraus</td>\n",
       "    </tr>\n",
       "    <tr>\n",
       "      <th>29</th>\n",
       "      <td>не только</td>\n",
       "      <td>с точки зрения</td>\n",
       "      <td>бы то ни было</td>\n",
       "      <td>we can</td>\n",
       "      <td>i m not</td>\n",
       "      <td>in the middle of</td>\n",
       "      <td>in die</td>\n",
       "      <td>aber das ist</td>\n",
       "      <td>stellte sich heraus dass</td>\n",
       "    </tr>\n",
       "    <tr>\n",
       "      <th>30</th>\n",
       "      <td>что вы</td>\n",
       "      <td>что мы можем</td>\n",
       "      <td>точно так же как</td>\n",
       "      <td>you re</td>\n",
       "      <td>that s the</td>\n",
       "      <td>and it s a</td>\n",
       "      <td>und dann</td>\n",
       "      <td>und ich denke</td>\n",
       "      <td>und es ist eine</td>\n",
       "    </tr>\n",
       "    <tr>\n",
       "      <th>31</th>\n",
       "      <td>того что</td>\n",
       "      <td>смех в зале</td>\n",
       "      <td>о том как мы</td>\n",
       "      <td>that i</td>\n",
       "      <td>s going to</td>\n",
       "      <td>s a lot of</td>\n",
       "      <td>mit dem</td>\n",
       "      <td>lassen sie uns</td>\n",
       "      <td>und hier sehen sie</td>\n",
       "    </tr>\n",
       "    <tr>\n",
       "      <th>32</th>\n",
       "      <td>что в</td>\n",
       "      <td>то что я</td>\n",
       "      <td>это не значит что</td>\n",
       "      <td>they re</td>\n",
       "      <td>in the world</td>\n",
       "      <td>s going to be</td>\n",
       "      <td>ich bin</td>\n",
       "      <td>den letzten jahren</td>\n",
       "      <td>ich zum ersten mal</td>\n",
       "    </tr>\n",
       "    <tr>\n",
       "      <th>33</th>\n",
       "      <td>что если</td>\n",
       "      <td>потому что в</td>\n",
       "      <td>и в то же</td>\n",
       "      <td>and then</td>\n",
       "      <td>you have to</td>\n",
       "      <td>you don t have</td>\n",
       "      <td>gibt es</td>\n",
       "      <td>und wenn sie</td>\n",
       "      <td>auf der linken seite</td>\n",
       "    </tr>\n",
       "    <tr>\n",
       "      <th>34</th>\n",
       "      <td>но я</td>\n",
       "      <td>после того как</td>\n",
       "      <td>ла ла ла ла</td>\n",
       "      <td>i think</td>\n",
       "      <td>if you re</td>\n",
       "      <td>a little bit of</td>\n",
       "      <td>mit der</td>\n",
       "      <td>das ist nicht</td>\n",
       "      <td>zum ersten mal in</td>\n",
       "    </tr>\n",
       "    <tr>\n",
       "      <th>35</th>\n",
       "      <td>если бы</td>\n",
       "      <td>я имею в</td>\n",
       "      <td>в том что я</td>\n",
       "      <td>one of</td>\n",
       "      <td>that s what</td>\n",
       "      <td>when it comes to</td>\n",
       "      <td>haben wir</td>\n",
       "      <td>ich möchte ihnen</td>\n",
       "      <td>denken sie an die</td>\n",
       "    </tr>\n",
       "    <tr>\n",
       "      <th>36</th>\n",
       "      <td>может быть</td>\n",
       "      <td>так что я</td>\n",
       "      <td>в какой то момент</td>\n",
       "      <td>and that</td>\n",
       "      <td>and i think</td>\n",
       "      <td>i want you to</td>\n",
       "      <td>die wir</td>\n",
       "      <td>ich glaube dass</td>\n",
       "      <td>wie sie sehen können</td>\n",
       "    </tr>\n",
       "    <tr>\n",
       "      <th>37</th>\n",
       "      <td>если мы</td>\n",
       "      <td>я считаю что</td>\n",
       "      <td>я хочу рассказать вам</td>\n",
       "      <td>a lot</td>\n",
       "      <td>is going to</td>\n",
       "      <td>and you can see</td>\n",
       "      <td>über die</td>\n",
       "      <td>und ich bin</td>\n",
       "      <td>es ist eine sehr</td>\n",
       "    </tr>\n",
       "    <tr>\n",
       "      <th>38</th>\n",
       "      <td>как мы</td>\n",
       "      <td>я знаю что</td>\n",
       "      <td>одно и то же</td>\n",
       "      <td>and they</td>\n",
       "      <td>that s a</td>\n",
       "      <td>i would like to</td>\n",
       "      <td>in einem</td>\n",
       "      <td>es gibt eine</td>\n",
       "      <td>und ich werde ihnen</td>\n",
       "    </tr>\n",
       "    <tr>\n",
       "      <th>39</th>\n",
       "      <td>и не</td>\n",
       "      <td>с тех пор</td>\n",
       "      <td>с тех пор как</td>\n",
       "      <td>is that</td>\n",
       "      <td>when i was</td>\n",
       "      <td>and that s what</td>\n",
       "      <td>auf die</td>\n",
       "      <td>wenn sie sich</td>\n",
       "      <td>ich glaube nicht dass</td>\n",
       "    </tr>\n",
       "    <tr>\n",
       "      <th>40</th>\n",
       "      <td>это было</td>\n",
       "      <td>вместо того чтобы</td>\n",
       "      <td>и на самом деле</td>\n",
       "      <td>the world</td>\n",
       "      <td>some of the</td>\n",
       "      <td>a lot of the</td>\n",
       "      <td>ein paar</td>\n",
       "      <td>der ganzen welt</td>\n",
       "      <td>und wissen sie was</td>\n",
       "    </tr>\n",
       "    <tr>\n",
       "      <th>41</th>\n",
       "      <td>когда мы</td>\n",
       "      <td>в том чтобы</td>\n",
       "      <td>я до сих пор</td>\n",
       "      <td>to do</td>\n",
       "      <td>you can t</td>\n",
       "      <td>and i want to</td>\n",
       "      <td>dass ich</td>\n",
       "      <td>und es war</td>\n",
       "      <td>aber lassen sie mich</td>\n",
       "    </tr>\n",
       "    <tr>\n",
       "      <th>42</th>\n",
       "      <td>так как</td>\n",
       "      <td>я хочу чтобы</td>\n",
       "      <td>теперь у нас есть</td>\n",
       "      <td>have to</td>\n",
       "      <td>you want to</td>\n",
       "      <td>the rest of the</td>\n",
       "      <td>ist der</td>\n",
       "      <td>ich erinnere mich</td>\n",
       "      <td>wir leben in einer</td>\n",
       "    </tr>\n",
       "    <tr>\n",
       "      <th>43</th>\n",
       "      <td>мы должны</td>\n",
       "      <td>и я думаю</td>\n",
       "      <td>правда в том что</td>\n",
       "      <td>of a</td>\n",
       "      <td>so this is</td>\n",
       "      <td>going to show you</td>\n",
       "      <td>wir uns</td>\n",
       "      <td>und wenn wir</td>\n",
       "      <td>es geht um die</td>\n",
       "    </tr>\n",
       "    <tr>\n",
       "      <th>44</th>\n",
       "      <td>и они</td>\n",
       "      <td>я не знаю</td>\n",
       "      <td>больше и больше и</td>\n",
       "      <td>so i</td>\n",
       "      <td>look at the</td>\n",
       "      <td>there s a lot</td>\n",
       "      <td>hier ist</td>\n",
       "      <td>vor ein paar</td>\n",
       "      <td>und ich möchte dass</td>\n",
       "    </tr>\n",
       "    <tr>\n",
       "      <th>45</th>\n",
       "      <td>из за</td>\n",
       "      <td>и я не</td>\n",
       "      <td>и больше и больше</td>\n",
       "      <td>kind of</td>\n",
       "      <td>that we can</td>\n",
       "      <td>you ve got to</td>\n",
       "      <td>nicht nur</td>\n",
       "      <td>das ist es</td>\n",
       "      <td>ich erinnere mich an</td>\n",
       "    </tr>\n",
       "    <tr>\n",
       "      <th>46</th>\n",
       "      <td>но это</td>\n",
       "      <td>в прошлом году</td>\n",
       "      <td>я хочу показать вам</td>\n",
       "      <td>that the</td>\n",
       "      <td>they don t</td>\n",
       "      <td>they re going to</td>\n",
       "      <td>von der</td>\n",
       "      <td>dass sie sich</td>\n",
       "      <td>und das hier ist</td>\n",
       "    </tr>\n",
       "    <tr>\n",
       "      <th>47</th>\n",
       "      <td>вы видите</td>\n",
       "      <td>то что вы</td>\n",
       "      <td>что у нас есть</td>\n",
       "      <td>you know</td>\n",
       "      <td>to be a</td>\n",
       "      <td>and it s not</td>\n",
       "      <td>um die</td>\n",
       "      <td>ich werde ihnen</td>\n",
       "      <td>es ist nicht nur</td>\n",
       "    </tr>\n",
       "    <tr>\n",
       "      <th>48</th>\n",
       "      <td>того как</td>\n",
       "      <td>я бы хотел</td>\n",
       "      <td>на самом деле мы</td>\n",
       "      <td>and you</td>\n",
       "      <td>and it was</td>\n",
       "      <td>m going to show</td>\n",
       "      <td>aber ich</td>\n",
       "      <td>und ich möchte</td>\n",
       "      <td>es gibt noch eine</td>\n",
       "    </tr>\n",
       "    <tr>\n",
       "      <th>49</th>\n",
       "      <td>что у</td>\n",
       "      <td>что у нас</td>\n",
       "      <td>то что вы видите</td>\n",
       "      <td>for the</td>\n",
       "      <td>and you can</td>\n",
       "      <td>you can see the</td>\n",
       "      <td>können wir</td>\n",
       "      <td>ich denke dass</td>\n",
       "      <td>der new york times</td>\n",
       "    </tr>\n",
       "  </tbody>\n",
       "</table>\n",
       "</div>"
      ],
      "text/plain": [
       "           ru2                ru3                    ru4        en2  \\\n",
       "0   потому что          в том что          в то же время       it s   \n",
       "1       то что      на самом деле          я имею в виду     of the   \n",
       "2          и я          о том что           в том что мы     in the   \n",
       "3       что мы         у нас есть         в то время как      and i   \n",
       "4      том что          о том как     проблема в том что    this is   \n",
       "5        в том        я думаю что     несмотря на то что     that s   \n",
       "6        что я     для того чтобы      состоит в том что    and the   \n",
       "7        у нас          то что мы  заключается в том что        i m   \n",
       "8        и это         это то что         дело в том что   going to   \n",
       "9         я не         так же как        до тех пор пока      don t   \n",
       "10       о том         в то время        я хочу чтобы вы      to be   \n",
       "11     что это     потому что это      на самом деле это     to the   \n",
       "12    мы можем       потому что я           так же как и    you can   \n",
       "13     так что          на то что       но на самом деле    that we   \n",
       "14        и мы      потому что мы          это то что мы       is a   \n",
       "15     если вы     в конце концов  если вы посмотрите на     on the   \n",
       "16         и в         до сих пор       по мере того как     if you   \n",
       "17      что то        то же самое        я думаю что это      we re   \n",
       "18    на самом       мы знаем что          и я думаю что        s a   \n",
       "19  самом деле        у меня есть          в том что они     and it   \n",
       "20      это не      по всему миру      что на самом деле     and we   \n",
       "21      у меня            в то же      это на самом деле      i was   \n",
       "22       мы не     потому что они      в каком то смысле    there s   \n",
       "23     что они       тем не менее         я не думаю что     at the   \n",
       "24      в этом         том что мы         из за того что     is the   \n",
       "25     я думаю        то же время          до сих пор не       in a   \n",
       "26      я хочу        имею в виду             но в то же    want to   \n",
       "27   вы можете        до того как           о том что мы     it was   \n",
       "28     когда я        мы не можем        на самом деле я    we have   \n",
       "29   не только     с точки зрения          бы то ни было     we can   \n",
       "30      что вы       что мы можем       точно так же как     you re   \n",
       "31    того что        смех в зале           о том как мы     that i   \n",
       "32       что в           то что я      это не значит что    they re   \n",
       "33    что если       потому что в              и в то же   and then   \n",
       "34        но я     после того как            ла ла ла ла    i think   \n",
       "35     если бы           я имею в            в том что я     one of   \n",
       "36  может быть          так что я      в какой то момент   and that   \n",
       "37     если мы       я считаю что  я хочу рассказать вам      a lot   \n",
       "38      как мы         я знаю что           одно и то же   and they   \n",
       "39        и не          с тех пор          с тех пор как    is that   \n",
       "40    это было  вместо того чтобы        и на самом деле  the world   \n",
       "41    когда мы        в том чтобы           я до сих пор      to do   \n",
       "42     так как       я хочу чтобы      теперь у нас есть    have to   \n",
       "43   мы должны          и я думаю       правда в том что       of a   \n",
       "44       и они          я не знаю      больше и больше и       so i   \n",
       "45       из за             и я не      и больше и больше    kind of   \n",
       "46      но это     в прошлом году    я хочу показать вам   that the   \n",
       "47   вы видите          то что вы         что у нас есть   you know   \n",
       "48    того как         я бы хотел       на самом деле мы    and you   \n",
       "49       что у          что у нас       то что вы видите    for the   \n",
       "\n",
       "             en3                   en4         de2                 de3  \\\n",
       "0       a lot of          i m going to     das ist         und das ist   \n",
       "1         it s a        we re going to      in der         das ist ein   \n",
       "2       and it s   thank you very much      es ist          es ist ein   \n",
       "3     one of the          i don t know     und ich         es ist eine   \n",
       "4      this is a         to be able to     und das        das ist eine   \n",
       "5        i don t           i d like to      in den         das ist die   \n",
       "6       it s not       you re going to     und die          und es ist   \n",
       "7      i m going  in the united states     und sie    stellen sie sich   \n",
       "8      i want to      at the same time     ist ein         das ist der   \n",
       "9     m going to         it s going to    wenn sie      in den letzten   \n",
       "10   re going to         don t want to   wir haben     lassen sie mich   \n",
       "11     there s a         it s not just     es gibt       und wir haben   \n",
       "12   this is the    for the first time    dass sie          in den usa   \n",
       "13   you can see        if you look at    ich habe        das hier ist   \n",
       "14    and that s        the end of the    dass wir         das ist das   \n",
       "15   and this is         i don t think      und es        ist dass wir   \n",
       "16      we don t         is one of the     und wir      zum ersten mal   \n",
       "17   going to be        is going to be    wenn man         in der lage   \n",
       "18    be able to          i think it s    wenn wir        und ich habe   \n",
       "19     you don t          if you don t     ist die        hier ist ein   \n",
       "20       and i m    all over the world     dass es        auf der welt   \n",
       "21      it s the       a lot of people    ist eine         aber es ist   \n",
       "22    we need to     one of the things    sie sich        und wenn man   \n",
       "23    don t know         we don t have     auf der        es ist nicht   \n",
       "24  a little bit         at the end of      ist es        sie sich vor   \n",
       "25   we re going       one of the most     ist das         und es gibt   \n",
       "26    we have to        if you want to     für die         ist dass es   \n",
       "27    don t have         and i m going    ist dass        dies ist ein   \n",
       "28      but it s       what s going on    dass die         in der welt   \n",
       "29       i m not      in the middle of      in die        aber das ist   \n",
       "30    that s the            and it s a    und dann       und ich denke   \n",
       "31    s going to            s a lot of     mit dem      lassen sie uns   \n",
       "32  in the world         s going to be     ich bin  den letzten jahren   \n",
       "33   you have to        you don t have     gibt es        und wenn sie   \n",
       "34     if you re       a little bit of     mit der       das ist nicht   \n",
       "35   that s what      when it comes to   haben wir    ich möchte ihnen   \n",
       "36   and i think         i want you to     die wir     ich glaube dass   \n",
       "37   is going to       and you can see    über die         und ich bin   \n",
       "38      that s a       i would like to    in einem        es gibt eine   \n",
       "39    when i was       and that s what     auf die       wenn sie sich   \n",
       "40   some of the          a lot of the    ein paar     der ganzen welt   \n",
       "41     you can t         and i want to    dass ich          und es war   \n",
       "42   you want to       the rest of the     ist der   ich erinnere mich   \n",
       "43    so this is     going to show you     wir uns        und wenn wir   \n",
       "44   look at the         there s a lot    hier ist        vor ein paar   \n",
       "45   that we can         you ve got to   nicht nur          das ist es   \n",
       "46    they don t      they re going to     von der       dass sie sich   \n",
       "47       to be a          and it s not      um die     ich werde ihnen   \n",
       "48    and it was       m going to show    aber ich      und ich möchte   \n",
       "49   and you can       you can see the  können wir      ich denke dass   \n",
       "\n",
       "                           de4  \n",
       "0         stellen sie sich vor  \n",
       "1        in den letzten jahren  \n",
       "2          auf der ganzen welt  \n",
       "3         überall auf der welt  \n",
       "4               das ist es was  \n",
       "5              und das ist die  \n",
       "6          vor ein paar jahren  \n",
       "7            ich denke das ist  \n",
       "8   in den vereinigten staaten  \n",
       "9       meine damen und herren  \n",
       "10       lassen sie mich ihnen  \n",
       "11         ich möchte dass sie  \n",
       "12       auf der anderen seite  \n",
       "13            in der lage sein  \n",
       "14             und das ist ein  \n",
       "15            in den er jahren  \n",
       "16         die meisten von uns  \n",
       "17       es stellt sich heraus  \n",
       "18      in den nächsten jahren  \n",
       "19          auf der suche nach  \n",
       "20     stellt sich heraus dass  \n",
       "21       auf der rechten seite  \n",
       "22           ich weiß nicht ob  \n",
       "23            und das ist eine  \n",
       "24          das erste mal dass  \n",
       "25            das hier ist ein  \n",
       "26           das ist etwas das  \n",
       "27       die meisten von ihnen  \n",
       "28      es stellte sich heraus  \n",
       "29    stellte sich heraus dass  \n",
       "30             und es ist eine  \n",
       "31          und hier sehen sie  \n",
       "32          ich zum ersten mal  \n",
       "33        auf der linken seite  \n",
       "34           zum ersten mal in  \n",
       "35           denken sie an die  \n",
       "36        wie sie sehen können  \n",
       "37            es ist eine sehr  \n",
       "38         und ich werde ihnen  \n",
       "39       ich glaube nicht dass  \n",
       "40          und wissen sie was  \n",
       "41        aber lassen sie mich  \n",
       "42          wir leben in einer  \n",
       "43              es geht um die  \n",
       "44         und ich möchte dass  \n",
       "45        ich erinnere mich an  \n",
       "46            und das hier ist  \n",
       "47            es ist nicht nur  \n",
       "48           es gibt noch eine  \n",
       "49          der new york times  "
      ]
     },
     "execution_count": 125,
     "metadata": {},
     "output_type": "execute_result"
    }
   ],
   "source": [
    "df_show = pd.DataFrame()\n",
    "for language in ['ru', 'en', 'de']: \n",
    "    most_common_leng = cooccurence_language[language][0].most_common(50)\n",
    "    df_show[language + \"2\"] = [most_common_leng[k][0][0] + \" \" + most_common_leng[k][0][1] for k in range(50)]\n",
    "    most_common_leng = cooccurence_language[language][1].most_common(50)\n",
    "    df_show[language + \"3\"] = [most_common_leng[k][0][0] + \" \" + most_common_leng[k][0][1] + \" \" + \\\n",
    "                               most_common_leng[k][0][2] for k in range(50)]\n",
    "    most_common_leng = cooccurence_language[language][2].most_common(50)\n",
    "    df_show[language + \"4\"] = [most_common_leng[k][0][0] + \" \" + most_common_leng[k][0][1] + \" \" + \\\n",
    "                               most_common_leng[k][0][2] + \" \" + most_common_leng[k][0][3]for k in range(50)]\n",
    "df_show"
   ]
  },
  {
   "cell_type": "markdown",
   "metadata": {},
   "source": [
    "## word2vec"
   ]
  },
  {
   "cell_type": "code",
   "execution_count": 10,
   "metadata": {},
   "outputs": [],
   "source": [
    "stop_words_languages = {'ar': 'arabic',\n",
    "                        'az': 'azerbaijani',\n",
    "                        'da': 'danish',\n",
    "                        'nl': 'dutch',\n",
    "                        'en': 'english',\n",
    "                        'fi': 'finnish',\n",
    "                        'fr': 'french',\n",
    "                        'de': 'german',\n",
    "                        'el': 'greek',\n",
    "                        'hu': 'hungarian',\n",
    "                        'id': 'indonesian',\n",
    "                        'it': 'italian',\n",
    "                        'kk': 'kazakh',\n",
    "                        'nb': 'norwegian',\n",
    "                        'pt': 'portuguese',\n",
    "                        'ro': 'romanian',\n",
    "                        'ru': 'russian',\n",
    "                        'sl': 'slovene',\n",
    "                        'es': 'spanish',\n",
    "                        'sv': 'swedish',\n",
    "                        'tr': 'turkish'}"
   ]
  },
  {
   "cell_type": "code",
   "execution_count": 168,
   "metadata": {},
   "outputs": [],
   "source": [
    "def prepare_sentence_dataset(text, languages):\n",
    "    tokenized_sentences = []\n",
    "    for temp in tqdm_notebook(range(len(languages))):\n",
    "        language = languages[temp]\n",
    "        sentence = text[temp]\n",
    "        if language in stop_words_languages.keys():\n",
    "            stopword_set = set(nltk.corpus.stopwords.words(stop_words_languages[language]))\n",
    "        else:\n",
    "            stopword_set = set()\n",
    "        tokenized_sentences.append(\n",
    "            [token for token in nltk.tokenize.casual_tokenize(preprocessor(sentence)) if token not in stopword_set]\n",
    "        )\n",
    "    return tokenized_sentences"
   ]
  },
  {
   "cell_type": "code",
   "execution_count": 228,
   "metadata": {},
   "outputs": [],
   "source": [
    "def embed_text(sentence, word2index, word_embeddings):\n",
    "    stopword_set = set()\n",
    "    array = [word_embeddings[word2index[word]] for word in sentence \n",
    "             if word in word2index and word not in stopword_set]    \n",
    "    if array:\n",
    "        return np.array(array).mean(0, keepdims=True)\n",
    "    else: \n",
    "        return np.array([np.zeros(100)])"
   ]
  },
  {
   "cell_type": "code",
   "execution_count": 170,
   "metadata": {},
   "outputs": [
    {
     "data": {
      "application/vnd.jupyter.widget-view+json": {
       "model_id": "3e6b6b47d50c4a09ba7ee8fc3cd49472",
       "version_major": 2,
       "version_minor": 0
      },
      "text/plain": [
       "HBox(children=(FloatProgress(value=0.0, max=897102.0), HTML(value='')))"
      ]
     },
     "metadata": {},
     "output_type": "display_data"
    },
    {
     "name": "stdout",
     "output_type": "stream",
     "text": [
      "\n"
     ]
    }
   ],
   "source": [
    "corpus   = df_train_clear['sentence']\n",
    "language = df_train_clear['language']\n",
    "sentence_dataset = prepare_sentence_dataset(corpus, language)"
   ]
  },
  {
   "cell_type": "code",
   "execution_count": 173,
   "metadata": {},
   "outputs": [
    {
     "data": {
      "text/plain": [
       "(220541164, 330931110)"
      ]
     },
     "execution_count": 173,
     "metadata": {},
     "output_type": "execute_result"
    }
   ],
   "source": [
    "word2vec = gensim.models.Word2Vec(size=100, sg=0, window=5, min_count=30, negative=20)\n",
    "word2vec.build_vocab(sentence_dataset)\n",
    "word2vec.train(sentence_dataset, total_examples=word2vec.corpus_count, epochs=30)"
   ]
  },
  {
   "cell_type": "code",
   "execution_count": 230,
   "metadata": {},
   "outputs": [
    {
     "data": {
      "application/vnd.jupyter.widget-view+json": {
       "model_id": "108590c66d27430da50f23b5e2392050",
       "version_major": 2,
       "version_minor": 0
      },
      "text/plain": [
       "HBox(children=(FloatProgress(value=0.0, max=897102.0), HTML(value='')))"
      ]
     },
     "metadata": {},
     "output_type": "display_data"
    },
    {
     "name": "stdout",
     "output_type": "stream",
     "text": [
      "\n"
     ]
    }
   ],
   "source": [
    "index2word = np.array(word2vec.wv.index2word)\n",
    "embeddings = word2vec.wv.vectors\n",
    "word2index = {word: i for i, word in enumerate(index2word)}\n",
    "talk2vec = np.concatenate([embed_text(sentence, word2index, embeddings)  for sentence in tqdm_notebook(sentence_dataset)])"
   ]
  },
  {
   "cell_type": "markdown",
   "metadata": {},
   "source": [
    "Посмотрим на похожие векторы"
   ]
  },
  {
   "cell_type": "code",
   "execution_count": 296,
   "metadata": {},
   "outputs": [],
   "source": [
    "talk2vec_test = talk2vec[:10_000]"
   ]
  },
  {
   "cell_type": "code",
   "execution_count": 297,
   "metadata": {},
   "outputs": [],
   "source": [
    "normed_talk2vec = normalize(talk2vec_test)\n",
    "similarities = normed_talk2vec @ normed_talk2vec.T"
   ]
  },
  {
   "cell_type": "code",
   "execution_count": 298,
   "metadata": {},
   "outputs": [
    {
     "name": "stdout",
     "output_type": "stream",
     "text": [
      "(10, 135) 0.93\n",
      "(10, 221) 0.92\n",
      "(10, 593) 0.92\n",
      "(10, 596) 0.93\n",
      "(10, 1840) 0.91\n",
      "(10, 1874) 0.92\n",
      "(10, 1904) 0.94\n",
      "(10, 2559) 0.91\n",
      "(10, 2675) 0.91\n",
      "(10, 2838) 0.90\n",
      "(10, 2888) 0.92\n",
      "(10, 3128) 0.92\n",
      "(10, 3688) 0.94\n",
      "(10, 5117) 0.90\n",
      "(10, 5692) 0.91\n",
      "(10, 5869) 0.92\n",
      "(10, 5914) 0.91\n",
      "(10, 6225) 0.94\n",
      "(10, 6789) 0.90\n",
      "(10, 7092) 0.91\n",
      "(10, 8039) 0.91\n",
      "(10, 8336) 0.93\n",
      "(10, 8491) 0.92\n",
      "(10, 9119) 0.92\n",
      "(10, 9667) 0.92\n",
      "(10, 9700) 0.91\n",
      "(10, 9715) 0.91\n"
     ]
    }
   ],
   "source": [
    "threshold = 0.9\n",
    "\n",
    "count = 0\n",
    "i = 10\n",
    "for j in range(similarities.shape[1]):\n",
    "    if j > i:\n",
    "        if similarities[i, j] > threshold:\n",
    "            print(f\"({i}, {j}) {similarities[i, j]:.2f}\")\n",
    "            count += 1"
   ]
  },
  {
   "cell_type": "code",
   "execution_count": 289,
   "metadata": {},
   "outputs": [
    {
     "data": {
      "text/plain": [
       "'После увольнения я решил собрать своих друзей , чтобы высказаться о насилии в стране , высказаться о состоянии нации , и 1 июня 2009 года мы собирались пойти на стадион и попытаться привлечь внимание президента .'"
      ]
     },
     "execution_count": 289,
     "metadata": {},
     "output_type": "execute_result"
    }
   ],
   "source": [
    "df_train_clear['sentence'][10]"
   ]
  },
  {
   "cell_type": "code",
   "execution_count": 299,
   "metadata": {},
   "outputs": [
    {
     "data": {
      "text/plain": [
       "'Общее количество вызванных человеком глобальных загрязнений в атмосфере на данный момент задерживает столько же тепловой энергии , сколько скопилось бы от взрывов 400 000 атомных бомб , как в Хиросиме , каждые сутки 365 дней в году .'"
      ]
     },
     "execution_count": 299,
     "metadata": {},
     "output_type": "execute_result"
    }
   ],
   "source": [
    "df_train_clear['sentence'][9119]"
   ]
  },
  {
   "cell_type": "code",
   "execution_count": 300,
   "metadata": {},
   "outputs": [
    {
     "name": "stdout",
     "output_type": "stream",
     "text": [
      "(42, 71) 0.76\n",
      "(42, 1004) 0.71\n",
      "(42, 1300) 0.72\n",
      "(42, 2143) 0.74\n",
      "(42, 3007) 0.81\n",
      "(42, 3495) 0.71\n",
      "(42, 3524) 0.80\n",
      "(42, 4925) 0.82\n",
      "(42, 5612) 0.74\n",
      "(42, 5714) 0.85\n",
      "(42, 6715) 0.80\n",
      "(42, 8300) 0.85\n",
      "(42, 8579) 0.76\n",
      "(42, 9517) 0.81\n"
     ]
    }
   ],
   "source": [
    "threshold = 0.7\n",
    "\n",
    "count = 0\n",
    "i = 42\n",
    "for j in range(similarities.shape[1]):\n",
    "    if j > i:\n",
    "        if similarities[i, j] > threshold:\n",
    "            print(f\"({i}, {j}) {similarities[i, j]:.2f}\")\n",
    "            count += 1"
   ]
  },
  {
   "cell_type": "code",
   "execution_count": 301,
   "metadata": {},
   "outputs": [
    {
     "data": {
      "text/plain": [
       "'Si todos sus autos robots están rastreando las trayectorias predecidas , no se presta demasiada atención a esos paquetes .'"
      ]
     },
     "execution_count": 301,
     "metadata": {},
     "output_type": "execute_result"
    }
   ],
   "source": [
    "df_train_clear['sentence'][42]"
   ]
  },
  {
   "cell_type": "code",
   "execution_count": 304,
   "metadata": {},
   "outputs": [
    {
     "data": {
      "text/plain": [
       "'Si consideramos rescate desde una perpectiva gráfica , lo que vemos al amontonar los billetes es , primero , 360 mil dólares es aproximadamente del tamaño de un individuo de 1,60 m .'"
      ]
     },
     "execution_count": 304,
     "metadata": {},
     "output_type": "execute_result"
    }
   ],
   "source": [
    "df_train_clear['sentence'][3495]"
   ]
  },
  {
   "cell_type": "markdown",
   "metadata": {},
   "source": [
    "Разобьем пространство полученных векторов на кластеры. Данных много, поэтому возьмем быстрый kmeans."
   ]
  },
  {
   "cell_type": "code",
   "execution_count": 391,
   "metadata": {},
   "outputs": [],
   "source": [
    "cluster_model = KMeans(n_clusters = 60, random_state = 42)\n",
    "markers = cluster_model.fit_predict(talk2vec)"
   ]
  },
  {
   "cell_type": "code",
   "execution_count": 392,
   "metadata": {},
   "outputs": [
    {
     "data": {
      "text/html": [
       "<div>\n",
       "<style scoped>\n",
       "    .dataframe tbody tr th:only-of-type {\n",
       "        vertical-align: middle;\n",
       "    }\n",
       "\n",
       "    .dataframe tbody tr th {\n",
       "        vertical-align: top;\n",
       "    }\n",
       "\n",
       "    .dataframe thead th {\n",
       "        text-align: right;\n",
       "    }\n",
       "</style>\n",
       "<table border=\"1\" class=\"dataframe\">\n",
       "  <thead>\n",
       "    <tr style=\"text-align: right;\">\n",
       "      <th></th>\n",
       "      <th>sentence</th>\n",
       "      <th>language</th>\n",
       "      <th>class</th>\n",
       "    </tr>\n",
       "  </thead>\n",
       "  <tbody>\n",
       "    <tr>\n",
       "      <th>0</th>\n",
       "      <td>Pensez à la communication , le discours , les ...</td>\n",
       "      <td>fr</td>\n",
       "      <td>13</td>\n",
       "    </tr>\n",
       "    <tr>\n",
       "      <th>1</th>\n",
       "      <td>Můžete si ji pronajmout , vzít na splátky , ko...</td>\n",
       "      <td>cs</td>\n",
       "      <td>56</td>\n",
       "    </tr>\n",
       "    <tr>\n",
       "      <th>2</th>\n",
       "      <td>Každý starosta pochopil , že když mají tyto fo...</td>\n",
       "      <td>cs</td>\n",
       "      <td>56</td>\n",
       "    </tr>\n",
       "    <tr>\n",
       "      <th>3</th>\n",
       "      <td>Det är ytterligare bevis , men ändå — Jag krit...</td>\n",
       "      <td>sv</td>\n",
       "      <td>29</td>\n",
       "    </tr>\n",
       "    <tr>\n",
       "      <th>4</th>\n",
       "      <td>كان الأمر لا يصدق .</td>\n",
       "      <td>ar</td>\n",
       "      <td>1</td>\n",
       "    </tr>\n",
       "    <tr>\n",
       "      <th>...</th>\n",
       "      <td>...</td>\n",
       "      <td>...</td>\n",
       "      <td>...</td>\n",
       "    </tr>\n",
       "    <tr>\n",
       "      <th>897097</th>\n",
       "      <td>E eu disse , de jeito nenhum , não vou estudar...</td>\n",
       "      <td>pt-br</td>\n",
       "      <td>52</td>\n",
       "    </tr>\n",
       "    <tr>\n",
       "      <th>897098</th>\n",
       "      <td>Så hvis du er liberal vil du sige . &amp;quot; &amp;qu...</td>\n",
       "      <td>da</td>\n",
       "      <td>29</td>\n",
       "    </tr>\n",
       "    <tr>\n",
       "      <th>897099</th>\n",
       "      <td>Я почав свою подорож 30 років тому .</td>\n",
       "      <td>uk</td>\n",
       "      <td>15</td>\n",
       "    </tr>\n",
       "    <tr>\n",
       "      <th>897100</th>\n",
       "      <td>数学的に表現するとこうなります もしあなたが 今日の社会を憂慮しているなら 数学的な関数の値...</td>\n",
       "      <td>ja</td>\n",
       "      <td>3</td>\n",
       "    </tr>\n",
       "    <tr>\n",
       "      <th>897101</th>\n",
       "      <td>Alcuni anni dopo ci pensò Tim Berners-Lee .</td>\n",
       "      <td>it</td>\n",
       "      <td>22</td>\n",
       "    </tr>\n",
       "  </tbody>\n",
       "</table>\n",
       "<p>897102 rows × 3 columns</p>\n",
       "</div>"
      ],
      "text/plain": [
       "                                                 sentence language  class\n",
       "0       Pensez à la communication , le discours , les ...       fr     13\n",
       "1       Můžete si ji pronajmout , vzít na splátky , ko...       cs     56\n",
       "2       Každý starosta pochopil , že když mají tyto fo...       cs     56\n",
       "3       Det är ytterligare bevis , men ändå — Jag krit...       sv     29\n",
       "4                                     كان الأمر لا يصدق .       ar      1\n",
       "...                                                   ...      ...    ...\n",
       "897097  E eu disse , de jeito nenhum , não vou estudar...    pt-br     52\n",
       "897098  Så hvis du er liberal vil du sige . &quot; &qu...       da     29\n",
       "897099               Я почав свою подорож 30 років тому .       uk     15\n",
       "897100  数学的に表現するとこうなります もしあなたが 今日の社会を憂慮しているなら 数学的な関数の値...       ja      3\n",
       "897101        Alcuni anni dopo ci pensò Tim Berners-Lee .       it     22\n",
       "\n",
       "[897102 rows x 3 columns]"
      ]
     },
     "execution_count": 392,
     "metadata": {},
     "output_type": "execute_result"
    }
   ],
   "source": [
    "df_train_clear['class'] = markers\n",
    "df_train_clear"
   ]
  },
  {
   "cell_type": "markdown",
   "metadata": {},
   "source": [
    "В целом, качество кластеризации не очень хорошее, но на некоторых языках классы определяются почти без шума"
   ]
  },
  {
   "cell_type": "code",
   "execution_count": 393,
   "metadata": {},
   "outputs": [
    {
     "data": {
      "text/plain": [
       "0.6839287677836151"
      ]
     },
     "execution_count": 393,
     "metadata": {},
     "output_type": "execute_result"
    }
   ],
   "source": [
    "from sklearn import metrics\n",
    "\n",
    "ll = list(set(df_train_clear['language']))\n",
    "dictionary   = dict(zip(ll , np.arange(59)))\n",
    "markers_true = [dictionary[df_train_clear['language'][k]] for k in range(df_train_clear.shape[0])]\n",
    "score = metrics.adjusted_rand_score(markers_true, markers)\n",
    "\n",
    "score"
   ]
  },
  {
   "cell_type": "code",
   "execution_count": 397,
   "metadata": {},
   "outputs": [
    {
     "name": "stdout",
     "output_type": "stream",
     "text": [
      "language: th\n",
      "\n",
      "'class' value counts:\n",
      "11    16163\n",
      "3        20\n",
      "46        2\n",
      "34        1\n",
      "Name: class, dtype: int64\n",
      "\n",
      "'language' value counts:\n",
      "th    16163\n",
      "ru        1\n",
      "lt        1\n",
      "nb        1\n",
      "en        1\n",
      "cs        1\n",
      "he        1\n",
      "es        1\n",
      "Name: language, dtype: int64\n",
      "\n",
      "\n",
      "language: ja\n",
      "\n",
      "'class' value counts:\n",
      "3     20582\n",
      "44     6695\n",
      "49     2122\n",
      "54     1329\n",
      "9      1194\n",
      "55      642\n",
      "57      238\n",
      "46      140\n",
      "17       14\n",
      "34        9\n",
      "Name: class, dtype: int64\n",
      "\n",
      "'language' value counts:\n",
      "ja       20582\n",
      "zh-tw     7768\n",
      "zh-cn     6162\n",
      "fi        3598\n",
      "hu        3193\n",
      "ru        1900\n",
      "id        1735\n",
      "ro        1704\n",
      "de        1538\n",
      "sl        1369\n",
      "Name: language, dtype: int64\n"
     ]
    }
   ],
   "source": [
    "print('language: th')\n",
    "print(\"\\n'class' value counts:\")\n",
    "print (df_train_clear[df_train_clear['language'] == 'th']['class'].value_counts()[:10])\n",
    "print(\"\\n'language' value counts:\")\n",
    "print (df_train_clear[df_train_clear['class'] == 11]['language'].value_counts()[:10])\n",
    "\n",
    "print('\\n\\nlanguage: ja')\n",
    "print(\"\\n'class' value counts:\")\n",
    "print (df_train_clear[df_train_clear['language'] == 'ja']['class'].value_counts()[:10])\n",
    "print(\"\\n'language' value counts:\")\n",
    "print (df_train_clear[df_train_clear['class'] == 3]['language'].value_counts()[:10])"
   ]
  },
  {
   "cell_type": "code",
   "execution_count": 450,
   "metadata": {},
   "outputs": [],
   "source": [
    "#df_train_clear.to_csv('nlp_train.csv')"
   ]
  },
  {
   "cell_type": "markdown",
   "metadata": {},
   "source": [
    "## confusion_matrix"
   ]
  },
  {
   "cell_type": "code",
   "execution_count": 22,
   "metadata": {},
   "outputs": [],
   "source": [
    "from sklearn.metrics import balanced_accuracy_score"
   ]
  },
  {
   "cell_type": "code",
   "execution_count": 11,
   "metadata": {},
   "outputs": [],
   "source": [
    "stop_words = set() \n",
    "for stop_words_language in stop_words_languages.values():\n",
    "    subset = set(nltk.corpus.stopwords.words(stop_words_language))\n",
    "    stop_words = stop_words.union( subset )"
   ]
  },
  {
   "cell_type": "code",
   "execution_count": 14,
   "metadata": {},
   "outputs": [],
   "source": [
    "vectorizer =  TfidfVectorizer(\n",
    "              lowercase=True, ngram_range=(2,3), analyzer='char',\n",
    "              stop_words = stop_words,\n",
    "              preprocessor=preprocessor, min_df=15, max_df=0.8)\n",
    "text = df_train_clear['sentence']\n",
    "text_vect = vectorizer.fit_transform(text)"
   ]
  },
  {
   "cell_type": "code",
   "execution_count": 15,
   "metadata": {},
   "outputs": [],
   "source": [
    "df_test   = pd.read_csv('nlp_check.csv')\n",
    "text_test = df_test['sentence']\n",
    "text_test_vect = vectorizer.transform(text_test)"
   ]
  },
  {
   "cell_type": "code",
   "execution_count": 20,
   "metadata": {},
   "outputs": [],
   "source": [
    "ll = ['fr', 'gl', 'th', 'tr', 'pt', 'ka', 'eo', 'bn', 'ro', 'en', 'bg', 'mn', 'mk', 'ar', 'hy', 'cs', 'ru', 'sl', 'et', 'da', 'fi', 'fr-ca', 'hu', 'es', 'ur', 'sk',\n",
    "      'he', 'sq', 'zh-tw', 'bs', 'de', 'uk', 'mr', 'sr', 'id', 'el', 'ja', 'sv', 'nl', 'fa', 'ta', 'nb', 'hr', 'lt', 'ms', 'ko', 'it', 'zh', 'my', 'pl', 'vi', 'be', \n",
    "      'kk', 'hi', 'az', 'ku', 'pt-br', 'eu', 'zh-cn']\n",
    "dictionary   = dict(zip(ll , np.arange(59)))\n",
    "y_train = [dictionary[df_train_clear['language'][k]] for k in range(df_train_clear.shape[0])]\n",
    "y_test  = [dictionary[df_test ['language'][k]] for k in range(df_test.shape[0])]"
   ]
  },
  {
   "cell_type": "code",
   "execution_count": 16,
   "metadata": {},
   "outputs": [],
   "source": [
    "from sklearn.linear_model import LogisticRegression"
   ]
  },
  {
   "cell_type": "code",
   "execution_count": 21,
   "metadata": {},
   "outputs": [],
   "source": [
    "classificator = LogisticRegression(solver = 'liblinear')\n",
    "classificator.fit(text_vect, y_train)\n",
    "y_train_pred = classificator.predict(text_vect)\n",
    "y_test_pred =  classificator.predict(text_test_vect)"
   ]
  },
  {
   "cell_type": "code",
   "execution_count": 23,
   "metadata": {},
   "outputs": [
    {
     "name": "stdout",
     "output_type": "stream",
     "text": [
      "Train:\n",
      "0.968051788878899\n",
      "Test:\n",
      "0.9598525540331001\n"
     ]
    }
   ],
   "source": [
    "print(\"Train:\")\n",
    "print(balanced_accuracy_score(y_train_pred, y_train))\n",
    "print(\"Test:\")\n",
    "print(balanced_accuracy_score(y_test_pred, y_test))"
   ]
  },
  {
   "cell_type": "markdown",
   "metadata": {},
   "source": [
    "Выведем confusion_matrix целиком и кусочки матрицы вокруг диагонали для наглядности."
   ]
  },
  {
   "cell_type": "code",
   "execution_count": 24,
   "metadata": {},
   "outputs": [],
   "source": [
    "from sklearn.metrics import confusion_matrix\n",
    "import seaborn as sn"
   ]
  },
  {
   "cell_type": "code",
   "execution_count": 64,
   "metadata": {},
   "outputs": [
    {
     "data": {
      "text/plain": [
       "<matplotlib.axes._subplots.AxesSubplot at 0x18c362441c8>"
      ]
     },
     "execution_count": 64,
     "metadata": {},
     "output_type": "execute_result"
    },
    {
     "data": {
      "image/png": "[encoded data removed]",
      "text/plain": [
       "<Figure size 1440x720 with 2 Axes>"
      ]
     },
     "metadata": {},
     "output_type": "display_data"
    }
   ],
   "source": [
    "df_cm = pd.DataFrame(confusion_matrix(y_test_pred, y_test))\n",
    "plt.figure(figsize = (20,10))\n",
    "sn.heatmap(df_cm, annot=False)"
   ]
  },
  {
   "cell_type": "code",
   "execution_count": 61,
   "metadata": {},
   "outputs": [
    {
     "data": {
      "text/plain": [
       "<matplotlib.axes._subplots.AxesSubplot at 0x18bf99853c8>"
      ]
     },
     "execution_count": 61,
     "metadata": {},
     "output_type": "execute_result"
    },
    {
     "data": {
      "image/png": "[encoded data removed]",
      "text/plain": [
       "<Figure size 1440x720 with 2 Axes>"
      ]
     },
     "metadata": {},
     "output_type": "display_data"
    }
   ],
   "source": [
    "df_cm = pd.DataFrame(confusion_matrix(y_test_pred, y_test)[:20,:20])\n",
    "plt.figure(figsize = (20,10))\n",
    "sn.heatmap(df_cm, annot=True)"
   ]
  },
  {
   "cell_type": "code",
   "execution_count": 62,
   "metadata": {},
   "outputs": [
    {
     "data": {
      "text/plain": [
       "<matplotlib.axes._subplots.AxesSubplot at 0x18bf9cc4e88>"
      ]
     },
     "execution_count": 62,
     "metadata": {},
     "output_type": "execute_result"
    },
    {
     "data": {
      "image/png": "[encoded data removed]",
      "text/plain": [
       "<Figure size 1440x720 with 2 Axes>"
      ]
     },
     "metadata": {},
     "output_type": "display_data"
    }
   ],
   "source": [
    "df_cm = pd.DataFrame(confusion_matrix(y_test_pred, y_test)[20:40,20:40])\n",
    "plt.figure(figsize = (20,10))\n",
    "sn.heatmap(df_cm, annot=True)"
   ]
  },
  {
   "cell_type": "code",
   "execution_count": 63,
   "metadata": {},
   "outputs": [
    {
     "data": {
      "text/plain": [
       "<matplotlib.axes._subplots.AxesSubplot at 0x18c36190608>"
      ]
     },
     "execution_count": 63,
     "metadata": {},
     "output_type": "execute_result"
    },
    {
     "data": {
      "image/png": "[encoded data removed]",
      "text/plain": [
       "<Figure size 1440x720 with 2 Axes>"
      ]
     },
     "metadata": {},
     "output_type": "display_data"
    }
   ],
   "source": [
    "df_cm = pd.DataFrame(confusion_matrix(y_test_pred, y_test)[40:,40:])\n",
    "plt.figure(figsize = (20,10))\n",
    "sn.heatmap(df_cm, annot=True)"
   ]
  },
  {
   "cell_type": "code",
   "execution_count": 81,
   "metadata": {},
   "outputs": [
    {
     "data": {
      "application/vnd.jupyter.widget-view+json": {
       "model_id": "a98253020a1349fd8e997dbe955f6afa",
       "version_major": 2,
       "version_minor": 0
      },
      "text/plain": [
       "HBox(children=(FloatProgress(value=0.0, max=59.0), HTML(value='')))"
      ]
     },
     "metadata": {},
     "output_type": "display_data"
    },
    {
     "name": "stdout",
     "output_type": "stream",
     "text": [
      "\n"
     ]
    }
   ],
   "source": [
    "redictionary = dict(zip(dictionary.values(), dictionary.keys()))\n",
    "confmatr = confusion_matrix(y_test_pred, y_test)\n",
    "prediction_err = {}\n",
    "for i in tqdm_notebook(range(59)):\n",
    "    size = len(df_test[df_test['language'] == redictionary[i]]['language'])\n",
    "    for j in range(59):\n",
    "        if not i == j and confmatr[i][j]/size > 1e-2:\n",
    "            prediction_err[(redictionary[i], redictionary[j])] = confmatr[i][j]/size"
   ]
  },
  {
   "cell_type": "code",
   "execution_count": 82,
   "metadata": {},
   "outputs": [
    {
     "data": {
      "text/plain": [
       "[(('hr', 'sl'), 0.010168650793650794),\n",
       " (('es', 'gl'), 0.010806577916992952),\n",
       " (('sk', 'cs'), 0.011760015945784333),\n",
       " (('sr', 'sl'), 0.012211308733740376),\n",
       " (('zh-cn', 'zh-tw'), 0.015392177947095149),\n",
       " (('cs', 'sk'), 0.015863585051393264),\n",
       " (('sr', 'bs'), 0.01601628174497832),\n",
       " (('zh-tw', 'zh'), 0.018689327728551124),\n",
       " (('nb', 'da'), 0.020563594821020565),\n",
       " (('zh-tw', 'zh-cn'), 0.021441316115764962),\n",
       " (('fr-ca', 'fr'), 0.0226928895612708),\n",
       " (('hr', 'bs'), 0.02941468253968254),\n",
       " (('da', 'nb'), 0.05616740088105727),\n",
       " (('id', 'ms'), 0.05978832270274059),\n",
       " (('pt', 'pt-br'), 0.06998372471518252),\n",
       " (('fr', 'fr-ca'), 0.10393736161473542),\n",
       " (('hr', 'sr'), 0.14146825396825397),\n",
       " (('sr', 'hr'), 0.16671091053889037),\n",
       " (('pt-br', 'pt'), 0.23744916327755183)]"
      ]
     },
     "execution_count": 82,
     "metadata": {},
     "output_type": "execute_result"
    }
   ],
   "source": [
    "sorted_prediction_err = sorted(prediction_err.items(), key=lambda kv: kv[1])\n",
    "sorted_prediction_err"
   ]
  },
  {
   "cell_type": "markdown",
   "metadata": {},
   "source": [
    "Чаще всего модель путает язык и его наречие."
   ]
  },
  {
   "cell_type": "code",
   "execution_count": 85,
   "metadata": {},
   "outputs": [
    {
     "data": {
      "text/plain": [
       "465     Dei-lhe medicamentos que chamamos de diurético...\n",
       "678     É da mesma idade , mas não está no lar de terc...\n",
       "889                     Então é um cometa muito recente .\n",
       "911        MR : Bem , penso que muita coisa não é minha .\n",
       "1191    Depois , a próxima coisa que fazemos é desenha...\n",
       "1314        Continuo a pensar nestes rapazes sem braços .\n",
       "1343    Precisamos de estrategistas tecnológicos na di...\n",
       "1436    A empatia aparece cedo na vida , talvez ainda ...\n",
       "1635                                        Levantem-no .\n",
       "1720    Eles criaram esta coisa chamada caixa de facto...\n",
       "Name: sentence, dtype: object"
      ]
     },
     "execution_count": 85,
     "metadata": {},
     "output_type": "execute_result"
    }
   ],
   "source": [
    "df_train_clear[df_train_clear['language'] == 'pt']['sentence'][:10]"
   ]
  },
  {
   "cell_type": "code",
   "execution_count": 86,
   "metadata": {},
   "outputs": [
    {
     "data": {
      "text/plain": [
       "75     &quot; &quot; Meu mundo &quot; &quot; nos diz ...\n",
       "94     Não penso que receber ou não elogios deveria s...\n",
       "95     cientistas nos dizem — e eles estão só chutand...\n",
       "111    Muito pequeno para ser detectado , sua proteçã...\n",
       "145    E essa conjuntura é importante , hoje , nesse ...\n",
       "189    E muitas pessoas diziam que não poderia . E ac...\n",
       "203    Como já disse , inclusive o prédio em que esta...\n",
       "205    Mark Granovetter , sociólogo de Stanford , em ...\n",
       "224                             Podemos entrar na água .\n",
       "261    Eu realmente deveria agradecer a Deus por esta...\n",
       "Name: sentence, dtype: object"
      ]
     },
     "execution_count": 86,
     "metadata": {},
     "output_type": "execute_result"
    }
   ],
   "source": [
    "df_train_clear[df_train_clear['language'] == 'pt-br']['sentence'][:10]"
   ]
  },
  {
   "cell_type": "markdown",
   "metadata": {},
   "source": [
    "Распределение по классам (кластеризация) немного отличается"
   ]
  },
  {
   "cell_type": "code",
   "execution_count": 87,
   "metadata": {},
   "outputs": [
    {
     "name": "stdout",
     "output_type": "stream",
     "text": [
      "8     7246\n",
      "52     613\n",
      "3      356\n",
      "42     224\n",
      "46     130\n",
      "22       8\n",
      "34       7\n",
      "17       4\n",
      "0        3\n",
      "21       2\n",
      "Name: class, dtype: int64\n",
      "52    26998\n",
      "8      2694\n",
      "50      159\n",
      "3        79\n",
      "46       40\n",
      "42       14\n",
      "34        3\n",
      "38        2\n",
      "6         2\n",
      "17        2\n",
      "Name: class, dtype: int64\n"
     ]
    }
   ],
   "source": [
    "print(df_test[df_test['language'] == 'pt']['class'].value_counts()[:10])\n",
    "print(df_test[df_test['language'] == 'pt-br']['class'].value_counts()[:10])"
   ]
  },
  {
   "cell_type": "code",
   "execution_count": 142,
   "metadata": {},
   "outputs": [],
   "source": [
    "markers_train = pd.read_csv('nlp_train.csv', usecols = ['class'])\n",
    "markers_train['prediction'] = y_train_pred\n",
    "markers_test = pd.read_csv('nlp_check.csv', usecols = ['class'])\n",
    "markers_test['prediction'] = y_test_pred"
   ]
  },
  {
   "cell_type": "code",
   "execution_count": 136,
   "metadata": {},
   "outputs": [],
   "source": [
    "from sklearn.tree import DecisionTreeClassifier"
   ]
  },
  {
   "cell_type": "code",
   "execution_count": 147,
   "metadata": {},
   "outputs": [
    {
     "name": "stdout",
     "output_type": "stream",
     "text": [
      "Fitting 5 folds for each of 121 candidates, totalling 605 fits\n"
     ]
    },
    {
     "name": "stderr",
     "output_type": "stream",
     "text": [
      "[Parallel(n_jobs=18)]: Using backend LokyBackend with 18 concurrent workers.\n",
      "[Parallel(n_jobs=18)]: Done  14 tasks      | elapsed:   22.5s\n",
      "[Parallel(n_jobs=18)]: Done 164 tasks      | elapsed:  3.8min\n",
      "[Parallel(n_jobs=18)]: Done 414 tasks      | elapsed:  9.4min\n",
      "[Parallel(n_jobs=18)]: Done 605 out of 605 | elapsed: 13.7min finished\n"
     ]
    },
    {
     "data": {
      "text/plain": [
       "GridSearchCV(cv=5, error_score=nan,\n",
       "             estimator=DecisionTreeClassifier(ccp_alpha=0.0, class_weight=None,\n",
       "                                              criterion='gini', max_depth=None,\n",
       "                                              max_features=None,\n",
       "                                              max_leaf_nodes=None,\n",
       "                                              min_impurity_decrease=0.0,\n",
       "                                              min_impurity_split=None,\n",
       "                                              min_samples_leaf=1,\n",
       "                                              min_samples_split=2,\n",
       "                                              min_weight_fraction_leaf=0.0,\n",
       "                                              presort='deprecated',\n",
       "                                              random_state=42,\n",
       "                                              splitter='best'),\n",
       "             iid='deprecated', n_jobs=18,\n",
       "             param_grid={'max_depth': (None, 1, 2, 3, 4, 5, 6, 7, 8, 9, 10),\n",
       "                         'min_samples_leaf': (None, 1, 2, 3, 4, 5, 6, 7, 8, 9,\n",
       "                                              10)},\n",
       "             pre_dispatch='2*n_jobs', refit=True, return_train_score=False,\n",
       "             scoring='balanced_accuracy', verbose=1)"
      ]
     },
     "execution_count": 147,
     "metadata": {},
     "output_type": "execute_result"
    }
   ],
   "source": [
    "#classificator2 = DecisionTreeClassifier(random_state = 42)\n",
    "#parameters = {\n",
    "#    'max_depth': (None, 1,2,3,4,5,6,7,8,9,10),\n",
    "#    'min_samples_leaf': (None, 1,2,3,4,5,6,7,8,9,10)\n",
    "#}\n",
    "#grid_search = GridSearchCV(classificator2, parameters, cv=5, n_jobs=18, scoring='balanced_accuracy', verbose=1)\n",
    "#grid_search.fit(markers_train, y_train)"
   ]
  },
  {
   "cell_type": "code",
   "execution_count": 152,
   "metadata": {},
   "outputs": [
    {
     "data": {
      "text/plain": [
       "DecisionTreeClassifier(ccp_alpha=0.0, class_weight=None, criterion='gini',\n",
       "                       max_depth=None, max_features=None, max_leaf_nodes=None,\n",
       "                       min_impurity_decrease=0.0, min_impurity_split=None,\n",
       "                       min_samples_leaf=1, min_samples_split=2,\n",
       "                       min_weight_fraction_leaf=0.0, presort='deprecated',\n",
       "                       random_state=42, splitter='best')"
      ]
     },
     "execution_count": 152,
     "metadata": {},
     "output_type": "execute_result"
    }
   ],
   "source": [
    "classificator2 = DecisionTreeClassifier(random_state = 42)\n",
    "classificator2.fit(markers_train, y_train)"
   ]
  },
  {
   "cell_type": "code",
   "execution_count": 153,
   "metadata": {},
   "outputs": [
    {
     "name": "stdout",
     "output_type": "stream",
     "text": [
      "Train:\n",
      "0.9727697183349734\n",
      "Test:\n",
      "0.966678350846632\n"
     ]
    }
   ],
   "source": [
    "print(\"Train:\")\n",
    "print(balanced_accuracy_score(classificator2.predict(markers_train), y_train))\n",
    "print(\"Test:\")\n",
    "print(balanced_accuracy_score(classificator2.predict(markers_test), y_test))"
   ]
  },
  {
   "cell_type": "markdown",
   "metadata": {},
   "source": [
    "## Токены с максимальной важностью"
   ]
  },
  {
   "cell_type": "code",
   "execution_count": null,
   "metadata": {},
   "outputs": [],
   "source": []
  },
  {
   "cell_type": "markdown",
   "metadata": {},
   "source": [
    "# Часть 2\n",
    "## Подготовка контрольной выборки"
   ]
  },
  {
   "cell_type": "code",
   "execution_count": 442,
   "metadata": {},
   "outputs": [
    {
     "data": {
      "text/html": [
       "<div>\n",
       "<style scoped>\n",
       "    .dataframe tbody tr th:only-of-type {\n",
       "        vertical-align: middle;\n",
       "    }\n",
       "\n",
       "    .dataframe tbody tr th {\n",
       "        vertical-align: top;\n",
       "    }\n",
       "\n",
       "    .dataframe thead th {\n",
       "        text-align: right;\n",
       "    }\n",
       "</style>\n",
       "<table border=\"1\" class=\"dataframe\">\n",
       "  <thead>\n",
       "    <tr style=\"text-align: right;\">\n",
       "      <th></th>\n",
       "      <th>sentence</th>\n",
       "      <th>language</th>\n",
       "    </tr>\n",
       "  </thead>\n",
       "  <tbody>\n",
       "    <tr>\n",
       "      <th>0</th>\n",
       "      <td>كانوا مضطرين إلى التوقف عند جزيرة كاتالينا بعد...</td>\n",
       "      <td>ar</td>\n",
       "    </tr>\n",
       "    <tr>\n",
       "      <th>1</th>\n",
       "      <td>제가 물었습니다 , “ 제가 나이가 들고 털들이 하얘지면</td>\n",
       "      <td>ko</td>\n",
       "    </tr>\n",
       "    <tr>\n",
       "      <th>2</th>\n",
       "      <td>これは 本当に 手こずったよ</td>\n",
       "      <td>ja</td>\n",
       "    </tr>\n",
       "    <tr>\n",
       "      <th>3</th>\n",
       "      <td>Για να το πετύχουμε αυτό , εμείς και οι πελάτε...</td>\n",
       "      <td>el</td>\n",
       "    </tr>\n",
       "    <tr>\n",
       "      <th>4</th>\n",
       "      <td>Во ваков случај , при ваква измама , дозволува...</td>\n",
       "      <td>mk</td>\n",
       "    </tr>\n",
       "    <tr>\n",
       "      <th>...</th>\n",
       "      <td>...</td>\n",
       "      <td>...</td>\n",
       "    </tr>\n",
       "    <tr>\n",
       "      <th>999995</th>\n",
       "      <td>อย ่ างแน ่ นอนที ่ สุดที ่ อุโมงค ์ ลม ที ่ เ...</td>\n",
       "      <td>th</td>\n",
       "    </tr>\n",
       "    <tr>\n",
       "      <th>999996</th>\n",
       "      <td>Visas kylančios ekonomikos prisijungia prie Va...</td>\n",
       "      <td>lt</td>\n",
       "    </tr>\n",
       "    <tr>\n",
       "      <th>999997</th>\n",
       "      <td>Како си остварио обе ствари ?</td>\n",
       "      <td>sr</td>\n",
       "    </tr>\n",
       "    <tr>\n",
       "      <th>999998</th>\n",
       "      <td>гэта што калі мы не яны як але ён каб дзякуй б...</td>\n",
       "      <td>ru</td>\n",
       "    </tr>\n",
       "    <tr>\n",
       "      <th>999999</th>\n",
       "      <td>що це тому ми чи дуже які щоб дякую якщо було ...</td>\n",
       "      <td>en</td>\n",
       "    </tr>\n",
       "  </tbody>\n",
       "</table>\n",
       "<p>1000000 rows × 2 columns</p>\n",
       "</div>"
      ],
      "text/plain": [
       "                                                 sentence language\n",
       "0       كانوا مضطرين إلى التوقف عند جزيرة كاتالينا بعد...       ar\n",
       "1                         제가 물었습니다 , “ 제가 나이가 들고 털들이 하얘지면       ko\n",
       "2                                          これは 本当に 手こずったよ       ja\n",
       "3       Για να το πετύχουμε αυτό , εμείς και οι πελάτε...       el\n",
       "4       Во ваков случај , при ваква измама , дозволува...       mk\n",
       "...                                                   ...      ...\n",
       "999995  อย ่ างแน ่ นอนที ่ สุดที ่ อุโมงค ์ ลม ที ่ เ...       th\n",
       "999996  Visas kylančios ekonomikos prisijungia prie Va...       lt\n",
       "999997                      Како си остварио обе ствари ?       sr\n",
       "999998  гэта што калі мы не яны як але ён каб дзякуй б...       ru\n",
       "999999  що це тому ми чи дуже які щоб дякую якщо було ...       en\n",
       "\n",
       "[1000000 rows x 2 columns]"
      ]
     },
     "execution_count": 442,
     "metadata": {},
     "output_type": "execute_result"
    }
   ],
   "source": [
    "df_test = pd.read_csv(\"./data/task7/train.csv\", skiprows = range(1,2_000_000), nrows = 1_000_000)\n",
    "df_test"
   ]
  },
  {
   "cell_type": "code",
   "execution_count": 443,
   "metadata": {},
   "outputs": [
    {
     "data": {
      "text/html": [
       "<div>\n",
       "<style scoped>\n",
       "    .dataframe tbody tr th:only-of-type {\n",
       "        vertical-align: middle;\n",
       "    }\n",
       "\n",
       "    .dataframe tbody tr th {\n",
       "        vertical-align: top;\n",
       "    }\n",
       "\n",
       "    .dataframe thead th {\n",
       "        text-align: right;\n",
       "    }\n",
       "</style>\n",
       "<table border=\"1\" class=\"dataframe\">\n",
       "  <thead>\n",
       "    <tr style=\"text-align: right;\">\n",
       "      <th></th>\n",
       "      <th>sentence</th>\n",
       "      <th>language</th>\n",
       "    </tr>\n",
       "  </thead>\n",
       "  <tbody>\n",
       "    <tr>\n",
       "      <th>0</th>\n",
       "      <td>كانوا مضطرين إلى التوقف عند جزيرة كاتالينا بعد...</td>\n",
       "      <td>ar</td>\n",
       "    </tr>\n",
       "    <tr>\n",
       "      <th>1</th>\n",
       "      <td>제가 물었습니다 , “ 제가 나이가 들고 털들이 하얘지면</td>\n",
       "      <td>ko</td>\n",
       "    </tr>\n",
       "    <tr>\n",
       "      <th>2</th>\n",
       "      <td>これは 本当に 手こずったよ</td>\n",
       "      <td>ja</td>\n",
       "    </tr>\n",
       "    <tr>\n",
       "      <th>3</th>\n",
       "      <td>Για να το πετύχουμε αυτό , εμείς και οι πελάτε...</td>\n",
       "      <td>el</td>\n",
       "    </tr>\n",
       "    <tr>\n",
       "      <th>4</th>\n",
       "      <td>Во ваков случај , при ваква измама , дозволува...</td>\n",
       "      <td>mk</td>\n",
       "    </tr>\n",
       "    <tr>\n",
       "      <th>...</th>\n",
       "      <td>...</td>\n",
       "      <td>...</td>\n",
       "    </tr>\n",
       "    <tr>\n",
       "      <th>897143</th>\n",
       "      <td>All the way back into early philosophy and cer...</td>\n",
       "      <td>en</td>\n",
       "    </tr>\n",
       "    <tr>\n",
       "      <th>897144</th>\n",
       "      <td>Tisućama je puta , možda 3.000 puta čvršća od ...</td>\n",
       "      <td>hr</td>\n",
       "    </tr>\n",
       "    <tr>\n",
       "      <th>897145</th>\n",
       "      <td>อย ่ างแน ่ นอนที ่ สุดที ่ อุโมงค ์ ลม ที ่ เ...</td>\n",
       "      <td>th</td>\n",
       "    </tr>\n",
       "    <tr>\n",
       "      <th>897146</th>\n",
       "      <td>Visas kylančios ekonomikos prisijungia prie Va...</td>\n",
       "      <td>lt</td>\n",
       "    </tr>\n",
       "    <tr>\n",
       "      <th>897147</th>\n",
       "      <td>Како си остварио обе ствари ?</td>\n",
       "      <td>sr</td>\n",
       "    </tr>\n",
       "  </tbody>\n",
       "</table>\n",
       "<p>897148 rows × 2 columns</p>\n",
       "</div>"
      ],
      "text/plain": [
       "                                                 sentence language\n",
       "0       كانوا مضطرين إلى التوقف عند جزيرة كاتالينا بعد...       ar\n",
       "1                         제가 물었습니다 , “ 제가 나이가 들고 털들이 하얘지면       ko\n",
       "2                                          これは 本当に 手こずったよ       ja\n",
       "3       Για να το πετύχουμε αυτό , εμείς και οι πελάτε...       el\n",
       "4       Во ваков случај , при ваква измама , дозволува...       mk\n",
       "...                                                   ...      ...\n",
       "897143  All the way back into early philosophy and cer...       en\n",
       "897144  Tisućama je puta , možda 3.000 puta čvršća od ...       hr\n",
       "897145  อย ่ างแน ่ นอนที ่ สุดที ่ อุโมงค ์ ลม ที ่ เ...       th\n",
       "897146  Visas kylančios ekonomikos prisijungia prie Va...       lt\n",
       "897147                      Како си остварио обе ствари ?       sr\n",
       "\n",
       "[897148 rows x 2 columns]"
      ]
     },
     "execution_count": 443,
     "metadata": {},
     "output_type": "execute_result"
    }
   ],
   "source": [
    "df_clear = df_test.loc[~df_test['sentence'].isin(errors)]\n",
    "sentences = np.array(df_clear['sentence'])\n",
    "languages = np.array(df_clear['language'])\n",
    "\n",
    "df_test_clear = pd.DataFrame()\n",
    "df_test_clear['sentence'] = sentences\n",
    "df_test_clear['language'] = languages\n",
    "df_test_clear"
   ]
  },
  {
   "cell_type": "code",
   "execution_count": 444,
   "metadata": {},
   "outputs": [
    {
     "data": {
      "application/vnd.jupyter.widget-view+json": {
       "model_id": "c136b2c9e8b84b549e54c74107863a33",
       "version_major": 2,
       "version_minor": 0
      },
      "text/plain": [
       "HBox(children=(FloatProgress(value=0.0, max=897148.0), HTML(value='')))"
      ]
     },
     "metadata": {},
     "output_type": "display_data"
    },
    {
     "name": "stdout",
     "output_type": "stream",
     "text": [
      "\n"
     ]
    }
   ],
   "source": [
    "corpus   = df_test_clear['sentence']\n",
    "language = df_test_clear['language']\n",
    "sentence_dataset = prepare_sentence_dataset(corpus, language)"
   ]
  },
  {
   "cell_type": "code",
   "execution_count": 445,
   "metadata": {},
   "outputs": [
    {
     "data": {
      "application/vnd.jupyter.widget-view+json": {
       "model_id": "fff364818b6448df874c69fda16fcb3b",
       "version_major": 2,
       "version_minor": 0
      },
      "text/plain": [
       "HBox(children=(FloatProgress(value=0.0, max=897148.0), HTML(value='')))"
      ]
     },
     "metadata": {},
     "output_type": "display_data"
    },
    {
     "name": "stdout",
     "output_type": "stream",
     "text": [
      "\n"
     ]
    }
   ],
   "source": [
    "talk2vec = np.concatenate([embed_text(sentence, word2index, embeddings)  for sentence in tqdm_notebook(sentence_dataset)])"
   ]
  },
  {
   "cell_type": "code",
   "execution_count": 446,
   "metadata": {},
   "outputs": [],
   "source": [
    "markers = cluster_model.predict(talk2vec)"
   ]
  },
  {
   "cell_type": "code",
   "execution_count": 449,
   "metadata": {},
   "outputs": [
    {
     "data": {
      "text/html": [
       "<div>\n",
       "<style scoped>\n",
       "    .dataframe tbody tr th:only-of-type {\n",
       "        vertical-align: middle;\n",
       "    }\n",
       "\n",
       "    .dataframe tbody tr th {\n",
       "        vertical-align: top;\n",
       "    }\n",
       "\n",
       "    .dataframe thead th {\n",
       "        text-align: right;\n",
       "    }\n",
       "</style>\n",
       "<table border=\"1\" class=\"dataframe\">\n",
       "  <thead>\n",
       "    <tr style=\"text-align: right;\">\n",
       "      <th></th>\n",
       "      <th>sentence</th>\n",
       "      <th>language</th>\n",
       "      <th>class</th>\n",
       "    </tr>\n",
       "  </thead>\n",
       "  <tbody>\n",
       "    <tr>\n",
       "      <th>0</th>\n",
       "      <td>كانوا مضطرين إلى التوقف عند جزيرة كاتالينا بعد...</td>\n",
       "      <td>ar</td>\n",
       "      <td>37</td>\n",
       "    </tr>\n",
       "    <tr>\n",
       "      <th>1</th>\n",
       "      <td>제가 물었습니다 , “ 제가 나이가 들고 털들이 하얘지면</td>\n",
       "      <td>ko</td>\n",
       "      <td>31</td>\n",
       "    </tr>\n",
       "    <tr>\n",
       "      <th>2</th>\n",
       "      <td>これは 本当に 手こずったよ</td>\n",
       "      <td>ja</td>\n",
       "      <td>44</td>\n",
       "    </tr>\n",
       "    <tr>\n",
       "      <th>3</th>\n",
       "      <td>Για να το πετύχουμε αυτό , εμείς και οι πελάτε...</td>\n",
       "      <td>el</td>\n",
       "      <td>30</td>\n",
       "    </tr>\n",
       "    <tr>\n",
       "      <th>4</th>\n",
       "      <td>Во ваков случај , при ваква измама , дозволува...</td>\n",
       "      <td>mk</td>\n",
       "      <td>27</td>\n",
       "    </tr>\n",
       "    <tr>\n",
       "      <th>...</th>\n",
       "      <td>...</td>\n",
       "      <td>...</td>\n",
       "      <td>...</td>\n",
       "    </tr>\n",
       "    <tr>\n",
       "      <th>897143</th>\n",
       "      <td>All the way back into early philosophy and cer...</td>\n",
       "      <td>en</td>\n",
       "      <td>17</td>\n",
       "    </tr>\n",
       "    <tr>\n",
       "      <th>897144</th>\n",
       "      <td>Tisućama je puta , možda 3.000 puta čvršća od ...</td>\n",
       "      <td>hr</td>\n",
       "      <td>58</td>\n",
       "    </tr>\n",
       "    <tr>\n",
       "      <th>897145</th>\n",
       "      <td>อย ่ างแน ่ นอนที ่ สุดที ่ อุโมงค ์ ลม ที ่ เ...</td>\n",
       "      <td>th</td>\n",
       "      <td>11</td>\n",
       "    </tr>\n",
       "    <tr>\n",
       "      <th>897146</th>\n",
       "      <td>Visas kylančios ekonomikos prisijungia prie Va...</td>\n",
       "      <td>lt</td>\n",
       "      <td>33</td>\n",
       "    </tr>\n",
       "    <tr>\n",
       "      <th>897147</th>\n",
       "      <td>Како си остварио обе ствари ?</td>\n",
       "      <td>sr</td>\n",
       "      <td>27</td>\n",
       "    </tr>\n",
       "  </tbody>\n",
       "</table>\n",
       "<p>897148 rows × 3 columns</p>\n",
       "</div>"
      ],
      "text/plain": [
       "                                                 sentence language  class\n",
       "0       كانوا مضطرين إلى التوقف عند جزيرة كاتالينا بعد...       ar     37\n",
       "1                         제가 물었습니다 , “ 제가 나이가 들고 털들이 하얘지면       ko     31\n",
       "2                                          これは 本当に 手こずったよ       ja     44\n",
       "3       Για να το πετύχουμε αυτό , εμείς και οι πελάτε...       el     30\n",
       "4       Во ваков случај , при ваква измама , дозволува...       mk     27\n",
       "...                                                   ...      ...    ...\n",
       "897143  All the way back into early philosophy and cer...       en     17\n",
       "897144  Tisućama je puta , možda 3.000 puta čvršća od ...       hr     58\n",
       "897145  อย ่ างแน ่ นอนที ่ สุดที ่ อุโมงค ์ ลม ที ่ เ...       th     11\n",
       "897146  Visas kylančios ekonomikos prisijungia prie Va...       lt     33\n",
       "897147                      Како си остварио обе ствари ?       sr     27\n",
       "\n",
       "[897148 rows x 3 columns]"
      ]
     },
     "execution_count": 449,
     "metadata": {},
     "output_type": "execute_result"
    }
   ],
   "source": [
    "df_test_clear['class'] = markers\n",
    "#df_test_clear.to_csv('nlp_check.csv')\n",
    "df_test_clear"
   ]
  },
  {
   "cell_type": "markdown",
   "metadata": {},
   "source": [
    "## Подготовка тестовой выборки"
   ]
  },
  {
   "cell_type": "code",
   "execution_count": 3,
   "metadata": {},
   "outputs": [],
   "source": [
    "df_test = pd.read_csv(\"./data/task7/test.csv\")\n",
    "df_test_clear = df_test"
   ]
  },
  {
   "cell_type": "code",
   "execution_count": 457,
   "metadata": {},
   "outputs": [],
   "source": [
    "def prepare_sentence_dataset_test(text):\n",
    "    tokenized_sentences = []\n",
    "    for temp in tqdm_notebook(range(len(text))):\n",
    "        sentence = text[temp]\n",
    "        stopword_set = stop_words\n",
    "        tokenized_sentences.append(\n",
    "            [token for token in nltk.tokenize.casual_tokenize(preprocessor(sentence)) if token not in stopword_set]\n",
    "        )\n",
    "    return tokenized_sentences"
   ]
  },
  {
   "cell_type": "code",
   "execution_count": 459,
   "metadata": {},
   "outputs": [
    {
     "data": {
      "application/vnd.jupyter.widget-view+json": {
       "model_id": "c5e5c65a35ed42169233970ae2ab565d",
       "version_major": 2,
       "version_minor": 0
      },
      "text/plain": [
       "HBox(children=(FloatProgress(value=0.0, max=2784634.0), HTML(value='')))"
      ]
     },
     "metadata": {},
     "output_type": "display_data"
    },
    {
     "name": "stdout",
     "output_type": "stream",
     "text": [
      "\n"
     ]
    }
   ],
   "source": [
    "corpus   = df_test_clear['sentence']\n",
    "sentence_dataset = prepare_sentence_dataset_test(corpus)"
   ]
  },
  {
   "cell_type": "code",
   "execution_count": 460,
   "metadata": {},
   "outputs": [
    {
     "data": {
      "application/vnd.jupyter.widget-view+json": {
       "model_id": "f7be35919f404066a304606a87d1a3c7",
       "version_major": 2,
       "version_minor": 0
      },
      "text/plain": [
       "HBox(children=(FloatProgress(value=0.0, max=2784634.0), HTML(value='')))"
      ]
     },
     "metadata": {},
     "output_type": "display_data"
    },
    {
     "name": "stdout",
     "output_type": "stream",
     "text": [
      "\n"
     ]
    }
   ],
   "source": [
    "talk2vec = np.concatenate([embed_text(sentence, word2index, embeddings)  for sentence in tqdm_notebook(sentence_dataset)])"
   ]
  },
  {
   "cell_type": "code",
   "execution_count": 463,
   "metadata": {},
   "outputs": [],
   "source": [
    "markers = cluster_model.predict(talk2vec)"
   ]
  },
  {
   "cell_type": "code",
   "execution_count": 465,
   "metadata": {},
   "outputs": [
    {
     "data": {
      "text/html": [
       "<div>\n",
       "<style scoped>\n",
       "    .dataframe tbody tr th:only-of-type {\n",
       "        vertical-align: middle;\n",
       "    }\n",
       "\n",
       "    .dataframe tbody tr th {\n",
       "        vertical-align: top;\n",
       "    }\n",
       "\n",
       "    .dataframe thead th {\n",
       "        text-align: right;\n",
       "    }\n",
       "</style>\n",
       "<table border=\"1\" class=\"dataframe\">\n",
       "  <thead>\n",
       "    <tr style=\"text-align: right;\">\n",
       "      <th></th>\n",
       "      <th>index</th>\n",
       "      <th>sentence</th>\n",
       "      <th>class</th>\n",
       "    </tr>\n",
       "  </thead>\n",
       "  <tbody>\n",
       "    <tr>\n",
       "      <th>0</th>\n",
       "      <td>0</td>\n",
       "      <td>תודה לכם .</td>\n",
       "      <td>43</td>\n",
       "    </tr>\n",
       "    <tr>\n",
       "      <th>1</th>\n",
       "      <td>1</td>\n",
       "      <td>Precisamos de compaixão para começar , e auto-...</td>\n",
       "      <td>8</td>\n",
       "    </tr>\n",
       "    <tr>\n",
       "      <th>2</th>\n",
       "      <td>2</td>\n",
       "      <td>這個增長相當大 ， 並且它將引發經濟的增長 。</td>\n",
       "      <td>55</td>\n",
       "    </tr>\n",
       "    <tr>\n",
       "      <th>3</th>\n",
       "      <td>3</td>\n",
       "      <td>시애틀에서 자란 제가 처음 가난을 보게 되던 때를 기억해요 .</td>\n",
       "      <td>31</td>\n",
       "    </tr>\n",
       "    <tr>\n",
       "      <th>4</th>\n",
       "      <td>4</td>\n",
       "      <td>これをロボットに組み込みました</td>\n",
       "      <td>3</td>\n",
       "    </tr>\n",
       "    <tr>\n",
       "      <th>...</th>\n",
       "      <td>...</td>\n",
       "      <td>...</td>\n",
       "      <td>...</td>\n",
       "    </tr>\n",
       "    <tr>\n",
       "      <th>2784629</th>\n",
       "      <td>2784629</td>\n",
       "      <td>Kako bilo , upravo tada se pojavio jedan autor...</td>\n",
       "      <td>6</td>\n",
       "    </tr>\n",
       "    <tr>\n",
       "      <th>2784630</th>\n",
       "      <td>2784630</td>\n",
       "      <td>Y la pequeña victoria que siento cuando lo hag...</td>\n",
       "      <td>21</td>\n",
       "    </tr>\n",
       "    <tr>\n",
       "      <th>2784631</th>\n",
       "      <td>2784631</td>\n",
       "      <td>Prečo ? Lebo je to v každom z nás .</td>\n",
       "      <td>26</td>\n",
       "    </tr>\n",
       "    <tr>\n",
       "      <th>2784632</th>\n",
       "      <td>2784632</td>\n",
       "      <td>IBM과 USDA과 같이 하고 있습니다 . 이를 저작권 보호가 없는 퍼블릭 도메인에...</td>\n",
       "      <td>31</td>\n",
       "    </tr>\n",
       "    <tr>\n",
       "      <th>2784633</th>\n",
       "      <td>2784633</td>\n",
       "      <td>换而言之 ， 我们的恐惧让我们想到未来 。</td>\n",
       "      <td>55</td>\n",
       "    </tr>\n",
       "  </tbody>\n",
       "</table>\n",
       "<p>2784634 rows × 3 columns</p>\n",
       "</div>"
      ],
      "text/plain": [
       "           index                                           sentence  class\n",
       "0              0                                         תודה לכם .     43\n",
       "1              1  Precisamos de compaixão para começar , e auto-...      8\n",
       "2              2                            這個增長相當大 ， 並且它將引發經濟的增長 。     55\n",
       "3              3                 시애틀에서 자란 제가 처음 가난을 보게 되던 때를 기억해요 .     31\n",
       "4              4                                    これをロボットに組み込みました      3\n",
       "...          ...                                                ...    ...\n",
       "2784629  2784629  Kako bilo , upravo tada se pojavio jedan autor...      6\n",
       "2784630  2784630  Y la pequeña victoria que siento cuando lo hag...     21\n",
       "2784631  2784631                Prečo ? Lebo je to v každom z nás .     26\n",
       "2784632  2784632  IBM과 USDA과 같이 하고 있습니다 . 이를 저작권 보호가 없는 퍼블릭 도메인에...     31\n",
       "2784633  2784633                              换而言之 ， 我们的恐惧让我们想到未来 。     55\n",
       "\n",
       "[2784634 rows x 3 columns]"
      ]
     },
     "execution_count": 465,
     "metadata": {},
     "output_type": "execute_result"
    }
   ],
   "source": [
    "df_test_clear['class'] = markers\n",
    "#df_test_clear.to_csv('nlp_test.csv')\n",
    "df_test_clear"
   ]
  },
  {
   "cell_type": "markdown",
   "metadata": {},
   "source": [
    "## Модель"
   ]
  },
  {
   "cell_type": "code",
   "execution_count": 154,
   "metadata": {},
   "outputs": [],
   "source": [
    "df_test = pd.read_csv(\"nlp_test.csv\")"
   ]
  },
  {
   "cell_type": "code",
   "execution_count": 155,
   "metadata": {},
   "outputs": [],
   "source": [
    "text_test = df_test['sentence']\n",
    "text_test_vect = vectorizer.transform(text_test)"
   ]
  },
  {
   "cell_type": "code",
   "execution_count": 156,
   "metadata": {},
   "outputs": [],
   "source": [
    "y_test_pred =  classificator.predict(text_test_vect)"
   ]
  },
  {
   "cell_type": "code",
   "execution_count": 168,
   "metadata": {},
   "outputs": [],
   "source": [
    "submission_df = pd.DataFrame()\n",
    "#y_test_pred_lang = [redictionary[y_test_pred[k]] for k in range(len(y_test_pred))]\n",
    "submission_df['index'] = np.arange(2784634)\n",
    "submission_df['language'] = y_test_pred_lang\n",
    "submission_df.to_csv('Submition1.csv', index = False)"
   ]
  },
  {
   "cell_type": "code",
   "execution_count": 170,
   "metadata": {},
   "outputs": [],
   "source": [
    "markers_test = pd.read_csv('nlp_test.csv', usecols = ['class'])\n",
    "markers_test['prediction'] = y_test_pred"
   ]
  },
  {
   "cell_type": "code",
   "execution_count": 171,
   "metadata": {},
   "outputs": [],
   "source": [
    "y_test_pred2 = classificator2.predict(markers_test)"
   ]
  },
  {
   "cell_type": "code",
   "execution_count": 177,
   "metadata": {},
   "outputs": [],
   "source": [
    "submission_df = pd.DataFrame()\n",
    "y_test_pred_lang2 = [redictionary[y_test_pred2[k]] for k in range(len(y_test_pred))]\n",
    "submission_df['index'] = np.arange(2784634)\n",
    "submission_df['language'] = y_test_pred_lang2\n",
    "submission_df.to_csv('Submition2.csv', index = False)"
   ]
  }
 ],
 "metadata": {
  "kernelspec": {
   "display_name": "Python 3",
   "language": "python",
   "name": "python3"
  },
  "language_info": {
   "codemirror_mode": {
    "name": "ipython",
    "version": 3
   },
   "file_extension": ".py",
   "mimetype": "text/x-python",
   "name": "python",
   "nbconvert_exporter": "python",
   "pygments_lexer": "ipython3",
   "version": "3.7.6"
  }
 },
 "nbformat": 4,
 "nbformat_minor": 4
}
